{
 "cells": [
  {
   "cell_type": "markdown",
   "metadata": {},
   "source": [
    "thanks https://www.kaggle.com/geekysaint , for the very clear guide on basic ML and pytorch concepts\n",
    "https://www.kaggle.com/code/geekysaint/solving-mnist-using-pytorch"
   ]
  },
  {
   "cell_type": "code",
   "execution_count": 3,
   "metadata": {},
   "outputs": [],
   "source": [
    "## Imports\n",
    "import torch\n",
    "import torchvision ## Contains some utilities for working with the image data\n",
    "from torchvision.datasets import MNIST\n",
    "import matplotlib.pyplot as plt\n",
    "#%matplotlib inline\n",
    "import torchvision.transforms as transforms\n",
    "from torch.utils.data import random_split\n",
    "from torch.utils.data import DataLoader\n",
    "import torch.nn.functional as F"
   ]
  },
  {
   "cell_type": "markdown",
   "metadata": {},
   "source": [
    "## dataset analysis"
   ]
  },
  {
   "cell_type": "code",
   "execution_count": 7,
   "metadata": {},
   "outputs": [],
   "source": [
    "data_dir = '../../../data/kaggle/'"
   ]
  },
  {
   "cell_type": "code",
   "execution_count": 8,
   "metadata": {},
   "outputs": [
    {
     "name": "stdout",
     "output_type": "stream",
     "text": [
      "Downloading http://yann.lecun.com/exdb/mnist/train-images-idx3-ubyte.gz\n",
      "Failed to download (trying next):\n",
      "HTTP Error 403: Forbidden\n",
      "\n",
      "Downloading https://ossci-datasets.s3.amazonaws.com/mnist/train-images-idx3-ubyte.gz\n",
      "Downloading https://ossci-datasets.s3.amazonaws.com/mnist/train-images-idx3-ubyte.gz to ../../../data/kaggle/MNIST/raw/train-images-idx3-ubyte.gz\n"
     ]
    },
    {
     "name": "stderr",
     "output_type": "stream",
     "text": [
      "100%|██████████| 9.91M/9.91M [00:01<00:00, 5.67MB/s]\n"
     ]
    },
    {
     "name": "stdout",
     "output_type": "stream",
     "text": [
      "Extracting ../../../data/kaggle/MNIST/raw/train-images-idx3-ubyte.gz to ../../../data/kaggle/MNIST/raw\n",
      "\n",
      "Downloading http://yann.lecun.com/exdb/mnist/train-labels-idx1-ubyte.gz\n",
      "Failed to download (trying next):\n",
      "HTTP Error 403: Forbidden\n",
      "\n",
      "Downloading https://ossci-datasets.s3.amazonaws.com/mnist/train-labels-idx1-ubyte.gz\n",
      "Downloading https://ossci-datasets.s3.amazonaws.com/mnist/train-labels-idx1-ubyte.gz to ../../../data/kaggle/MNIST/raw/train-labels-idx1-ubyte.gz\n"
     ]
    },
    {
     "name": "stderr",
     "output_type": "stream",
     "text": [
      "100%|██████████| 28.9k/28.9k [00:00<00:00, 448kB/s]\n"
     ]
    },
    {
     "name": "stdout",
     "output_type": "stream",
     "text": [
      "Extracting ../../../data/kaggle/MNIST/raw/train-labels-idx1-ubyte.gz to ../../../data/kaggle/MNIST/raw\n",
      "\n",
      "Downloading http://yann.lecun.com/exdb/mnist/t10k-images-idx3-ubyte.gz\n",
      "Failed to download (trying next):\n",
      "HTTP Error 403: Forbidden\n",
      "\n",
      "Downloading https://ossci-datasets.s3.amazonaws.com/mnist/t10k-images-idx3-ubyte.gz\n",
      "Downloading https://ossci-datasets.s3.amazonaws.com/mnist/t10k-images-idx3-ubyte.gz to ../../../data/kaggle/MNIST/raw/t10k-images-idx3-ubyte.gz\n"
     ]
    },
    {
     "name": "stderr",
     "output_type": "stream",
     "text": [
      "100%|██████████| 1.65M/1.65M [00:00<00:00, 3.76MB/s]\n"
     ]
    },
    {
     "name": "stdout",
     "output_type": "stream",
     "text": [
      "Extracting ../../../data/kaggle/MNIST/raw/t10k-images-idx3-ubyte.gz to ../../../data/kaggle/MNIST/raw\n",
      "\n",
      "Downloading http://yann.lecun.com/exdb/mnist/t10k-labels-idx1-ubyte.gz\n",
      "Failed to download (trying next):\n",
      "HTTP Error 403: Forbidden\n",
      "\n",
      "Downloading https://ossci-datasets.s3.amazonaws.com/mnist/t10k-labels-idx1-ubyte.gz\n",
      "Downloading https://ossci-datasets.s3.amazonaws.com/mnist/t10k-labels-idx1-ubyte.gz to ../../../data/kaggle/MNIST/raw/t10k-labels-idx1-ubyte.gz\n"
     ]
    },
    {
     "name": "stderr",
     "output_type": "stream",
     "text": [
      "100%|██████████| 4.54k/4.54k [00:00<00:00, 1.60MB/s]"
     ]
    },
    {
     "name": "stdout",
     "output_type": "stream",
     "text": [
      "Extracting ../../../data/kaggle/MNIST/raw/t10k-labels-idx1-ubyte.gz to ../../../data/kaggle/MNIST/raw\n",
      "\n",
      "60000\n"
     ]
    },
    {
     "name": "stderr",
     "output_type": "stream",
     "text": [
      "\n"
     ]
    }
   ],
   "source": [
    "dataset = MNIST(root = data_dir, download = True)\n",
    "print(len(dataset))"
   ]
  },
  {
   "cell_type": "code",
   "execution_count": 13,
   "metadata": {},
   "outputs": [
    {
     "name": "stdout",
     "output_type": "stream",
     "text": [
      "Label: 9\n"
     ]
    },
    {
     "data": {
      "image/png": "[encoded data removed]",
      "text/plain": [
       "<Figure size 640x480 with 1 Axes>"
      ]
     },
     "metadata": {},
     "output_type": "display_data"
    }
   ],
   "source": [
    "image, label = dataset[4]\n",
    "plt.imshow(image, cmap = 'gray')\n",
    "print('Label:', label)"
   ]
  },
  {
   "cell_type": "code",
   "execution_count": 14,
   "metadata": {},
   "outputs": [
    {
     "name": "stdout",
     "output_type": "stream",
     "text": [
      "Dataset MNIST\n",
      "    Number of datapoints: 60000\n",
      "    Root location: ../../../data/kaggle/\n",
      "    Split: Train\n",
      "    StandardTransform\n",
      "Transform: ToTensor()\n"
     ]
    }
   ],
   "source": [
    "## MNIST dataset(images and labels)\n",
    "mnist_dataset = MNIST(root = data_dir, train = True, transform = transforms.ToTensor())\n",
    "print(mnist_dataset)"
   ]
  },
  {
   "cell_type": "code",
   "execution_count": 18,
   "metadata": {},
   "outputs": [
    {
     "name": "stdout",
     "output_type": "stream",
     "text": [
      "torch.Size([1, 28, 28]) 9\n"
     ]
    }
   ],
   "source": [
    "image_tensor, label = mnist_dataset[4]\n",
    "print(image_tensor.shape, label)"
   ]
  },
  {
   "cell_type": "code",
   "execution_count": 19,
   "metadata": {},
   "outputs": [
    {
     "name": "stdout",
     "output_type": "stream",
     "text": [
      "tensor([[[0.9882, 0.9882, 0.7176, 0.0549, 0.0000],\n",
      "         [0.9882, 0.5725, 0.0549, 0.0000, 0.0000],\n",
      "         [0.6902, 0.0353, 0.0000, 0.0000, 0.0314],\n",
      "         [0.0000, 0.0000, 0.0000, 0.1412, 0.7882],\n",
      "         [0.0863, 0.4667, 0.7725, 0.9451, 0.9922]]])\n",
      "tensor(1.) tensor(0.)\n"
     ]
    }
   ],
   "source": [
    "# print tensor region from 10 to 15 in both dimensions\n",
    "print(image_tensor[:,10:15,10:15])\n",
    "print(torch.max(image_tensor), torch.min(image_tensor))"
   ]
  },
  {
   "cell_type": "code",
   "execution_count": 20,
   "metadata": {},
   "outputs": [
    {
     "data": {
      "text/plain": [
       "<matplotlib.image.AxesImage at 0x13d0f4490>"
      ]
     },
     "execution_count": 20,
     "metadata": {},
     "output_type": "execute_result"
    },
    {
     "data": {
      "image/png": "[encoded data removed]",
      "text/plain": [
       "<Figure size 640x480 with 1 Axes>"
      ]
     },
     "metadata": {},
     "output_type": "display_data"
    }
   ],
   "source": [
    "## Plot the image of the tensor\n",
    "plt.imshow(image_tensor[0,10:15,10:15],cmap = 'gray')"
   ]
  },
  {
   "cell_type": "markdown",
   "metadata": {},
   "source": [
    "## training and validation"
   ]
  },
  {
   "cell_type": "code",
   "execution_count": 21,
   "metadata": {},
   "outputs": [
    {
     "name": "stdout",
     "output_type": "stream",
     "text": [
      "length of Train Datasets:  50000\n",
      "length of Validation Datasets:  10000\n"
     ]
    }
   ],
   "source": [
    "train_data, validation_data = random_split(mnist_dataset, [50000, 10000])\n",
    "## Print the length of train and validation datasets\n",
    "print(\"length of Train Datasets: \", len(train_data))\n",
    "print(\"length of Validation Datasets: \", len(validation_data))"
   ]
  },
  {
   "cell_type": "code",
   "execution_count": 22,
   "metadata": {},
   "outputs": [],
   "source": [
    "batch_size = 128\n",
    "train_loader = DataLoader(train_data, batch_size, shuffle = True)\n",
    "val_loader = DataLoader(validation_data, batch_size, shuffle = False)"
   ]
  },
  {
   "cell_type": "markdown",
   "metadata": {},
   "source": [
    "## model"
   ]
  },
  {
   "cell_type": "code",
   "execution_count": 23,
   "metadata": {},
   "outputs": [
    {
     "name": "stdout",
     "output_type": "stream",
     "text": [
      "torch.Size([10, 784])\n",
      "Parameter containing:\n",
      "tensor([[ 0.0316, -0.0335,  0.0103,  ..., -0.0194, -0.0055,  0.0032],\n",
      "        [-0.0063,  0.0274, -0.0032,  ...,  0.0224, -0.0166,  0.0281],\n",
      "        [-0.0187, -0.0217, -0.0320,  ...,  0.0051, -0.0076,  0.0081],\n",
      "        ...,\n",
      "        [-0.0274, -0.0215,  0.0270,  ...,  0.0017, -0.0139, -0.0328],\n",
      "        [ 0.0088,  0.0156,  0.0308,  ...,  0.0063, -0.0012,  0.0158],\n",
      "        [-0.0224,  0.0190,  0.0298,  ...,  0.0127,  0.0053,  0.0083]],\n",
      "       requires_grad=True)\n",
      "torch.Size([10])\n",
      "Parameter containing:\n",
      "tensor([-0.0221, -0.0273, -0.0187, -0.0099,  0.0230,  0.0109, -0.0239, -0.0036,\n",
      "         0.0303, -0.0225], requires_grad=True)\n"
     ]
    }
   ],
   "source": [
    "import torch.nn as nn\n",
    "\n",
    "input_size = 28 * 28\n",
    "num_classes = 10\n",
    "\n",
    "## Logistic regression model\n",
    "model = nn.Linear(input_size, num_classes)\n",
    "print(model.weight.shape)\n",
    "print(model.weight)\n",
    "print(model.bias.shape)\n",
    "print(model.bias)"
   ]
  },
  {
   "cell_type": "code",
   "execution_count": 36,
   "metadata": {},
   "outputs": [
    {
     "name": "stdout",
     "output_type": "stream",
     "text": [
      "torch.Size([10, 784]) torch.Size([10])\n"
     ]
    }
   ],
   "source": [
    "class MnistModel(nn.Module):\n",
    "    def __init__(self):\n",
    "        super().__init__()\n",
    "        self.linear = nn.Linear(input_size, num_classes)\n",
    "    \n",
    "    def forward(self, xb):\n",
    "        xb = xb.reshape(-1, 784)\n",
    "        out = self.linear(xb)\n",
    "        return(out)\n",
    "    \n",
    "    def training_step(self, batch):\n",
    "        images, labels = batch\n",
    "        out = self(images) ## Generate predictions\n",
    "        loss = F.cross_entropy(out, labels) ## Calculate the loss\n",
    "        return(loss)\n",
    "    \n",
    "    def validation_step(self, batch):\n",
    "        images, labels = batch\n",
    "        out = self(images)\n",
    "        loss = F.cross_entropy(out, labels)\n",
    "        acc = accuracy(out, labels)\n",
    "        return({'val_loss':loss, 'val_acc': acc})\n",
    "    \n",
    "    def validation_epoch_end(self, outputs):\n",
    "        batch_losses = [x['val_loss'] for x in outputs]\n",
    "        epoch_loss = torch.stack(batch_losses).mean()\n",
    "        batch_accs = [x['val_acc'] for x in outputs]\n",
    "        epoch_acc = torch.stack(batch_accs).mean()\n",
    "        return({'val_loss': epoch_loss.item(), 'val_acc' : epoch_acc.item()})\n",
    "    \n",
    "    def epoch_end(self, epoch,result):\n",
    "        print(\"Epoch [{}], val_loss: {:.4f}, val_acc: {:.4f}\".format(epoch, result['val_loss'], result['val_acc']))\n",
    "        \n",
    "    \n",
    "model = MnistModel()\n",
    "print(model.linear.weight.shape, model.linear.bias.shape)"
   ]
  },
  {
   "cell_type": "code",
   "execution_count": 29,
   "metadata": {},
   "outputs": [
    {
     "name": "stdout",
     "output_type": "stream",
     "text": [
      "outputs shape:  torch.Size([128, 10])\n",
      "Sample outputs: \n",
      " tensor([[-0.1785, -0.0248,  0.0739, -0.0860,  0.0215, -0.0841, -0.1646, -0.1531,\n",
      "          0.3629, -0.0141],\n",
      "        [-0.1176,  0.2131,  0.0604, -0.0941,  0.1691, -0.0325, -0.0888, -0.1831,\n",
      "          0.3255,  0.0164]])\n"
     ]
    }
   ],
   "source": [
    "for images, labels in train_loader:\n",
    "    outputs = model(images)\n",
    "    break\n",
    "    \n",
    "print('outputs shape: ', outputs.shape)\n",
    "print('Sample outputs: \\n', outputs[:2].data)"
   ]
  },
  {
   "cell_type": "markdown",
   "metadata": {},
   "source": [
    "## probabilistic normalization\n",
    "### softmax\n",
    "like logisitic regresion but for multiple exclusive classes\n",
    "turns logits into probabilities by normalizing distances with exponential\n"
   ]
  },
  {
   "cell_type": "code",
   "execution_count": 31,
   "metadata": {},
   "outputs": [
    {
     "name": "stdout",
     "output_type": "stream",
     "text": [
      "Sample probabilities:\n",
      " tensor([[0.0847, 0.0988, 0.1090, 0.0929, 0.1034, 0.0931, 0.0859, 0.0869, 0.1455,\n",
      "         0.0998],\n",
      "        [0.0855, 0.1190, 0.1021, 0.0875, 0.1139, 0.0931, 0.0880, 0.0801, 0.1332,\n",
      "         0.0977]])\n",
      "\n",
      "\n",
      "Sum:  0.9999998807907104\n",
      "\n",
      "\n",
      "tensor([8, 8, 1, 8, 8, 1, 1, 8, 8, 8, 8, 1, 1, 4, 8, 8, 1, 8, 8, 8, 8, 8, 8, 8,\n",
      "        8, 8, 8, 6, 8, 8, 0, 1, 8, 5, 1, 8, 2, 1, 1, 4, 8, 2, 4, 8, 9, 8, 8, 0,\n",
      "        8, 8, 8, 1, 1, 8, 4, 2, 8, 1, 8, 8, 5, 8, 8, 0, 4, 8, 4, 1, 1, 8, 1, 1,\n",
      "        1, 8, 8, 4, 1, 5, 1, 8, 8, 8, 8, 8, 8, 1, 1, 8, 0, 4, 6, 8, 8, 8, 5, 5,\n",
      "        8, 8, 8, 8, 8, 1, 8, 8, 1, 5, 8, 8, 8, 8, 5, 4, 1, 8, 4, 4, 8, 1, 8, 1,\n",
      "        8, 8, 1, 8, 8, 8, 8, 8])\n",
      "\n",
      "\n",
      "tensor([0.1455, 0.1332, 0.1510, 0.1458, 0.1493, 0.1537, 0.1641, 0.1363, 0.1203,\n",
      "        0.1344, 0.1323, 0.1353, 0.1194, 0.1395, 0.1449, 0.1730, 0.1222, 0.1439,\n",
      "        0.1333, 0.1351, 0.1493, 0.1502, 0.1470, 0.1410, 0.1262, 0.1719, 0.1644,\n",
      "        0.1170, 0.1439, 0.1489, 0.1375, 0.1520, 0.1364, 0.1428, 0.1547, 0.1162,\n",
      "        0.1137, 0.1409, 0.1212, 0.1209, 0.1358, 0.1281, 0.1226, 0.1263, 0.1194,\n",
      "        0.1360, 0.1469, 0.1267, 0.1274, 0.1709, 0.1600, 0.1216, 0.1552, 0.1488,\n",
      "        0.1284, 0.1397, 0.1367, 0.1185, 0.1427, 0.1308, 0.1295, 0.1530, 0.1394,\n",
      "        0.1522, 0.1175, 0.1393, 0.1227, 0.1363, 0.1402, 0.1373, 0.1391, 0.1361,\n",
      "        0.1250, 0.1300, 0.1309, 0.1282, 0.1697, 0.1379, 0.1393, 0.1524, 0.1217,\n",
      "        0.1404, 0.1212, 0.1529, 0.1417, 0.1388, 0.1346, 0.1495, 0.1425, 0.1176,\n",
      "        0.1239, 0.1347, 0.1344, 0.1311, 0.1264, 0.1178, 0.1510, 0.1312, 0.1670,\n",
      "        0.1562, 0.1114, 0.1363, 0.1424, 0.1496, 0.1623, 0.1282, 0.1441, 0.1614,\n",
      "        0.1449, 0.1672, 0.1257, 0.1324, 0.1570, 0.1620, 0.1148, 0.1277, 0.1414,\n",
      "        0.1307, 0.1322, 0.1454, 0.1599, 0.1395, 0.1532, 0.1448, 0.1573, 0.1598,\n",
      "        0.1408, 0.1381], grad_fn=<MaxBackward0>)\n"
     ]
    }
   ],
   "source": [
    "## Apply softmax for each output row\n",
    "probs = F.softmax(outputs, dim = 1)\n",
    "\n",
    "## checking at sample probabilities\n",
    "print(\"Sample probabilities:\\n\", probs[:2].data)\n",
    "\n",
    "print(\"\\n\")\n",
    "## Add up the probabilities of an output row\n",
    "print(\"Sum: \", torch.sum(probs[0]).item())\n",
    "max_probs, preds = torch.max(probs, dim = 1)\n",
    "print(\"\\n\")\n",
    "print(preds)\n",
    "print(\"\\n\")\n",
    "print(max_probs)"
   ]
  },
  {
   "cell_type": "code",
   "execution_count": 34,
   "metadata": {},
   "outputs": [
    {
     "name": "stdout",
     "output_type": "stream",
     "text": [
      "128\n"
     ]
    },
    {
     "data": {
      "text/plain": [
       "tensor([9, 2, 9, 4, 7, 5, 0, 2, 1, 4, 4, 2, 2, 8, 3, 3, 7, 8, 7, 8, 9, 5, 3, 8,\n",
       "        5, 4, 8, 7, 9, 8, 7, 5, 3, 7, 0, 5, 5, 0, 3, 8, 4, 9, 3, 7, 2, 8, 4, 8,\n",
       "        4, 3, 9, 2, 6, 9, 1, 9, 6, 2, 8, 9, 7, 9, 2, 7, 2, 8, 2, 3, 5, 9, 1, 0,\n",
       "        4, 9, 6, 6, 0, 6, 1, 4, 1, 2, 4, 4, 8, 6, 5, 2, 0, 1, 5, 9, 2, 4, 2, 3,\n",
       "        4, 1, 9, 3, 5, 2, 7, 2, 0, 6, 7, 2, 6, 3, 2, 1, 0, 2, 1, 1, 4, 3, 5, 6,\n",
       "        9, 8, 6, 7, 5, 0, 7, 0])"
      ]
     },
     "execution_count": 34,
     "metadata": {},
     "output_type": "execute_result"
    }
   ],
   "source": [
    "print(len(labels))\n",
    "labels"
   ]
  },
  {
   "cell_type": "markdown",
   "metadata": {},
   "source": [
    "## evaluation metric and loss function"
   ]
  },
  {
   "cell_type": "code",
   "execution_count": 35,
   "metadata": {},
   "outputs": [
    {
     "name": "stdout",
     "output_type": "stream",
     "text": [
      "Accuracy:  tensor(0.1016)\n",
      "\n",
      "\n",
      "Loss Function:  <function cross_entropy at 0x10d8fbba0>\n",
      "\n",
      "\n",
      "tensor(2.3161, grad_fn=<NllLossBackward0>)\n"
     ]
    }
   ],
   "source": [
    "def accuracy(outputs, labels):\n",
    "    _, preds = torch.max(outputs, dim = 1)\n",
    "    return(torch.tensor(torch.sum(preds == labels).item()/ len(preds)))\n",
    "\n",
    "print(\"Accuracy: \",accuracy(outputs, labels))\n",
    "print(\"\\n\")\n",
    "loss_fn = F.cross_entropy\n",
    "print(\"Loss Function: \",loss_fn)\n",
    "print(\"\\n\")\n",
    "## Loss for the current batch\n",
    "loss = loss_fn(outputs, labels)\n",
    "print(loss)"
   ]
  },
  {
   "cell_type": "markdown",
   "metadata": {},
   "source": [
    "## training"
   ]
  },
  {
   "cell_type": "code",
   "execution_count": 37,
   "metadata": {},
   "outputs": [],
   "source": [
    "def evaluate(model, val_loader):\n",
    "  outputs = [model.validation_step(batch) for batch in val_loader]\n",
    "  return(model.validation_epoch_end(outputs))\n",
    "\n",
    "def fit(epochs, lr, model, train_loader, val_loader, opt_func = torch.optim.SGD):\n",
    "  history = []\n",
    "  optimizer = opt_func(model.parameters(), lr)\n",
    "  for epoch in range(epochs):\n",
    "      \n",
    "    ## Training Phas\n",
    "    for batch in train_loader:\n",
    "      loss = model.training_step(batch)\n",
    "      loss.backward()\n",
    "      optimizer.step()\n",
    "      optimizer.zero_grad()\n",
    "    \n",
    "    ## Validation phase\n",
    "    result = evaluate(model, val_loader)\n",
    "    model.epoch_end(epoch, result)\n",
    "    history.append(result)\n",
    "  return(history)"
   ]
  },
  {
   "cell_type": "code",
   "execution_count": 38,
   "metadata": {},
   "outputs": [
    {
     "data": {
      "text/plain": [
       "{'val_loss': 2.289623260498047, 'val_acc': 0.17375396192073822}"
      ]
     },
     "execution_count": 38,
     "metadata": {},
     "output_type": "execute_result"
    }
   ],
   "source": [
    "result0 = evaluate(model, val_loader)\n",
    "result0"
   ]
  },
  {
   "cell_type": "code",
   "execution_count": 39,
   "metadata": {},
   "outputs": [
    {
     "name": "stdout",
     "output_type": "stream",
     "text": [
      "Epoch [0], val_loss: 1.9270, val_acc: 0.6416\n",
      "Epoch [1], val_loss: 1.6625, val_acc: 0.7426\n",
      "Epoch [2], val_loss: 1.4660, val_acc: 0.7726\n",
      "Epoch [3], val_loss: 1.3176, val_acc: 0.7901\n",
      "Epoch [4], val_loss: 1.2037, val_acc: 0.8021\n"
     ]
    }
   ],
   "source": [
    "history1 = fit(5, 0.001, model, train_loader, val_loader)"
   ]
  },
  {
   "cell_type": "code",
   "execution_count": 40,
   "metadata": {},
   "outputs": [
    {
     "name": "stdout",
     "output_type": "stream",
     "text": [
      "Epoch [0], val_loss: 1.1140, val_acc: 0.8098\n",
      "Epoch [1], val_loss: 1.0420, val_acc: 0.8151\n",
      "Epoch [2], val_loss: 0.9830, val_acc: 0.8201\n",
      "Epoch [3], val_loss: 0.9339, val_acc: 0.8228\n",
      "Epoch [4], val_loss: 0.8924, val_acc: 0.8261\n"
     ]
    }
   ],
   "source": [
    "history2 = fit(5, 0.001, model, train_loader, val_loader)\n"
   ]
  },
  {
   "cell_type": "code",
   "execution_count": 41,
   "metadata": {},
   "outputs": [
    {
     "name": "stdout",
     "output_type": "stream",
     "text": [
      "Epoch [0], val_loss: 0.8568, val_acc: 0.8301\n",
      "Epoch [1], val_loss: 0.8259, val_acc: 0.8335\n",
      "Epoch [2], val_loss: 0.7988, val_acc: 0.8351\n",
      "Epoch [3], val_loss: 0.7750, val_acc: 0.8368\n",
      "Epoch [4], val_loss: 0.7537, val_acc: 0.8393\n"
     ]
    }
   ],
   "source": [
    "history3 = fit(5, 0.001, model, train_loader, val_loader)\n"
   ]
  },
  {
   "cell_type": "code",
   "execution_count": 42,
   "metadata": {},
   "outputs": [
    {
     "name": "stdout",
     "output_type": "stream",
     "text": [
      "Epoch [0], val_loss: 0.7346, val_acc: 0.8400\n",
      "Epoch [1], val_loss: 0.7173, val_acc: 0.8427\n",
      "Epoch [2], val_loss: 0.7017, val_acc: 0.8435\n",
      "Epoch [3], val_loss: 0.6874, val_acc: 0.8457\n",
      "Epoch [4], val_loss: 0.6743, val_acc: 0.8468\n"
     ]
    }
   ],
   "source": [
    "history4 = fit(5, 0.001, model, train_loader, val_loader)"
   ]
  },
  {
   "cell_type": "code",
   "execution_count": 44,
   "metadata": {},
   "outputs": [
    {
     "data": {
      "text/plain": [
       "Text(0.5, 1.0, 'Accuracy Vs. No. of epochs')"
      ]
     },
     "execution_count": 44,
     "metadata": {},
     "output_type": "execute_result"
    },
    {
     "data": {
      "image/png": "[encoded data removed]",
      "text/plain": [
       "<Figure size 640x480 with 1 Axes>"
      ]
     },
     "metadata": {},
     "output_type": "display_data"
    }
   ],
   "source": [
    "## Replace these values with your result\n",
    "history = [result0] + history1 + history2 + history3 + history4\n",
    "accuracies = [result['val_acc'] for result in history]\n",
    "plt.plot(accuracies, '-x')\n",
    "plt.xlabel('epoch')\n",
    "plt.ylabel('accuracy')\n",
    "plt.title('Accuracy Vs. No. of epochs')"
   ]
  },
  {
   "cell_type": "markdown",
   "metadata": {},
   "source": [
    "## testing"
   ]
  },
  {
   "cell_type": "code",
   "execution_count": 46,
   "metadata": {},
   "outputs": [],
   "source": [
    "## Define the test dataset\n",
    "test_dataset = MNIST(root = data_dir, train = False, transform = transforms.ToTensor())"
   ]
  },
  {
   "cell_type": "code",
   "execution_count": 47,
   "metadata": {},
   "outputs": [
    {
     "name": "stdout",
     "output_type": "stream",
     "text": [
      "shape:  torch.Size([1, 28, 28])\n",
      "Label:  7\n"
     ]
    },
    {
     "data": {
      "image/png": "[encoded data removed]",
      "text/plain": [
       "<Figure size 640x480 with 1 Axes>"
      ]
     },
     "metadata": {},
     "output_type": "display_data"
    }
   ],
   "source": [
    "img, label = test_dataset[0]\n",
    "plt.imshow(img[0], cmap = 'gray')\n",
    "print(\"shape: \", img.shape)\n",
    "print('Label: ', label)"
   ]
  },
  {
   "cell_type": "code",
   "execution_count": 48,
   "metadata": {},
   "outputs": [
    {
     "name": "stdout",
     "output_type": "stream",
     "text": [
      "torch.Size([1, 1, 28, 28])\n",
      "torch.Size([1, 28, 28])\n"
     ]
    }
   ],
   "source": [
    "print(img.unsqueeze(0).shape)\n",
    "print(img.shape)"
   ]
  },
  {
   "cell_type": "code",
   "execution_count": 49,
   "metadata": {},
   "outputs": [],
   "source": [
    "def predict_image(img, model):\n",
    "    xb = img.unsqueeze(0)\n",
    "    yb = model(xb)\n",
    "    _, preds = torch.max(yb, dim = 1)\n",
    "    return(preds[0].item())"
   ]
  },
  {
   "cell_type": "code",
   "execution_count": 57,
   "metadata": {},
   "outputs": [
    {
     "name": "stdout",
     "output_type": "stream",
     "text": [
      "Label: 9 , Predicted : 9\n"
     ]
    },
    {
     "data": {
      "image/png": "[encoded data removed]",
      "text/plain": [
       "<Figure size 640x480 with 1 Axes>"
      ]
     },
     "metadata": {},
     "output_type": "display_data"
    }
   ],
   "source": [
    "img, label = test_dataset[9]\n",
    "plt.imshow(img[0], cmap = 'gray')\n",
    "print('Label:', label, ', Predicted :', predict_image(img, model))"
   ]
  },
  {
   "cell_type": "code",
   "execution_count": 59,
   "metadata": {},
   "outputs": [
    {
     "name": "stdout",
     "output_type": "stream",
     "text": [
      "Label: 0 ,Predicted: 0\n"
     ]
    },
    {
     "data": {
      "image/png": "[encoded data removed]",
      "text/plain": [
       "<Figure size 640x480 with 1 Axes>"
      ]
     },
     "metadata": {},
     "output_type": "display_data"
    }
   ],
   "source": [
    "img, label = test_dataset[4999]\n",
    "plt.imshow(img[0], cmap = 'gray')\n",
    "print(\"Label:\", label, ',Predicted:', predict_image(img, model))"
   ]
  },
  {
   "cell_type": "markdown",
   "metadata": {},
   "source": [
    "## evaluate test dataset"
   ]
  },
  {
   "cell_type": "code",
   "execution_count": 60,
   "metadata": {},
   "outputs": [
    {
     "data": {
      "text/plain": [
       "{'val_loss': 0.6390684843063354, 'val_acc': 0.8607422113418579}"
      ]
     },
     "execution_count": 60,
     "metadata": {},
     "output_type": "execute_result"
    }
   ],
   "source": [
    "test_loader = DataLoader(test_dataset, batch_size = 256)\n",
    "result = evaluate(model, test_loader)\n",
    "result"
   ]
  },
  {
   "cell_type": "markdown",
   "metadata": {},
   "source": [
    "## save and load model"
   ]
  },
  {
   "cell_type": "code",
   "execution_count": 61,
   "metadata": {},
   "outputs": [],
   "source": [
    "torch.save(model.state_dict(), 'mnist-logistic.pth')"
   ]
  },
  {
   "cell_type": "code",
   "execution_count": 62,
   "metadata": {},
   "outputs": [
    {
     "data": {
      "text/plain": [
       "OrderedDict([('linear.weight',\n",
       "              tensor([[-0.0068,  0.0070,  0.0077,  ..., -0.0037,  0.0083,  0.0239],\n",
       "                      [ 0.0089, -0.0244,  0.0265,  ...,  0.0108,  0.0262, -0.0311],\n",
       "                      [ 0.0283, -0.0251, -0.0356,  ...,  0.0145, -0.0044,  0.0027],\n",
       "                      ...,\n",
       "                      [-0.0267,  0.0246,  0.0351,  ...,  0.0021, -0.0138,  0.0025],\n",
       "                      [ 0.0127,  0.0037,  0.0124,  ...,  0.0114, -0.0173,  0.0229],\n",
       "                      [ 0.0126,  0.0045,  0.0099,  ..., -0.0090,  0.0229, -0.0218]])),\n",
       "             ('linear.bias',\n",
       "              tensor([-0.0325,  0.1251, -0.0534,  0.0014,  0.0429,  0.0219, -0.0423,  0.0070,\n",
       "                      -0.0837, -0.0196]))])"
      ]
     },
     "execution_count": 62,
     "metadata": {},
     "output_type": "execute_result"
    }
   ],
   "source": [
    "model.state_dict()"
   ]
  },
  {
   "cell_type": "code",
   "execution_count": 63,
   "metadata": {},
   "outputs": [
    {
     "name": "stderr",
     "output_type": "stream",
     "text": [
      "/var/folders/s8/kl6fzfms2b7gvbxjt5t2wmr80000gn/T/ipykernel_1229/3052037875.py:2: FutureWarning: You are using `torch.load` with `weights_only=False` (the current default value), which uses the default pickle module implicitly. It is possible to construct malicious pickle data which will execute arbitrary code during unpickling (See https://github.com/pytorch/pytorch/blob/main/SECURITY.md#untrusted-models for more details). In a future release, the default value for `weights_only` will be flipped to `True`. This limits the functions that could be executed during unpickling. Arbitrary objects will no longer be allowed to be loaded via this mode unless they are explicitly allowlisted by the user via `torch.serialization.add_safe_globals`. We recommend you start setting `weights_only=True` for any use case where you don't have full control of the loaded file. Please open an issue on GitHub for any issues related to this experimental feature.\n",
      "  model2.load_state_dict(torch.load('mnist-logistic.pth'))\n"
     ]
    },
    {
     "data": {
      "text/plain": [
       "OrderedDict([('linear.weight',\n",
       "              tensor([[-0.0068,  0.0070,  0.0077,  ..., -0.0037,  0.0083,  0.0239],\n",
       "                      [ 0.0089, -0.0244,  0.0265,  ...,  0.0108,  0.0262, -0.0311],\n",
       "                      [ 0.0283, -0.0251, -0.0356,  ...,  0.0145, -0.0044,  0.0027],\n",
       "                      ...,\n",
       "                      [-0.0267,  0.0246,  0.0351,  ...,  0.0021, -0.0138,  0.0025],\n",
       "                      [ 0.0127,  0.0037,  0.0124,  ...,  0.0114, -0.0173,  0.0229],\n",
       "                      [ 0.0126,  0.0045,  0.0099,  ..., -0.0090,  0.0229, -0.0218]])),\n",
       "             ('linear.bias',\n",
       "              tensor([-0.0325,  0.1251, -0.0534,  0.0014,  0.0429,  0.0219, -0.0423,  0.0070,\n",
       "                      -0.0837, -0.0196]))])"
      ]
     },
     "execution_count": 63,
     "metadata": {},
     "output_type": "execute_result"
    }
   ],
   "source": [
    "model2 = MnistModel()\n",
    "model2.load_state_dict(torch.load('mnist-logistic.pth'))\n",
    "model2.state_dict()"
   ]
  },
  {
   "cell_type": "code",
   "execution_count": 64,
   "metadata": {},
   "outputs": [
    {
     "data": {
      "text/plain": [
       "{'val_loss': 0.6390684843063354, 'val_acc': 0.8607422113418579}"
      ]
     },
     "execution_count": 64,
     "metadata": {},
     "output_type": "execute_result"
    }
   ],
   "source": [
    "test_loader = DataLoader(test_dataset, batch_size = 256)\n",
    "result = evaluate(model2, test_loader)\n",
    "result"
   ]
  },
  {
   "cell_type": "markdown",
   "metadata": {},
   "source": [
    "## freestyle to improve accuracy"
   ]
  },
  {
   "cell_type": "code",
   "execution_count": 105,
   "metadata": {},
   "outputs": [],
   "source": [
    "from sklearn.model_selection import train_test_split\n",
    "from torch.utils.data import Subset\n",
    "import torch.optim as optim\n",
    "from torch.optim.lr_scheduler import ReduceLROnPlateau"
   ]
  },
  {
   "cell_type": "code",
   "execution_count": 193,
   "metadata": {},
   "outputs": [
    {
     "name": "stderr",
     "output_type": "stream",
     "text": [
      "<>:11: SyntaxWarning: \"is not\" with a literal. Did you mean \"!=\"?\n",
      "<>:11: SyntaxWarning: \"is not\" with a literal. Did you mean \"!=\"?\n",
      "/var/folders/s8/kl6fzfms2b7gvbxjt5t2wmr80000gn/T/ipykernel_1229/2225246414.py:11: SyntaxWarning: \"is not\" with a literal. Did you mean \"!=\"?\n",
      "  if targets is not '':\n"
     ]
    }
   ],
   "source": [
    "# import tuple\n",
    "from typing import Any, Tuple\n",
    "from PIL import Image\n",
    "\n",
    "# Define Dataset class\n",
    "class DigitDataset(MNIST):\n",
    "    def __init__(self, root='./', labels=None, transform=None, train=True, data=None, download=False, targets=''):\n",
    "        super().__init__(root, transform=transform, download=download, train=train)\n",
    "        if data is not None:\n",
    "            self.data = data\n",
    "        if targets is not '':\n",
    "            self.targets = targets\n",
    "        # self.labels = torch.tensor(labels, dtype=torch.long) if labels is not None else None\n",
    "        # self.transform = transform\n",
    "\n",
    "    def __len__(self):\n",
    "        return len(self.data)\n",
    "\n",
    "    def __getitem__(self, index: int) -> Tuple[Any, Any]:\n",
    "        # print(self.data[index].shape)\n",
    "        # Fetch the image\n",
    "        if type(self.data[index]) == torch.Tensor:\n",
    "            img = self.data[index].reshape(28, 28).numpy().astype('uint8')\n",
    "        else:\n",
    "            img = self.data[index].reshape(28, 28).astype('uint8')\n",
    "        # print(\"type of img: \", type(img))\n",
    "        # print(img.shape)\n",
    "\n",
    "        # Convert to PIL Image for consistency\n",
    "        img = Image.fromarray(img, mode=\"L\")\n",
    "        # img = Image.fromarray(img.numpy(), mode=\"L\")\n",
    "\n",
    "        # Apply transformations to the image\n",
    "        if self.transform is not None:\n",
    "            img = self.transform(img)\n",
    "\n",
    "        # print(self.targets)\n",
    "        # If targets exist, process and return them; otherwise, return only the image\n",
    "        if self.targets is not None:\n",
    "            target = int(self.targets[index])  # Convert target to int\n",
    "            if self.target_transform is not None:\n",
    "                target = self.target_transform(target)\n",
    "            return img, target\n",
    "        else:\n",
    "            return img  # No label for test data\n",
    "    \n"
   ]
  },
  {
   "cell_type": "code",
   "execution_count": 81,
   "metadata": {},
   "outputs": [],
   "source": [
    "# Define data augmentation and transforms\n",
    "train_transform = transforms.Compose([\n",
    "    transforms.RandomRotation(12),\n",
    "    transforms.RandomAffine(0, translate=(0.15, 0.15), shear=15, scale=(0.85, 1.15)),\n",
    "    transforms.ToTensor()\n",
    "])\n",
    "\n",
    "val_transform = transforms.ToTensor()"
   ]
  },
  {
   "cell_type": "code",
   "execution_count": 189,
   "metadata": {},
   "outputs": [
    {
     "name": "stdout",
     "output_type": "stream",
     "text": [
      "Dataset DigitDataset\n",
      "    Number of datapoints: 60000\n",
      "    Root location: ../../../data/kaggle/\n",
      "    Split: Train\n",
      "    StandardTransform\n",
      "Transform: Compose(\n",
      "               RandomRotation(degrees=[-12.0, 12.0], interpolation=nearest, expand=False, fill=0)\n",
      "               RandomAffine(degrees=[0.0, 0.0], translate=(0.15, 0.15), scale=(0.85, 1.15), shear=[-15.0, 15.0])\n",
      "               ToTensor()\n",
      "           )\n"
     ]
    }
   ],
   "source": [
    "mnist_dataset = DigitDataset(root = data_dir, train = True, transform = train_transform)\n",
    "print(mnist_dataset)"
   ]
  },
  {
   "cell_type": "code",
   "execution_count": 190,
   "metadata": {},
   "outputs": [
    {
     "name": "stdout",
     "output_type": "stream",
     "text": [
      "60000\n",
      "torch.Size([28, 28])\n",
      "(28, 28)\n"
     ]
    },
    {
     "data": {
      "text/plain": [
       "torch.Size([1, 28, 28])"
      ]
     },
     "execution_count": 190,
     "metadata": {},
     "output_type": "execute_result"
    }
   ],
   "source": [
    "print(len(mnist_dataset))\n",
    "mnist_dataset[0][0].shape"
   ]
  },
  {
   "cell_type": "code",
   "execution_count": 91,
   "metadata": {},
   "outputs": [],
   "source": [
    "data_indices = list(range(len(mnist_dataset)))\n",
    "labels = [mnist_dataset[i][1] for i in data_indices]  # Assuming mnist_dataset[i] returns (image, label)\n",
    "\n",
    "# Perform train-test split\n",
    "train_indices, val_indices = train_test_split(\n",
    "    data_indices, \n",
    "    test_size=10000 / len(mnist_dataset),  # Equivalent to 10k validation samples from 60k\n",
    "    random_state=42,  # For reproducibility\n",
    "    stratify=labels  # Ensures balanced class distribution\n",
    ")\n",
    "\n",
    "# Create Subsets for train and validation datasets\n",
    "train_data = Subset(mnist_dataset, train_indices)\n",
    "validation_data = Subset(mnist_dataset, val_indices)"
   ]
  },
  {
   "cell_type": "code",
   "execution_count": 95,
   "metadata": {},
   "outputs": [
    {
     "data": {
      "text/plain": [
       "(50000, 10000)"
      ]
     },
     "execution_count": 95,
     "metadata": {},
     "output_type": "execute_result"
    }
   ],
   "source": [
    "len(train_data), len(validation_data)"
   ]
  },
  {
   "cell_type": "code",
   "execution_count": 98,
   "metadata": {},
   "outputs": [
    {
     "name": "stdout",
     "output_type": "stream",
     "text": [
      "cnn.0.weight \t torch.Size([64, 1, 3, 3])\n",
      "cnn.0.bias \t torch.Size([64])\n",
      "cnn.1.weight \t torch.Size([64])\n",
      "cnn.1.bias \t torch.Size([64])\n",
      "cnn.1.running_mean \t torch.Size([64])\n",
      "cnn.1.running_var \t torch.Size([64])\n",
      "cnn.1.num_batches_tracked \t torch.Size([])\n",
      "cnn.3.weight \t torch.Size([64, 64, 3, 3])\n",
      "cnn.3.bias \t torch.Size([64])\n",
      "cnn.4.weight \t torch.Size([64])\n",
      "cnn.4.bias \t torch.Size([64])\n",
      "cnn.4.running_mean \t torch.Size([64])\n",
      "cnn.4.running_var \t torch.Size([64])\n",
      "cnn.4.num_batches_tracked \t torch.Size([])\n",
      "cnn.8.weight \t torch.Size([128, 64, 3, 3])\n",
      "cnn.8.bias \t torch.Size([128])\n",
      "cnn.9.weight \t torch.Size([128])\n",
      "cnn.9.bias \t torch.Size([128])\n",
      "cnn.9.running_mean \t torch.Size([128])\n",
      "cnn.9.running_var \t torch.Size([128])\n",
      "cnn.9.num_batches_tracked \t torch.Size([])\n",
      "cnn.11.weight \t torch.Size([128, 128, 3, 3])\n",
      "cnn.11.bias \t torch.Size([128])\n",
      "cnn.12.weight \t torch.Size([128])\n",
      "cnn.12.bias \t torch.Size([128])\n",
      "cnn.12.running_mean \t torch.Size([128])\n",
      "cnn.12.running_var \t torch.Size([128])\n",
      "cnn.12.num_batches_tracked \t torch.Size([])\n",
      "cnn.16.weight \t torch.Size([256, 128, 3, 3])\n",
      "cnn.16.bias \t torch.Size([256])\n",
      "cnn.17.weight \t torch.Size([256])\n",
      "cnn.17.bias \t torch.Size([256])\n",
      "cnn.17.running_mean \t torch.Size([256])\n",
      "cnn.17.running_var \t torch.Size([256])\n",
      "cnn.17.num_batches_tracked \t torch.Size([])\n",
      "fc.1.weight \t torch.Size([512, 2304])\n",
      "fc.1.bias \t torch.Size([512])\n",
      "fc.4.weight \t torch.Size([10, 512])\n",
      "fc.4.bias \t torch.Size([10])\n"
     ]
    }
   ],
   "source": [
    "\n",
    "class MnistModel(nn.Module):\n",
    "    def __init__(self):\n",
    "        super().__init__()\n",
    "        # CNN architecture\n",
    "        self.cnn = nn.Sequential(\n",
    "            nn.Conv2d(1, 64, kernel_size=3, padding=1),  # Input: 1x28x28, Output: 64x28x28\n",
    "            nn.BatchNorm2d(64),\n",
    "            nn.LeakyReLU(),\n",
    "            nn.Conv2d(64, 64, kernel_size=3, padding=1),  # Output: 64x28x28\n",
    "            nn.BatchNorm2d(64),\n",
    "            nn.LeakyReLU(),\n",
    "            nn.MaxPool2d(2),  # Output: 64x14x14\n",
    "            nn.Dropout(0.3),\n",
    "\n",
    "            nn.Conv2d(64, 128, kernel_size=3, padding=1),  # Output: 128x14x14\n",
    "            nn.BatchNorm2d(128),\n",
    "            nn.LeakyReLU(),\n",
    "            nn.Conv2d(128, 128, kernel_size=3, padding=1),  # Output: 128x14x14\n",
    "            nn.BatchNorm2d(128),\n",
    "            nn.LeakyReLU(),\n",
    "            nn.MaxPool2d(2),  # Output: 128x7x7\n",
    "            nn.Dropout(0.4),\n",
    "\n",
    "            nn.Conv2d(128, 256, kernel_size=3, padding=1),  # Output: 256x7x7\n",
    "            nn.BatchNorm2d(256),\n",
    "            nn.LeakyReLU(),\n",
    "            nn.MaxPool2d(2),  # Output: 256x3x3\n",
    "            nn.Dropout(0.4),\n",
    "        )\n",
    "\n",
    "        self.fc = nn.Sequential(\n",
    "            nn.Flatten(),  # Flatten the tensor for dense layers\n",
    "            nn.Linear(256 * 3 * 3, 512),  # Fully connected layer\n",
    "            nn.ReLU(),\n",
    "            nn.Dropout(0.4),\n",
    "            nn.Linear(512, 10)  # Output layer for 10 classes\n",
    "        )\n",
    "    \n",
    "    def forward(self, xb):\n",
    "        # Pass through CNN layers\n",
    "        xb = self.cnn(xb)\n",
    "        # Pass through fully connected layers\n",
    "        out = self.fc(xb)\n",
    "        return out\n",
    "\n",
    "    def training_step(self, batch):\n",
    "        images, labels = batch\n",
    "        out = self(images)  # Generate predictions\n",
    "        loss = F.cross_entropy(out, labels)  # Calculate the loss\n",
    "        return loss\n",
    "    \n",
    "    def validation_step(self, batch):\n",
    "        images, labels = batch\n",
    "        out = self(images)\n",
    "        loss = F.cross_entropy(out, labels)\n",
    "        acc = accuracy(out, labels)\n",
    "        return {'val_loss': loss, 'val_acc': acc}\n",
    "    \n",
    "    def validation_epoch_end(self, outputs):\n",
    "        batch_losses = [x['val_loss'] for x in outputs]\n",
    "        epoch_loss = torch.stack(batch_losses).mean()\n",
    "        batch_accs = [x['val_acc'] for x in outputs]\n",
    "        epoch_acc = torch.stack(batch_accs).mean()\n",
    "        return {'val_loss': epoch_loss.item(), 'val_acc': epoch_acc.item()}\n",
    "    \n",
    "    def epoch_end(self, epoch, result):\n",
    "        print(\"Epoch [{}], val_loss: {:.4f}, val_acc: {:.4f}\".format(epoch, result['val_loss'], result['val_acc']))\n",
    "\n",
    "model = MnistModel()\n",
    "for k in model.state_dict().keys():\n",
    "    print(k, \"\\t\", model.state_dict()[k].shape)"
   ]
  },
  {
   "cell_type": "code",
   "execution_count": 101,
   "metadata": {},
   "outputs": [],
   "source": [
    "batch_size = 128\n",
    "train_loader = DataLoader(train_data, batch_size, shuffle = True)\n",
    "val_loader = DataLoader(validation_data, batch_size, shuffle = False)"
   ]
  },
  {
   "cell_type": "code",
   "execution_count": 102,
   "metadata": {},
   "outputs": [
    {
     "data": {
      "text/plain": [
       "{'val_loss': 2.3888158798217773, 'val_acc': 0.1028480976819992}"
      ]
     },
     "execution_count": 102,
     "metadata": {},
     "output_type": "execute_result"
    }
   ],
   "source": [
    "result0 = evaluate(model, val_loader)\n",
    "result0"
   ]
  },
  {
   "cell_type": "code",
   "execution_count": null,
   "metadata": {},
   "outputs": [],
   "source": []
  },
  {
   "cell_type": "code",
   "execution_count": 103,
   "metadata": {},
   "outputs": [
    {
     "name": "stdout",
     "output_type": "stream",
     "text": [
      "Training model 1\n",
      "Epoch [0], val_loss: 2.1706, val_acc: 0.2292\n",
      "Epoch [1], val_loss: 1.8643, val_acc: 0.3505\n",
      "Epoch [2], val_loss: 1.5408, val_acc: 0.4675\n",
      "Epoch [3], val_loss: 1.3348, val_acc: 0.5448\n",
      "Epoch [4], val_loss: 1.1895, val_acc: 0.6024\n",
      "Training model 2\n",
      "Epoch [0], val_loss: 2.1969, val_acc: 0.2113\n"
     ]
    },
    {
     "ename": "KeyboardInterrupt",
     "evalue": "",
     "output_type": "error",
     "traceback": [
      "\u001b[0;31m---------------------------------------------------------------------------\u001b[0m",
      "\u001b[0;31mKeyboardInterrupt\u001b[0m                         Traceback (most recent call last)",
      "Cell \u001b[0;32mIn[103], line 5\u001b[0m\n\u001b[1;32m      3\u001b[0m     \u001b[38;5;28mprint\u001b[39m(\u001b[38;5;124mf\u001b[39m\u001b[38;5;124m\"\u001b[39m\u001b[38;5;124mTraining model \u001b[39m\u001b[38;5;132;01m{\u001b[39;00mi\u001b[38;5;241m+\u001b[39m\u001b[38;5;241m1\u001b[39m\u001b[38;5;132;01m}\u001b[39;00m\u001b[38;5;124m\"\u001b[39m)\n\u001b[1;32m      4\u001b[0m     model \u001b[38;5;241m=\u001b[39m MnistModel()\n\u001b[0;32m----> 5\u001b[0m     history \u001b[38;5;241m=\u001b[39m \u001b[43mfit\u001b[49m\u001b[43m(\u001b[49m\u001b[38;5;241;43m5\u001b[39;49m\u001b[43m,\u001b[49m\u001b[43m \u001b[49m\u001b[38;5;241;43m0.001\u001b[39;49m\u001b[43m,\u001b[49m\u001b[43m \u001b[49m\u001b[43mmodel\u001b[49m\u001b[43m,\u001b[49m\u001b[43m \u001b[49m\u001b[43mtrain_loader\u001b[49m\u001b[43m,\u001b[49m\u001b[43m \u001b[49m\u001b[43mval_loader\u001b[49m\u001b[43m)\u001b[49m\n\u001b[1;32m      6\u001b[0m     histories\u001b[38;5;241m.\u001b[39mappend(history)\n\u001b[1;32m      8\u001b[0m accuracies \u001b[38;5;241m=\u001b[39m [result[\u001b[38;5;124m'\u001b[39m\u001b[38;5;124mval_acc\u001b[39m\u001b[38;5;124m'\u001b[39m] \u001b[38;5;28;01mfor\u001b[39;00m history \u001b[38;5;129;01min\u001b[39;00m histories \u001b[38;5;28;01mfor\u001b[39;00m result \u001b[38;5;129;01min\u001b[39;00m history]\n",
      "Cell \u001b[0;32mIn[37], line 13\u001b[0m, in \u001b[0;36mfit\u001b[0;34m(epochs, lr, model, train_loader, val_loader, opt_func)\u001b[0m\n\u001b[1;32m     11\u001b[0m \u001b[38;5;28;01mfor\u001b[39;00m batch \u001b[38;5;129;01min\u001b[39;00m train_loader:\n\u001b[1;32m     12\u001b[0m   loss \u001b[38;5;241m=\u001b[39m model\u001b[38;5;241m.\u001b[39mtraining_step(batch)\n\u001b[0;32m---> 13\u001b[0m   \u001b[43mloss\u001b[49m\u001b[38;5;241;43m.\u001b[39;49m\u001b[43mbackward\u001b[49m\u001b[43m(\u001b[49m\u001b[43m)\u001b[49m\n\u001b[1;32m     14\u001b[0m   optimizer\u001b[38;5;241m.\u001b[39mstep()\n\u001b[1;32m     15\u001b[0m   optimizer\u001b[38;5;241m.\u001b[39mzero_grad()\n",
      "File \u001b[0;32m/opt/homebrew/Caskroom/miniforge/base/envs/data/lib/python3.11/site-packages/torch/_tensor.py:581\u001b[0m, in \u001b[0;36mTensor.backward\u001b[0;34m(self, gradient, retain_graph, create_graph, inputs)\u001b[0m\n\u001b[1;32m    571\u001b[0m \u001b[38;5;28;01mif\u001b[39;00m has_torch_function_unary(\u001b[38;5;28mself\u001b[39m):\n\u001b[1;32m    572\u001b[0m     \u001b[38;5;28;01mreturn\u001b[39;00m handle_torch_function(\n\u001b[1;32m    573\u001b[0m         Tensor\u001b[38;5;241m.\u001b[39mbackward,\n\u001b[1;32m    574\u001b[0m         (\u001b[38;5;28mself\u001b[39m,),\n\u001b[0;32m   (...)\u001b[0m\n\u001b[1;32m    579\u001b[0m         inputs\u001b[38;5;241m=\u001b[39minputs,\n\u001b[1;32m    580\u001b[0m     )\n\u001b[0;32m--> 581\u001b[0m \u001b[43mtorch\u001b[49m\u001b[38;5;241;43m.\u001b[39;49m\u001b[43mautograd\u001b[49m\u001b[38;5;241;43m.\u001b[39;49m\u001b[43mbackward\u001b[49m\u001b[43m(\u001b[49m\n\u001b[1;32m    582\u001b[0m \u001b[43m    \u001b[49m\u001b[38;5;28;43mself\u001b[39;49m\u001b[43m,\u001b[49m\u001b[43m \u001b[49m\u001b[43mgradient\u001b[49m\u001b[43m,\u001b[49m\u001b[43m \u001b[49m\u001b[43mretain_graph\u001b[49m\u001b[43m,\u001b[49m\u001b[43m \u001b[49m\u001b[43mcreate_graph\u001b[49m\u001b[43m,\u001b[49m\u001b[43m \u001b[49m\u001b[43minputs\u001b[49m\u001b[38;5;241;43m=\u001b[39;49m\u001b[43minputs\u001b[49m\n\u001b[1;32m    583\u001b[0m \u001b[43m\u001b[49m\u001b[43m)\u001b[49m\n",
      "File \u001b[0;32m/opt/homebrew/Caskroom/miniforge/base/envs/data/lib/python3.11/site-packages/torch/autograd/__init__.py:347\u001b[0m, in \u001b[0;36mbackward\u001b[0;34m(tensors, grad_tensors, retain_graph, create_graph, grad_variables, inputs)\u001b[0m\n\u001b[1;32m    342\u001b[0m     retain_graph \u001b[38;5;241m=\u001b[39m create_graph\n\u001b[1;32m    344\u001b[0m \u001b[38;5;66;03m# The reason we repeat the same comment below is that\u001b[39;00m\n\u001b[1;32m    345\u001b[0m \u001b[38;5;66;03m# some Python versions print out the first line of a multi-line function\u001b[39;00m\n\u001b[1;32m    346\u001b[0m \u001b[38;5;66;03m# calls in the traceback and some print out the last line\u001b[39;00m\n\u001b[0;32m--> 347\u001b[0m \u001b[43m_engine_run_backward\u001b[49m\u001b[43m(\u001b[49m\n\u001b[1;32m    348\u001b[0m \u001b[43m    \u001b[49m\u001b[43mtensors\u001b[49m\u001b[43m,\u001b[49m\n\u001b[1;32m    349\u001b[0m \u001b[43m    \u001b[49m\u001b[43mgrad_tensors_\u001b[49m\u001b[43m,\u001b[49m\n\u001b[1;32m    350\u001b[0m \u001b[43m    \u001b[49m\u001b[43mretain_graph\u001b[49m\u001b[43m,\u001b[49m\n\u001b[1;32m    351\u001b[0m \u001b[43m    \u001b[49m\u001b[43mcreate_graph\u001b[49m\u001b[43m,\u001b[49m\n\u001b[1;32m    352\u001b[0m \u001b[43m    \u001b[49m\u001b[43minputs\u001b[49m\u001b[43m,\u001b[49m\n\u001b[1;32m    353\u001b[0m \u001b[43m    \u001b[49m\u001b[43mallow_unreachable\u001b[49m\u001b[38;5;241;43m=\u001b[39;49m\u001b[38;5;28;43;01mTrue\u001b[39;49;00m\u001b[43m,\u001b[49m\n\u001b[1;32m    354\u001b[0m \u001b[43m    \u001b[49m\u001b[43maccumulate_grad\u001b[49m\u001b[38;5;241;43m=\u001b[39;49m\u001b[38;5;28;43;01mTrue\u001b[39;49;00m\u001b[43m,\u001b[49m\n\u001b[1;32m    355\u001b[0m \u001b[43m\u001b[49m\u001b[43m)\u001b[49m\n",
      "File \u001b[0;32m/opt/homebrew/Caskroom/miniforge/base/envs/data/lib/python3.11/site-packages/torch/autograd/graph.py:825\u001b[0m, in \u001b[0;36m_engine_run_backward\u001b[0;34m(t_outputs, *args, **kwargs)\u001b[0m\n\u001b[1;32m    823\u001b[0m     unregister_hooks \u001b[38;5;241m=\u001b[39m _register_logging_hooks_on_whole_graph(t_outputs)\n\u001b[1;32m    824\u001b[0m \u001b[38;5;28;01mtry\u001b[39;00m:\n\u001b[0;32m--> 825\u001b[0m     \u001b[38;5;28;01mreturn\u001b[39;00m \u001b[43mVariable\u001b[49m\u001b[38;5;241;43m.\u001b[39;49m\u001b[43m_execution_engine\u001b[49m\u001b[38;5;241;43m.\u001b[39;49m\u001b[43mrun_backward\u001b[49m\u001b[43m(\u001b[49m\u001b[43m  \u001b[49m\u001b[38;5;66;43;03m# Calls into the C++ engine to run the backward pass\u001b[39;49;00m\n\u001b[1;32m    826\u001b[0m \u001b[43m        \u001b[49m\u001b[43mt_outputs\u001b[49m\u001b[43m,\u001b[49m\u001b[43m \u001b[49m\u001b[38;5;241;43m*\u001b[39;49m\u001b[43margs\u001b[49m\u001b[43m,\u001b[49m\u001b[43m \u001b[49m\u001b[38;5;241;43m*\u001b[39;49m\u001b[38;5;241;43m*\u001b[39;49m\u001b[43mkwargs\u001b[49m\n\u001b[1;32m    827\u001b[0m \u001b[43m    \u001b[49m\u001b[43m)\u001b[49m  \u001b[38;5;66;03m# Calls into the C++ engine to run the backward pass\u001b[39;00m\n\u001b[1;32m    828\u001b[0m \u001b[38;5;28;01mfinally\u001b[39;00m:\n\u001b[1;32m    829\u001b[0m     \u001b[38;5;28;01mif\u001b[39;00m attach_logging_hooks:\n",
      "\u001b[0;31mKeyboardInterrupt\u001b[0m: "
     ]
    }
   ],
   "source": [
    "# simple training\n",
    "histories = []\n",
    "model = MnistModel()\n",
    "for i in range(5):\n",
    "    print(f\"Training model {i+1}\")\n",
    "    # print loader\n",
    "    history = fit(5, 0.001, model, train_loader, val_loader)\n",
    "    histories.append(history)\n",
    "\n",
    "accuracies = [result['val_acc'] for history in histories for result in history]\n",
    "plt.plot(accuracies, '-x')\n",
    "plt.xlabel('epoch')\n",
    "plt.ylabel('accuracy')\n",
    "plt.title('Accuracy vs. No. of epochs')"
   ]
  },
  {
   "cell_type": "code",
   "execution_count": null,
   "metadata": {},
   "outputs": [],
   "source": [
    "torch.save(model.state_dict(), 'mnist-cnn-simple.pth')"
   ]
  },
  {
   "cell_type": "code",
   "execution_count": 106,
   "metadata": {},
   "outputs": [],
   "source": [
    "# training setup\n",
    "device = torch.device('cuda' if torch.cuda.is_available() else 'cpu')\n",
    "model = MnistModel().to(device)\n",
    "criterion = nn.CrossEntropyLoss()\n",
    "optimizer = optim.Adam(model.parameters(), lr=0.001)\n",
    "scheduler = ReduceLROnPlateau(optimizer, 'min', factor=0.5, patience=3)"
   ]
  },
  {
   "cell_type": "code",
   "execution_count": 108,
   "metadata": {},
   "outputs": [
    {
     "name": "stdout",
     "output_type": "stream",
     "text": [
      "Training on cpu\n",
      "Epoch 1/20\n",
      "Epoch 1/20, Train Loss: 0.3192, Val Loss: 0.1380, Val Accuracy: 0.9594\n",
      "Epoch 2/20\n",
      "Epoch 2/20, Train Loss: 0.1548, Val Loss: 0.0880, Val Accuracy: 0.9742\n",
      "Epoch 3/20\n",
      "Epoch 3/20, Train Loss: 0.1187, Val Loss: 0.0777, Val Accuracy: 0.9760\n",
      "Epoch 4/20\n",
      "Epoch 4/20, Train Loss: 0.1045, Val Loss: 0.0632, Val Accuracy: 0.9822\n",
      "Epoch 5/20\n",
      "Epoch 5/20, Train Loss: 0.0962, Val Loss: 0.0678, Val Accuracy: 0.9813\n",
      "Epoch 6/20\n",
      "Epoch 6/20, Train Loss: 0.0890, Val Loss: 0.0558, Val Accuracy: 0.9848\n",
      "Epoch 7/20\n",
      "Epoch 7/20, Train Loss: 0.0831, Val Loss: 0.0529, Val Accuracy: 0.9835\n",
      "Epoch 8/20\n",
      "Epoch 8/20, Train Loss: 0.0770, Val Loss: 0.0465, Val Accuracy: 0.9868\n",
      "Epoch 9/20\n",
      "Epoch 9/20, Train Loss: 0.0716, Val Loss: 0.0588, Val Accuracy: 0.9828\n",
      "Epoch 10/20\n",
      "Epoch 10/20, Train Loss: 0.0749, Val Loss: 0.0464, Val Accuracy: 0.9860\n",
      "Epoch 11/20\n",
      "Epoch 11/20, Train Loss: 0.0658, Val Loss: 0.0549, Val Accuracy: 0.9848\n",
      "Epoch 12/20\n",
      "Epoch 12/20, Train Loss: 0.0633, Val Loss: 0.0453, Val Accuracy: 0.9860\n",
      "Epoch 13/20\n",
      "Epoch 13/20, Train Loss: 0.0622, Val Loss: 0.0440, Val Accuracy: 0.9869\n",
      "Epoch 14/20\n",
      "Epoch 14/20, Train Loss: 0.0601, Val Loss: 0.0462, Val Accuracy: 0.9855\n",
      "Epoch 15/20\n",
      "Epoch 15/20, Train Loss: 0.0600, Val Loss: 0.0431, Val Accuracy: 0.9885\n",
      "Epoch 16/20\n",
      "Epoch 16/20, Train Loss: 0.0569, Val Loss: 0.0398, Val Accuracy: 0.9882\n",
      "Epoch 17/20\n",
      "Epoch 17/20, Train Loss: 0.0563, Val Loss: 0.0431, Val Accuracy: 0.9863\n",
      "Epoch 18/20\n",
      "Epoch 18/20, Train Loss: 0.0583, Val Loss: 0.0425, Val Accuracy: 0.9878\n",
      "Epoch 19/20\n",
      "Epoch 19/20, Train Loss: 0.0528, Val Loss: 0.0361, Val Accuracy: 0.9887\n",
      "Epoch 20/20\n",
      "Epoch 20/20, Train Loss: 0.0517, Val Loss: 0.0328, Val Accuracy: 0.9893\n"
     ]
    },
    {
     "name": "stderr",
     "output_type": "stream",
     "text": [
      "/var/folders/s8/kl6fzfms2b7gvbxjt5t2wmr80000gn/T/ipykernel_1229/410158533.py:53: FutureWarning: You are using `torch.load` with `weights_only=False` (the current default value), which uses the default pickle module implicitly. It is possible to construct malicious pickle data which will execute arbitrary code during unpickling (See https://github.com/pytorch/pytorch/blob/main/SECURITY.md#untrusted-models for more details). In a future release, the default value for `weights_only` will be flipped to `True`. This limits the functions that could be executed during unpickling. Arbitrary objects will no longer be allowed to be loaded via this mode unless they are explicitly allowlisted by the user via `torch.serialization.add_safe_globals`. We recommend you start setting `weights_only=True` for any use case where you don't have full control of the loaded file. Please open an issue on GitHub for any issues related to this experimental feature.\n",
      "  model.load_state_dict(torch.load(\"mnist-cnn.pth\"))\n"
     ]
    },
    {
     "data": {
      "text/plain": [
       "MnistModel(\n",
       "  (cnn): Sequential(\n",
       "    (0): Conv2d(1, 64, kernel_size=(3, 3), stride=(1, 1), padding=(1, 1))\n",
       "    (1): BatchNorm2d(64, eps=1e-05, momentum=0.1, affine=True, track_running_stats=True)\n",
       "    (2): LeakyReLU(negative_slope=0.01)\n",
       "    (3): Conv2d(64, 64, kernel_size=(3, 3), stride=(1, 1), padding=(1, 1))\n",
       "    (4): BatchNorm2d(64, eps=1e-05, momentum=0.1, affine=True, track_running_stats=True)\n",
       "    (5): LeakyReLU(negative_slope=0.01)\n",
       "    (6): MaxPool2d(kernel_size=2, stride=2, padding=0, dilation=1, ceil_mode=False)\n",
       "    (7): Dropout(p=0.3, inplace=False)\n",
       "    (8): Conv2d(64, 128, kernel_size=(3, 3), stride=(1, 1), padding=(1, 1))\n",
       "    (9): BatchNorm2d(128, eps=1e-05, momentum=0.1, affine=True, track_running_stats=True)\n",
       "    (10): LeakyReLU(negative_slope=0.01)\n",
       "    (11): Conv2d(128, 128, kernel_size=(3, 3), stride=(1, 1), padding=(1, 1))\n",
       "    (12): BatchNorm2d(128, eps=1e-05, momentum=0.1, affine=True, track_running_stats=True)\n",
       "    (13): LeakyReLU(negative_slope=0.01)\n",
       "    (14): MaxPool2d(kernel_size=2, stride=2, padding=0, dilation=1, ceil_mode=False)\n",
       "    (15): Dropout(p=0.4, inplace=False)\n",
       "    (16): Conv2d(128, 256, kernel_size=(3, 3), stride=(1, 1), padding=(1, 1))\n",
       "    (17): BatchNorm2d(256, eps=1e-05, momentum=0.1, affine=True, track_running_stats=True)\n",
       "    (18): LeakyReLU(negative_slope=0.01)\n",
       "    (19): MaxPool2d(kernel_size=2, stride=2, padding=0, dilation=1, ceil_mode=False)\n",
       "    (20): Dropout(p=0.4, inplace=False)\n",
       "  )\n",
       "  (fc): Sequential(\n",
       "    (0): Flatten(start_dim=1, end_dim=-1)\n",
       "    (1): Linear(in_features=2304, out_features=512, bias=True)\n",
       "    (2): ReLU()\n",
       "    (3): Dropout(p=0.4, inplace=False)\n",
       "    (4): Linear(in_features=512, out_features=10, bias=True)\n",
       "  )\n",
       ")"
      ]
     },
     "execution_count": 108,
     "metadata": {},
     "output_type": "execute_result"
    }
   ],
   "source": [
    "# Training loop\n",
    "epochs = 20\n",
    "best_val_loss = float('inf')\n",
    "early_stop_counter = 0\n",
    "patience = 5\n",
    "print(\"Training on\", device)\n",
    "for epoch in range(epochs):\n",
    "    print(f\"Epoch {epoch+1}/{epochs}\")\n",
    "    model.train()\n",
    "    train_loss = 0\n",
    "    for X_batch, y_batch in train_loader:\n",
    "        X_batch, y_batch = X_batch.to(device), y_batch.to(device)\n",
    "        optimizer.zero_grad()\n",
    "        outputs = model(X_batch)\n",
    "        loss = criterion(outputs, y_batch)\n",
    "        loss.backward()\n",
    "        optimizer.step()\n",
    "        train_loss += loss.item()\n",
    "        \n",
    "    model.eval()\n",
    "    val_loss = 0\n",
    "    correct = 0\n",
    "    total = 0\n",
    "    with torch.no_grad():\n",
    "        for X_batch, y_batch in val_loader:\n",
    "            X_batch, y_batch = X_batch.to(device), y_batch.to(device)\n",
    "            outputs = model(X_batch)\n",
    "            loss = criterion(outputs, y_batch)\n",
    "            val_loss += loss.item()\n",
    "            _, predicted = torch.max(outputs, 1)\n",
    "            correct += (predicted == y_batch).sum().item()\n",
    "            total += y_batch.size(0)\n",
    "\n",
    "    val_loss /= len(val_loader)\n",
    "    train_loss /= len(train_loader)\n",
    "    val_accuracy = correct / total\n",
    "\n",
    "    print(f\"Epoch {epoch+1}/{epochs}, Train Loss: {train_loss:.4f}, Val Loss: {val_loss:.4f}, Val Accuracy: {val_accuracy:.4f}\")\n",
    "\n",
    "    scheduler.step(val_loss)\n",
    "\n",
    "    if val_loss < best_val_loss:\n",
    "        best_val_loss = val_loss\n",
    "        torch.save(model.state_dict(), \"mnist-cnn.pth\")\n",
    "        early_stop_counter = 0\n",
    "    else:\n",
    "        early_stop_counter += 1\n",
    "        if early_stop_counter >= patience:\n",
    "            print(\"Early stopping triggered.\")\n",
    "            break\n",
    "\n",
    "# Load the best model for inference\n",
    "model.load_state_dict(torch.load(\"mnist-cnn.pth\"))\n",
    "model.eval()\n"
   ]
  },
  {
   "cell_type": "code",
   "execution_count": null,
   "metadata": {},
   "outputs": [],
   "source": [
    "model = MnistModel()\n",
    "# Load the best model for inference\n",
    "model.load_state_dict(torch.load(\"mnist-cnn.pth\"))\n",
    "model.eval()"
   ]
  },
  {
   "cell_type": "code",
   "execution_count": 129,
   "metadata": {},
   "outputs": [],
   "source": [
    "# def evaluate(model, val_loader):\n",
    "#     outputs = []\n",
    "#     for batch in val_loader:\n",
    "#         X_batch = batch.to(device)  # Move images to the device\n",
    "#         outputs.append(model.validation_step((X_batch, None)))  # Pass labels as None\n",
    "#     return model.validation_epoch_end(outputs)\n",
    "\n",
    "def evaluate(model, val_loader):\n",
    "  outputs = [model.validation_step(batch) for batch in val_loader]\n",
    "  return(model.validation_epoch_end(outputs))\n"
   ]
  },
  {
   "cell_type": "code",
   "execution_count": 194,
   "metadata": {},
   "outputs": [],
   "source": [
    "test_data_csv = pd.read_csv(data_dir + 'digit-recognizer/test.csv').values\n",
    "test_dataset = DigitDataset(root = data_dir, train = False, transform = transforms.ToTensor(), download=False, data=test_data_csv, targets=None)\n",
    "test_loader = DataLoader(test_dataset, batch_size = 256)\n",
    "# result = evaluate(model, test_loader)\n",
    "# result"
   ]
  },
  {
   "cell_type": "code",
   "execution_count": 198,
   "metadata": {},
   "outputs": [
    {
     "name": "stdout",
     "output_type": "stream",
     "text": [
      "[2, 0, 9, 0, 3, 7, 0, 3, 0, 3, 5, 7, 4, 0, 4, 3, 3, 1, 9, 0, 9, 1, 1, 5, 7, 4, 2, 7, 4, 7, 7, 5, 4, 2, 6, 2, 5, 5, 1, 6, 7, 7, 4, 9, 8, 7, 8, 2, 6, 7, 6, 8, 8, 3, 8, 2, 1, 2, 2, 0, 4, 1, 7, 0, 0, 0, 1, 9, 0, 1, 6, 5, 8, 8, 2, 8, 9, 9, 2, 3, 5, 4, 1, 0, 9, 2, 4, 3, 6, 7, 2, 0, 6, 6, 1, 4, 3, 9, 7, 4, 0, 9, 2, 0, 7, 3, 0, 5, 0, 8, 0, 0, 4, 7, 1, 7, 1, 1, 3, 3, 3, 7, 2, 8, 6, 3, 8, 7, 7, 4, 3, 5, 6, 0, 0, 0, 3, 1, 3, 6, 4, 3, 4, 5, 5, 8, 7, 7, 2, 8, 4, 3, 5, 6, 5, 3, 7, 5, 7, 8, 3, 0, 4, 5, 1, 3, 7, 6, 3, 0, 2, 7, 8, 6, 1, 3, 7, 4, 1, 2, 4, 8, 5, 2, 4, 9, 2, 1, 6, 0, 6, 1, 4, 9, 6, 0, 9, 7, 6, 9, 1, 9, 0, 9, 9, 0, 8, 4, 6, 2, 0, 9, 3, 6, 3, 2, 1, 6, 3, 4, 2, 3, 1, 2, 2, 0, 4, 6, 1, 0, 0, 4, 9, 1, 7, 3, 2, 3, 8, 6, 8, 6, 2, 8, 5, 5, 4, 8, 3, 5, 9, 7, 1, 3, 8, 4, 5, 1, 4, 5, 6, 3, 3, 5, 7, 0, 6, 8, 3, 1, 6, 0, 6, 3, 9, 5, 1, 5, 8, 4, 0, 9, 2, 0, 5, 3, 7, 1, 9, 9, 5, 7, 7, 9, 9, 6, 3, 0, 3, 3, 6, 9, 8, 2, 6, 3, 7, 1, 4, 5, 8, 5, 9, 0, 0, 3, 8, 4, 1, 8, 4, 1, 1, 9, 8, 4, 5, 1, 5, 3, 6, 3, 1, 3, 0, 9, 0, 0, 6, 0, 6, 3, 1, 8, 6, 0, 6, 5, 2, 2, 6, 7, 7, 2, 5, 8, 3, 9, 2, 7, 8, 6, 3, 8, 4, 2, 3, 8, 1, 6, 4, 8, 7, 9, 7, 6, 9, 5, 3, 7, 6, 5, 5, 4, 2, 6, 2, 1, 3, 7, 1, 7, 9, 9, 6, 1, 1, 1, 7, 3, 9, 7, 6, 1, 1, 1, 9, 3, 8, 5, 5, 0, 4, 1, 2, 3, 1, 1, 3, 5, 9, 6, 6, 5, 3, 1, 4, 7, 4, 7, 4, 8, 5, 2, 6, 1, 3, 9, 5, 0, 8, 4, 7, 4, 4, 4, 1, 5, 3, 9, 9, 7, 6, 9, 5, 9, 2, 3, 5, 6, 1, 7, 5, 0, 5, 1, 7, 4, 4, 1, 1, 4, 9, 5, 6, 0, 1, 3, 1, 0, 4, 8, 1, 2, 7, 9, 4, 8, 3, 7, 7, 4, 2, 4, 6, 7, 6, 3, 2, 0, 6, 5, 9, 4, 1, 8, 3, 3, 0, 2, 7, 6, 8, 7, 5, 3, 5, 7, 4, 3, 6, 9, 0, 7, 7, 1, 0, 1, 1, 7, 0, 5, 3, 8, 3, 5, 6, 5, 7, 3, 0, 2, 8, 2, 0, 3, 0, 9, 2, 1, 1, 3, 0, 5, 5, 0, 7, 5, 6, 2, 0, 3, 8, 1, 6, 5, 4, 1, 1, 4, 6, 5, 3, 6, 0, 4, 8, 2, 4, 2, 5, 1, 7, 6, 9, 1, 7, 3, 8, 0, 8, 8, 4, 5, 3, 6, 6, 6, 0, 3, 5, 1, 7, 1, 6, 2, 8, 5, 6, 4, 7, 4, 3, 3, 2, 4, 7, 0, 0, 9, 8, 5, 9, 4, 0, 8, 8, 3, 6, 2, 6, 1, 8, 6, 1, 4, 7, 7, 8, 3, 0, 9, 9, 6, 7, 2, 4, 8, 1, 8, 4, 8, 0, 2, 8, 2, 4, 3, 3, 7, 2, 3, 4, 0, 4, 8, 1, 3, 3, 6, 3, 9, 4, 3, 8, 7, 7, 2, 6, 0, 6, 9, 8, 8, 1, 3, 4, 6, 9, 9, 2, 6, 0, 1, 8, 4, 3, 9, 8, 8, 4, 0, 5, 0, 6, 0, 4, 4, 6, 5, 1, 8, 1, 5, 3, 6, 2, 3, 7, 8, 9, 3, 1, 0, 1, 0, 6, 4, 7, 5, 7, 1, 3, 2, 7, 7, 1, 5, 1, 5, 4, 4, 3, 4, 3, 9, 0, 7, 8, 6, 4, 9, 4, 4, 1, 4, 7, 1, 1, 8, 3, 0, 4, 0, 4, 0, 0, 5, 1, 8, 6, 5, 0, 1, 5, 3, 4, 6, 3, 1, 1, 6, 9, 8, 3, 5, 5, 4, 8, 8, 5, 0, 4, 0, 4, 3, 1, 6, 9, 9, 1, 1, 3, 3, 1, 4, 9, 6, 9, 1, 5, 4, 2, 3, 2, 4, 0, 9, 7, 4, 3, 0, 5, 0, 1, 9, 0, 4, 5, 2, 8, 0, 5, 9, 3, 9, 6, 1, 5, 5, 1, 9, 0, 8, 2, 6, 7, 2, 8, 5, 8, 9, 7, 7, 2, 8, 1, 3, 4, 5, 0, 4, 1, 4, 2, 3, 6, 9, 2, 3, 4, 5, 4, 2, 3, 3, 1, 1, 0, 1, 4, 9, 1, 1, 2, 7, 1, 5, 4, 9, 1, 7, 6, 0, 4, 2, 9, 4, 1, 1, 5, 3, 5, 7, 9, 7, 8, 3, 2, 7, 2, 0, 4, 7, 1, 6, 4, 6, 1, 5, 7, 3, 5, 9, 4, 7, 9, 6, 6, 3, 3, 2, 1, 4, 5, 3, 7, 7, 9, 5, 6, 2, 6, 1, 0, 9, 3, 2, 9, 2, 6, 7, 5, 2, 3, 2, 8, 3, 0, 2, 7, 9, 4, 0, 9, 5, 1, 8, 8, 5, 3, 2, 9, 6, 7, 0, 8, 0, 7, 4, 5, 8, 7, 9, 7, 7, 0, 5, 3, 2, 1, 9, 0, 6, 8, 3, 6, 2, 2, 9, 0, 7, 0, 7, 1, 3, 4, 6, 3, 9, 2, 6, 3, 7, 3, 7, 2, 3, 4, 9, 5, 9, 9, 6, 2, 6, 1, 5, 5, 1, 9, 1, 8, 9, 4, 5, 9, 5, 2, 0, 1, 6, 1, 9, 2, 2, 7, 7, 6, 6, 2, 6, 3, 5, 9, 1, 1, 3, 6, 3, 0, 0, 6, 0, 9, 4, 7, 0, 5, 9, 0, 8, 7, 6, 9, 2, 6, 1, 2, 9, 3, 0, 2, 3, 7, 7, 6, 6, 3, 1, 3, 1, 0, 1, 7, 6, 3, 3, 3, 3, 4, 2, 9, 1, 8, 2, 0, 6, 4, 6, 7, 2, 4, 1, 0, 5, 2, 6, 4, 9, 8, 5, 4, 1, 6, 3, 8, 6, 1, 2, 0, 8, 8, 0, 3, 6, 8, 7, 7, 7, 6, 0, 2, 1, 2, 8, 4, 5, 5, 3, 0, 7, 8, 4, 7, 4, 4, 1, 8, 0, 9, 1, 9, 0, 6, 4, 1, 2, 4, 5, 8, 2, 9, 1, 8, 2, 2, 7, 2, 5, 3, 8, 9, 4, 0, 7, 0, 3, 5, 9, 7, 3, 3, 8, 8, 9, 3, 2, 5, 4, 4, 8, 3, 0, 1, 7, 9, 6, 4, 0, 4, 7, 8, 4, 5, 9, 6, 7, 8, 2, 0, 0, 5, 0, 5, 9, 9, 9, 9, 5, 4, 3, 7, 5, 4, 6, 9, 5, 4, 9, 9, 5, 7, 8, 2, 4, 7, 4, 3, 8, 6, 6, 0, 4, 5, 5, 7, 6, 5, 5, 1, 9, 4, 2, 2, 1, 9, 9, 8, 1, 1, 8, 1, 0, 0, 4, 0, 2, 7, 6, 1, 4, 7, 0, 7, 1, 0, 3, 3, 1, 9, 8, 4, 6, 5, 9, 8, 6, 3, 6, 6, 6, 1, 1, 4, 0, 7, 4, 0, 4, 6, 7, 9, 5, 9, 6, 2, 4, 7, 5, 9, 8, 5, 1, 8, 0, 3, 6, 8, 1, 3, 0, 3, 1, 9, 1, 4, 5, 8, 2, 2, 9, 1, 3, 3, 0, 5, 6, 1, 8, 3, 6, 7, 2, 3, 2, 9, 2, 1, 5, 9, 8, 7, 3, 8, 4, 5, 8, 2, 1, 6, 7, 6, 1, 1, 0, 5, 0, 9, 1, 7, 4, 0, 8, 7, 5, 9, 8, 8, 7, 5, 4, 3, 7, 9, 4, 7, 2, 7, 4, 1, 5, 8, 2, 3, 5, 7, 8, 4, 5, 9, 1, 5, 1, 1, 3, 7, 5, 1, 7, 9, 2, 3, 6, 8, 8, 5, 0, 8, 8, 4, 7, 1, 9, 6, 8, 9, 4, 9, 9, 6, 3, 2, 7, 4, 8, 0, 4, 9, 0, 8, 8, 7, 0, 9, 0, 8, 7, 0, 8, 5, 3, 3, 6, 2, 5, 3, 1, 3, 3, 1, 0, 6, 5, 9, 3, 2, 9, 4, 8, 8, 7, 6, 4, 4, 0, 7, 5, 9, 6, 7, 3, 8, 9, 5, 0, 8, 6, 0, 3, 0, 1, 8, 2, 8, 6, 0, 1, 2, 0, 7, 3, 6, 9, 2, 3, 1, 7, 3, 9, 5, 9, 9, 1, 1, 5, 8, 3, 2, 5, 4, 1, 8, 4, 0, 7, 0, 9, 0, 0, 7, 1, 3, 5, 5, 8, 9, 7, 9, 4, 6, 0, 1, 9, 2, 7, 4, 8, 5, 0, 5, 9, 8, 7, 5, 0, 8, 9, 9, 6, 3, 0, 8, 7, 5, 2, 6, 1, 7, 2, 3, 8, 8, 1, 4, 6, 1, 4, 0, 2, 3, 6, 3, 3, 2, 9, 1, 3, 2, 5, 8, 7, 7, 6, 2, 0, 3, 2, 8, 1, 5, 4, 3, 3, 1, 9, 3, 2, 1, 1, 3, 6, 1, 3, 4, 4, 9, 6, 6, 7, 5, 9, 6, 6, 1, 0, 7, 8, 8, 8, 3, 7, 7, 7, 1, 4, 6, 1, 0, 0, 1, 7, 7, 8, 8, 9, 8, 2, 4, 8, 1, 3, 6, 1, 3, 3, 6, 6, 5, 8, 8, 5, 4, 5, 9, 8, 2, 0, 1, 3, 3, 5, 6, 3, 3, 6, 4, 3, 3, 7, 7, 5, 6, 5, 1, 7, 4, 5, 9, 0, 2, 8, 0, 9, 5, 3, 0, 8, 0, 7, 7, 1, 5, 4, 4, 9, 7, 0, 3, 1, 3, 3, 6, 2, 4, 2, 1, 6, 5, 9, 3, 4, 1, 9, 4, 0, 3, 5, 1, 0, 0, 5, 3, 9, 4, 9, 1, 0, 0, 5, 7, 1, 6, 8, 3, 7, 0, 3, 8, 2, 8, 6, 7, 9, 1, 8, 4, 5, 3, 1, 5, 2, 2, 5, 3, 8, 8, 2, 7, 4, 8, 5, 7, 0, 6, 6, 2, 3, 2, 2, 9, 1, 9, 6, 9, 2, 2, 6, 0, 4, 0, 0, 0, 0, 3, 0, 4, 3, 6, 7, 8, 6, 0, 5, 1, 8, 5, 6, 0, 2, 7, 2, 1, 3, 9, 9, 3, 0, 3, 5, 9, 6, 8, 3, 1, 0, 0, 9, 0, 6, 6, 2, 4, 3, 0, 2, 7, 1, 5, 8, 5, 8, 8, 4, 7, 4, 3, 6, 5, 7, 3, 1, 6, 7, 1, 3, 1, 8, 8, 1, 5, 2, 2, 6, 9, 0, 2, 7, 2, 7, 4, 4, 9, 3, 0, 4, 5, 1, 4, 6, 9, 7, 6, 5, 0, 6, 1, 3, 8, 4, 6, 0, 0, 3, 7, 9, 8, 6, 9, 9, 1, 5, 0, 9, 1, 7, 9, 0, 8, 9, 0, 6, 9, 2, 4, 2, 1, 9, 4, 4, 8, 8, 6, 5, 6, 1, 3, 5, 9, 3, 9, 7, 0, 7, 6, 5, 8, 6, 6, 0, 7, 4, 5, 8, 7, 7, 8, 5, 5, 5, 5, 3, 6, 8, 3, 6, 1, 9, 8, 0, 9, 4, 4, 5, 8, 4, 0, 9, 3, 0, 9, 4, 6, 4, 0, 2, 0, 1, 7, 5, 9, 8, 7, 8, 6, 2, 0, 0, 3, 7, 8, 6, 1, 6, 7, 2, 5, 9, 7, 1, 1, 4, 1, 6, 6, 7, 0, 8, 4, 7, 0, 9, 4, 6, 2, 6, 7, 3, 2, 9, 6, 5, 2, 5, 8, 5, 6, 3, 2, 2, 7, 7, 3, 4, 9, 2, 8, 0, 2, 4, 0, 9, 4, 5, 8, 8, 9, 3, 3, 5, 9, 0, 7, 0, 5, 5, 2, 9, 1, 9, 9, 4, 6, 4, 6, 8, 9, 0, 0, 8, 2, 1, 6, 8, 2, 3, 0, 2, 5, 5, 7, 3, 3, 3, 9, 6, 2, 3, 4, 3, 7, 7, 9, 2, 6, 6, 9, 5, 8, 0, 6, 7, 4, 2, 2, 4, 0, 6, 2, 1, 4, 2, 6, 7, 5, 2, 7, 0, 6, 8, 2, 4, 4, 5, 7, 6, 8, 1, 4, 6, 6, 1, 5, 2, 5, 0, 0, 1, 1, 4, 7, 0, 3, 6, 5, 0, 5, 2, 0, 8, 9, 1, 5, 7, 3, 3, 6, 1, 6, 5, 9, 5, 2, 0, 7, 4, 0, 2, 7, 4, 4, 6, 0, 4, 6, 8, 9, 1, 7, 4, 7, 9, 4, 7, 4, 8, 5, 9, 5, 5, 1, 9, 3, 2, 4, 0, 2, 6, 6, 8, 0, 4, 3, 1, 2, 6, 7, 3, 7, 7, 1, 5, 5, 4, 0, 1, 2, 2, 1, 1, 4, 2, 2, 1, 1, 7, 9, 4, 8, 0, 8, 9, 3, 8, 9, 4, 6, 3, 3, 3, 9, 9, 3, 6, 9, 1, 4, 6, 0, 6, 0, 5, 9, 0, 1, 8, 0, 4, 2, 0, 1, 5, 3, 4, 5, 7, 6, 8, 8, 7, 9, 0, 3, 2, 6, 0, 5, 5, 9, 6, 5, 4, 2, 1, 4, 3, 6, 4, 8, 7, 2, 8, 0, 3, 4, 5, 3, 3, 1, 6, 4, 5, 9, 7, 0, 1, 2, 5, 3, 2, 6, 4, 2, 5, 9, 3, 4, 6, 3, 5, 8, 2, 8, 9, 8, 7, 5, 9, 9, 9, 4, 6, 7, 3, 6, 9, 9, 6, 6, 0, 9, 4, 9, 7, 4, 1, 7, 2, 8, 8, 0, 5, 6, 7, 1, 8, 0, 8, 0, 9, 4, 2, 4, 2, 1, 1, 6, 7, 6, 7, 5, 3, 6, 6, 3, 4, 8, 7, 8, 8, 7, 0, 0, 7, 7, 1, 6, 0, 3, 9, 9, 3, 5, 1, 7, 0, 1, 9, 5, 7, 9, 0, 1, 9, 0, 9, 8, 4, 2, 2, 5, 5, 0, 0, 5, 9, 4, 3, 4, 2, 5, 0, 0, 3, 3, 3, 5, 9, 0, 1, 4, 5, 9, 2, 2, 3, 3, 4, 4, 1, 0, 8, 3, 5, 5, 6, 9, 1, 9, 8, 7, 0, 3, 3, 8, 7, 0, 3, 3, 9, 7, 3, 1, 9, 6, 3, 3, 4, 0, 2, 1, 3, 9, 5, 1, 7, 9, 7, 9, 6, 1, 5, 6, 6, 9, 0, 4, 2, 2, 4, 3, 7, 6, 4, 1, 4, 2, 4, 1, 0, 2, 2, 1, 0, 2, 7, 2, 6, 8, 2, 0, 2, 0, 0, 5, 0, 3, 9, 0, 6, 6, 4, 1, 5, 9, 2, 4, 2, 9, 1, 1, 3, 0, 1, 1, 5, 0, 2, 4, 7, 3, 6, 8, 7, 8, 8, 7, 2, 6, 9, 4, 5, 7, 1, 3, 6, 0, 9, 9, 4, 6, 8, 6, 4, 1, 0, 3, 3, 0, 1, 8, 9, 8, 5, 2, 7, 3, 4, 6, 2, 9, 3, 0, 7, 4, 8, 8, 2, 4, 0, 2, 9, 8, 3, 9, 9, 0, 1, 6, 7, 7, 8, 4, 6, 8, 7, 6, 6, 3, 3, 5, 2, 1, 6, 4, 1, 9, 9, 6, 4, 6, 4, 5, 9, 4, 9, 9, 3, 2, 5, 1, 6, 2, 2, 7, 2, 3, 4, 7, 4, 1, 0, 1, 9, 0, 7, 4, 9, 0, 9, 7, 4, 0, 9, 6, 7, 4, 9, 7, 0, 2, 8, 5, 2, 4, 2, 4, 5, 2, 6, 6, 8, 8, 6, 7, 4, 1, 4, 8, 3, 2, 5, 4, 0, 9, 0, 1, 4, 9, 7, 7, 3, 9, 5, 3, 1, 9, 2, 6, 7, 9, 1, 0, 5, 1, 6, 8, 8, 6, 7, 3, 7, 2, 8, 5, 5, 0, 8, 1, 5, 6, 8, 9, 9, 1, 6, 9, 8, 5, 3, 7, 7, 8, 7, 4, 7, 0, 4, 0, 5, 4, 3, 1, 9, 6, 3, 0, 0, 2, 8, 9, 9, 1, 1, 8, 1, 3, 2, 3, 1, 0, 3, 8, 5, 0, 7, 2, 0, 6, 1, 8, 1, 1, 8, 2, 2, 6, 1, 7, 9, 7, 6, 7, 5, 1, 9, 6, 3, 7, 6, 4, 4, 4, 0, 8, 2, 0, 8, 6, 4, 8, 1, 9, 2, 9, 5, 1, 5, 1, 1, 4, 7, 0, 1, 2, 4, 6, 1, 4, 2, 9, 2, 7, 2, 6, 4, 5, 5, 5, 8, 9, 6, 1, 1, 6, 1, 2, 1, 9, 4, 7, 4, 7, 1, 0, 6, 4, 6, 5, 3, 3, 4, 0, 1, 1, 6, 0, 5, 1, 2, 7, 6, 4, 3, 9, 0, 4, 0, 3, 1, 4, 9, 2, 1, 7, 0, 9, 6, 8, 5, 8, 6, 0, 8, 7, 9, 9, 3, 1, 3, 2, 3, 1, 1, 2, 0, 0, 7, 2, 8, 1, 6, 0, 6, 7, 4, 3, 6, 7, 2, 2, 8, 9, 9, 4, 2, 7, 7, 3, 5, 1, 7, 7, 3, 7, 8, 4, 2, 5, 6, 1, 9, 7, 7, 7, 8, 9, 9, 7, 8, 9, 5, 7, 9, 5, 0, 7, 6, 1, 6, 5, 2, 7, 2, 5, 6, 9, 5, 8, 2, 2, 2, 9, 7, 9, 5, 1, 1, 1, 4, 5, 6, 1, 7, 0, 7, 9, 2, 7, 2, 3, 1, 5, 7, 1, 5, 1, 6, 0, 2, 6, 9, 9, 7, 9, 8, 7, 7, 7, 5, 6, 2, 9, 8, 8, 8, 7, 3, 1, 3, 4, 8, 2, 0, 2, 6, 3, 1, 0, 9, 9, 1, 6, 8, 8, 6, 6, 2, 2, 6, 1, 6, 6, 2, 0, 6, 0, 8, 2, 2, 8, 6, 4, 8, 5, 0, 4, 0, 0, 9, 7, 9, 2, 9, 2, 8, 5, 3, 5, 8, 7, 9, 5, 7, 3, 0, 2, 8, 0, 5, 9, 6, 9, 9, 3, 9, 2, 2, 3, 3, 7, 4, 5, 8, 5, 8, 6, 2, 3, 1, 2, 6, 8, 5, 5, 2, 7, 4, 1, 9, 3, 6, 8, 8, 2, 5, 8, 3, 9, 1, 6, 9, 6, 7, 5, 8, 1, 6, 8, 6, 7, 5, 1, 2, 8, 9, 3, 8, 8, 3, 9, 4, 8, 7, 6, 9, 5, 3, 0, 9, 9, 6, 8, 7, 9, 1, 2, 3, 2, 1, 5, 2, 3, 4, 4, 4, 3, 0, 0, 3, 1, 3, 1, 1, 8, 5, 6, 2, 7, 6, 0, 4, 4, 7, 0, 7, 0, 8, 7, 1, 3, 7, 8, 9, 0, 9, 0, 0, 1, 8, 8, 7, 4, 8, 3, 5, 9, 0, 3, 6, 3, 6, 5, 0, 4, 2, 6, 5, 3, 0, 9, 4, 5, 7, 7, 4, 2, 3, 9, 2, 8, 8, 0, 1, 9, 4, 2, 2, 1, 8, 2, 7, 3, 5, 1, 3, 0, 2, 2, 1, 7, 9, 1, 8, 7, 1, 6, 9, 7, 1, 8, 9, 9, 2, 0, 6, 1, 5, 2, 0, 9, 2, 5, 5, 3, 4, 0, 4, 0, 9, 4, 0, 4, 3, 7, 8, 0, 4, 0, 2, 4, 8, 2, 1, 5, 2, 5, 8, 5, 6, 1, 4, 8, 6, 2, 1, 3, 9, 8, 3, 7, 8, 7, 8, 2, 1, 5, 6, 4, 7, 5, 5, 4, 0, 8, 1, 6, 0, 3, 3, 7, 8, 8, 4, 3, 4, 3, 2, 1, 7, 0, 9, 4, 2, 8, 6, 8, 5, 2, 8, 4, 8, 1, 4, 3, 7, 1, 2, 1, 5, 3, 5, 7, 2, 4, 7, 6, 3, 1, 2, 8, 6, 8, 7, 6, 2, 0, 1, 8, 0, 6, 3, 9, 7, 3, 1, 9, 4, 6, 9, 7, 1, 7, 8, 1, 3, 5, 1, 2, 7, 6, 6, 5, 0, 4, 5, 9, 6, 3, 9, 1, 2, 4, 1, 3, 4, 0, 1, 8, 0, 2, 9, 2, 7, 7, 9, 1, 4, 7, 3, 3, 9, 9, 1, 3, 7, 8, 4, 9, 7, 9, 7, 1, 5, 4, 0, 0, 0, 5, 5, 8, 3, 0, 4, 1, 2, 8, 1, 0, 8, 8, 3, 4, 9, 9, 3, 2, 7, 2, 6, 8, 1, 0, 1, 8, 1, 3, 7, 4, 9, 9, 3, 5, 0, 3, 8, 4, 8, 6, 1, 5, 9, 6, 6, 6, 1, 9, 0, 3, 9, 8, 4, 6, 3, 6, 8, 9, 9, 5, 1, 8, 0, 2, 0, 8, 9, 5, 2, 0, 1, 1, 9, 2, 8, 1, 8, 8, 8, 7, 9, 6, 7, 9, 5, 7, 4, 6, 4, 9, 6, 0, 0, 4, 3, 5, 7, 1, 7, 1, 9, 2, 1, 3, 1, 9, 1, 8, 5, 8, 7, 9, 3, 2, 3, 6, 1, 7, 5, 2, 2, 6, 3, 7, 0, 5, 6, 7, 9, 6, 8, 6, 0, 9, 5, 9, 4, 1, 9, 5, 0, 7, 6, 2, 5, 5, 6, 6, 0, 4, 3, 8, 4, 3, 5, 0, 2, 6, 5, 0, 2, 6, 0, 6, 0, 5, 3, 6, 1, 9, 3, 8, 4, 3, 3, 2, 5, 4, 4, 0, 6, 1, 2, 0, 3, 5, 5, 0, 4, 1, 1, 3, 3, 9, 3, 3, 6, 4, 9, 0, 6, 9, 7, 9, 8, 5, 7, 9, 1, 4, 6, 8, 6, 8, 4, 9, 7, 1, 6, 8, 6, 7, 9, 4, 2, 0, 9, 9, 9, 1, 6, 6, 8, 0, 6, 3, 7, 7, 6, 7, 0, 1, 6, 5, 4, 5, 6, 2, 5, 3, 9, 5, 1, 3, 9, 6, 9, 7, 0, 6, 2, 7, 6, 9, 0, 3, 8, 1, 2, 9, 3, 0, 8, 1, 3, 9, 8, 6, 5, 1, 3, 6, 7, 1, 5, 1, 8, 1, 7, 3, 7, 9, 5, 2, 4, 9, 6, 8, 6, 6, 0, 8, 1, 7, 7, 1, 9, 0, 1, 4, 9, 1, 7, 3, 1, 6, 2, 2, 7, 2, 4, 1, 5, 6, 1, 3, 3, 2, 2, 9, 1, 9, 4, 8, 5, 5, 6, 3, 8, 1, 3, 9, 5, 6, 7, 5, 3, 3, 7, 7, 1, 8, 0, 6, 8, 9, 3, 3, 6, 8, 2, 0, 1, 0, 1, 1, 3, 1, 2, 9, 0, 3, 8, 8, 0, 5, 9, 8, 3, 3, 1, 3, 6, 5, 2, 7, 7, 9, 8, 5, 7, 1, 7, 4, 3, 9, 4, 4, 3, 2, 0, 0, 0, 3, 1, 1, 4, 3, 4, 2, 2, 2, 8, 4, 7, 4, 0, 4, 9, 1, 0, 7, 1, 2, 1, 6, 2, 4, 0, 4, 6, 0, 5, 1, 4, 1, 6, 2, 9, 7, 3, 4, 3, 9, 0, 1, 4, 8, 6, 2, 1, 1, 7, 3, 2, 9, 2, 2, 5, 2, 1, 0, 2, 5, 0, 0, 0, 4, 2, 7, 3, 0, 2, 1, 9, 0, 8, 5, 3, 8, 2, 2, 0, 2, 7, 0, 4, 0, 3, 0, 2, 2, 8, 0, 9, 2, 3, 0, 2, 4, 8, 7, 1, 4, 2, 2, 1, 6, 7, 6, 6, 3, 3, 6, 7, 3, 9, 1, 2, 8, 5, 0, 1, 0, 9, 7, 9, 0, 8, 5, 1, 4, 7, 6, 4, 8, 1, 2, 2, 6, 4, 2, 9, 8, 2, 6, 5, 8, 3, 1, 7, 4, 6, 0, 1, 3, 8, 1, 4, 0, 8, 6, 6, 1, 6, 2, 3, 9, 1, 5, 6, 6, 1, 4, 0, 3, 6, 0, 5, 6, 8, 9, 4, 7, 7, 7, 8, 8, 7, 5, 2, 7, 8, 1, 1, 9, 5, 4, 1, 0, 1, 3, 2, 3, 6, 3, 3, 8, 2, 7, 1, 7, 7, 0, 0, 3, 0, 0, 2, 0, 0, 7, 1, 7, 8, 6, 6, 7, 1, 6, 6, 2, 4, 9, 1, 3, 4, 0, 4, 9, 2, 8, 6, 2, 7, 4, 7, 5, 0, 3, 7, 5, 6, 6, 9, 0, 3, 5, 2, 8, 9, 8, 2, 2, 9, 7, 1, 7, 7, 2, 7, 3, 2, 2, 8, 4, 0, 2, 2, 8, 1, 1, 2, 2, 2, 3, 0, 1, 6, 3, 9, 4, 3, 9, 7, 9, 0, 7, 3, 5, 2, 3, 0, 1, 9, 9, 7, 9, 2, 7, 4, 7, 0, 6, 5, 1, 9, 5, 2, 7, 2, 2, 5, 6, 8, 5, 8, 2, 3, 3, 1, 4, 7, 3, 8, 4, 5, 7, 4, 1, 9, 0, 4, 8, 0, 6, 5, 6, 5, 2, 0, 3, 3, 1, 6, 1, 4, 1, 1, 1, 1, 3, 9, 1, 0, 4, 2, 9, 3, 5, 9, 5, 5, 2, 5, 0, 8, 0, 4, 2, 4, 3, 8, 7, 9, 4, 0, 1, 4, 9, 1, 4, 3, 2, 0, 8, 4, 1, 0, 9, 3, 2, 4, 6, 9, 0, 6, 1, 1, 7, 4, 7, 8, 7, 5, 7, 0, 1, 8, 4, 2, 5, 4, 8, 9, 1, 0, 2, 8, 7, 8, 4, 4, 7, 6, 9, 4, 1, 7, 8, 8, 3, 4, 2, 4, 1, 8, 7, 8, 7, 4, 9, 4, 7, 3, 6, 9, 1, 5, 1, 0, 1, 8, 1, 6, 4, 3, 3, 6, 5, 5, 8, 1, 9, 2, 3, 7, 9, 9, 2, 9, 8, 3, 4, 5, 1, 4, 9, 6, 1, 3, 5, 6, 9, 6, 5, 3, 5, 4, 5, 0, 2, 6, 8, 9, 9, 9, 6, 6, 7, 5, 8, 2, 0, 9, 5, 0, 1, 9, 7, 2, 3, 3, 0, 4, 9, 3, 1, 3, 9, 0, 3, 8, 4, 9, 4, 6, 8, 9, 6, 9, 0, 8, 6, 5, 0, 4, 8, 6, 0, 0, 9, 1, 4, 2, 5, 6, 3, 8, 8, 8, 8, 2, 4, 2, 7, 6, 4, 7, 8, 6, 9, 8, 6, 3, 5, 4, 3, 9, 9, 3, 0, 8, 2, 9, 1, 6, 9, 1, 0, 1, 8, 7, 6, 5, 5, 4, 1, 7, 3, 9, 1, 1, 2, 3, 9, 0, 7, 2, 2, 4, 1, 7, 7, 7, 8, 3, 5, 1, 6, 2, 1, 0, 8, 7, 2, 5, 1, 1, 8, 6, 9, 6, 6, 9, 8, 1, 7, 4, 9, 8, 6, 7, 8, 0, 7, 6, 1, 6, 8, 1, 3, 9, 0, 7, 5, 3, 2, 7, 0, 8, 1, 4, 0, 8, 7, 0, 6, 5, 1, 7, 0, 1, 6, 6, 1, 4, 8, 6, 8, 9, 5, 1, 0, 2, 2, 0, 7, 8, 3, 5, 1, 8, 3, 7, 6, 9, 8, 4, 9, 1, 0, 3, 3, 5, 9, 2, 7, 6, 3, 3, 8, 0, 0, 9, 7, 5, 5, 0, 3, 0, 7, 2, 1, 0, 7, 1, 5, 7, 0, 2, 5, 4, 2, 0, 1, 3, 1, 1, 3, 6, 6, 8, 4, 2, 3, 0, 1, 4, 4, 1, 8, 8, 9, 7, 6, 2, 5, 1, 9, 7, 5, 9, 1, 4, 3, 9, 4, 6, 9, 8, 5, 0, 8, 4, 7, 0, 0, 8, 0, 4, 7, 0, 2, 2, 7, 9, 6, 9, 5, 6, 1, 1, 1, 4, 8, 7, 9, 6, 2, 2, 2, 8, 5, 7, 1, 1, 1, 2, 9, 1, 8, 1, 9, 2, 1, 0, 6, 4, 7, 6, 5, 9, 1, 2, 8, 8, 4, 4, 3, 7, 1, 7, 9, 2, 8, 8, 6, 1, 3, 4, 5, 6, 8, 7, 0, 0, 1, 5, 4, 5, 5, 7, 3, 2, 0, 9, 9, 4, 9, 5, 0, 3, 6, 3, 3, 1, 7, 4, 0, 0, 2, 7, 7, 8, 8, 7, 4, 5, 0, 1, 9, 7, 4, 5, 0, 9, 8, 6, 3, 3, 1, 6, 8, 8, 0, 9, 9, 1, 1, 3, 7, 4, 0, 3, 0, 4, 9, 9, 8, 8, 0, 9, 0, 1, 6, 0, 2, 0, 2, 5, 7, 0, 6, 9, 8, 2, 2, 5, 3, 6, 4, 3, 2, 5, 9, 3, 5, 2, 9, 5, 4, 1, 7, 2, 5, 3, 9, 7, 2, 4, 0, 8, 7, 9, 7, 8, 4, 6, 6, 3, 2, 6, 7, 0, 6, 0, 2, 2, 3, 0, 0, 3, 3, 4, 1, 1, 4, 3, 3, 0, 0, 3, 2, 4, 1, 5, 9, 2, 4, 9, 5, 8, 9, 9, 9, 1, 8, 0, 0, 9, 0, 8, 2, 0, 9, 8, 6, 2, 3, 2, 0, 6, 3, 8, 1, 9, 2, 0, 4, 2, 8, 9, 4, 3, 6, 0, 2, 0, 4, 5, 3, 4, 1, 2, 2, 4, 9, 4, 3, 2, 1, 9, 1, 6, 1, 0, 3, 4, 0, 1, 9, 4, 0, 0, 4, 8, 1, 9, 2, 3, 3, 4, 3, 7, 0, 7, 9, 7, 4, 5, 9, 7, 7, 0, 4, 2, 2, 7, 8, 5, 0, 4, 9, 8, 8, 2, 4, 1, 4, 1, 4, 1, 0, 9, 9, 5, 6, 4, 9, 1, 2, 6, 0, 3, 0, 2, 3, 0, 4, 0, 1, 0, 8, 4, 9, 3, 7, 1, 4, 1, 7, 6, 0, 7, 7, 1, 5, 0, 3, 6, 0, 2, 8, 8, 8, 5, 7, 7, 2, 9, 6, 7, 8, 8, 8, 7, 3, 1, 7, 3, 1, 8, 0, 1, 0, 4, 3, 7, 2, 9, 7, 9, 3, 6, 2, 3, 4, 1, 3, 0, 9, 9, 2, 6, 4, 0, 0, 7, 5, 1, 8, 3, 8, 1, 6, 5, 8, 9, 3, 2, 0, 7, 1, 6, 7, 1, 6, 8, 4, 3, 5, 9, 1, 3, 5, 3, 1, 9, 2, 5, 8, 6, 3, 6, 0, 9, 2, 5, 1, 3, 7, 4, 4, 4, 2, 0, 6, 3, 1, 0, 4, 3, 6, 1, 7, 6, 2, 7, 1, 7, 0, 6, 9, 6, 5, 1, 3, 6, 8, 1, 9, 8, 6, 6, 9, 3, 6, 8, 2, 4, 0, 6, 1, 8, 5, 1, 4, 0, 9, 9, 9, 4, 8, 4, 1, 6, 4, 9, 1, 8, 9, 2, 3, 4, 6, 1, 0, 1, 6, 7, 9, 0, 0, 8, 1, 4, 2, 5, 2, 8, 4, 6, 9, 7, 1, 8, 3, 5, 4, 9, 3, 3, 5, 3, 0, 0, 5, 9, 2, 5, 3, 7, 6, 5, 9, 6, 5, 0, 2, 1, 3, 8, 5, 7, 7, 0, 7, 7, 1, 5, 6, 7, 0, 4, 3, 0, 0, 0, 0, 7, 6, 8, 8, 6, 7, 1, 3, 1, 0, 2, 3, 5, 1, 8, 6, 1, 7, 6, 3, 6, 6, 8, 3, 8, 5, 1, 5, 2, 6, 5, 1, 5, 8, 3, 5, 5, 3, 2, 3, 8, 5, 8, 6, 7, 0, 3, 8, 8, 4, 2, 6, 4, 5, 8, 3, 0, 5, 1, 1, 3, 0, 9, 6, 7, 8, 2, 5, 3, 6, 2, 0, 6, 5, 1, 2, 9, 7, 0, 2, 5, 5, 6, 1, 4, 1, 3, 1, 5, 5, 0, 1, 9, 3, 9, 5, 0, 7, 9, 8, 3, 0, 1, 3, 5, 8, 1, 8, 5, 7, 0, 9, 6, 4, 8, 3, 0, 6, 0, 4, 5, 8, 2, 1, 5, 4, 0, 1, 4, 1, 7, 3, 9, 2, 9, 1, 2, 1, 7, 6, 6, 1, 5, 9, 8, 9, 0, 2, 3, 1, 7, 6, 1, 5, 2, 7, 3, 2, 5, 9, 2, 4, 0, 5, 1, 5, 9, 1, 0, 9, 4, 5, 4, 8, 7, 1, 3, 3, 2, 4, 1, 1, 8, 0, 3, 2, 8, 9, 0, 9, 7, 0, 9, 9, 2, 7, 6, 1, 7, 1, 6, 0, 2, 9, 9, 9, 7, 8, 2, 4, 0, 9, 3, 8, 9, 4, 2, 0, 3, 3, 0, 3, 9, 4, 8, 5, 5, 6, 9, 6, 8, 4, 7, 6, 7, 4, 9, 4, 2, 1, 0, 8, 1, 3, 6, 0, 1, 9, 9, 6, 5, 5, 0, 7, 1, 3, 6, 7, 3, 3, 4, 8, 4, 7, 9, 1, 2, 9, 5, 7, 4, 3, 9, 3, 9, 5, 0, 7, 9, 2, 2, 1, 8, 3, 2, 7, 8, 7, 1, 2, 8, 7, 4, 8, 0, 9, 4, 0, 0, 3, 3, 4, 2, 0, 7, 6, 3, 2, 7, 4, 1, 2, 7, 4, 9, 2, 3, 2, 5, 8, 0, 8, 7, 9, 7, 1, 3, 5, 4, 2, 4, 7, 9, 9, 6, 4, 5, 4, 9, 1, 9, 6, 5, 6, 2, 8, 6, 8, 8, 8, 9, 6, 8, 8, 6, 9, 0, 2, 5, 1, 3, 8, 4, 8, 7, 7, 7, 8, 0, 7, 9, 5, 4, 3, 7, 4, 6, 4, 7, 2, 9, 6, 4, 0, 4, 6, 8, 8, 4, 9, 4, 4, 3, 6, 9, 6, 4, 1, 8, 5, 7, 8, 5, 2, 8, 8, 7, 0, 5, 0, 7, 2, 5, 4, 7, 8, 1, 5, 5, 3, 5, 2, 5, 0, 5, 6, 4, 7, 4, 1, 1, 9, 1, 9, 9, 4, 8, 4, 3, 7, 6, 2, 0, 1, 8, 9, 6, 7, 4, 5, 7, 5, 3, 1, 6, 0, 3, 2, 4, 5, 1, 8, 1, 1, 8, 5, 8, 5, 8, 5, 2, 7, 0, 1, 5, 1, 9, 0, 9, 9, 2, 0, 7, 3, 1, 3, 4, 7, 8, 0, 1, 2, 9, 3, 1, 6, 2, 0, 5, 0, 1, 6, 1, 9, 7, 7, 8, 6, 8, 4, 0, 7, 1, 0, 1, 3, 4, 9, 0, 9, 4, 5, 1, 6, 9, 4, 6, 6, 6, 1, 1, 3, 5, 8, 2, 4, 8, 8, 9, 8, 1, 1, 1, 8, 5, 5, 6, 5, 5, 2, 8, 7, 9, 8, 1, 9, 9, 0, 6, 6, 2, 3, 8, 3, 0, 0, 5, 0, 9, 2, 1, 3, 3, 3, 8, 8, 9, 9, 9, 5, 6, 7, 1, 7, 2, 9, 1, 6, 3, 5, 0, 7, 7, 6, 5, 1, 8, 1, 3, 4, 5, 8, 2, 4, 2, 8, 0, 4, 5, 1, 9, 7, 4, 2, 8, 8, 5, 8, 6, 8, 7, 4, 9, 7, 4, 4, 2, 6, 9, 1, 9, 9, 0, 6, 8, 3, 3, 6, 4, 6, 6, 8, 1, 9, 4, 3, 7, 2, 8, 5, 1, 2, 6, 8, 0, 0, 1, 7, 8, 4, 9, 6, 0, 7, 3, 9, 9, 2, 7, 4, 2, 0, 5, 2, 6, 4, 1, 7, 3, 0, 4, 8, 1, 6, 1, 4, 7, 2, 1, 0, 3, 3, 9, 0, 9, 6, 6, 0, 2, 8, 3, 0, 5, 8, 8, 5, 3, 5, 0, 8, 0, 7, 3, 3, 2, 5, 1, 1, 6, 5, 4, 7, 2, 2, 9, 0, 8, 8, 0, 5, 0, 8, 0, 4, 1, 6, 7, 7, 8, 5, 0, 2, 6, 4, 6, 8, 9, 6, 6, 4, 9, 4, 3, 7, 6, 3, 1, 7, 6, 1, 4, 9, 0, 6, 6, 3, 2, 0, 8, 4, 3, 8, 8, 1, 3, 3, 0, 6, 6, 8, 6, 2, 3, 3, 4, 2, 0, 6, 0, 2, 1, 9, 6, 6, 1, 7, 7, 0, 2, 9, 4, 0, 5, 0, 7, 5, 8, 5, 6, 1, 7, 0, 6, 6, 5, 9, 3, 6, 4, 2, 1, 1, 7, 8, 5, 9, 3, 3, 7, 6, 1, 5, 2, 1, 2, 5, 7, 0, 5, 2, 6, 6, 9, 1, 0, 5, 5, 2, 4, 6, 3, 0, 9, 4, 9, 4, 7, 0, 0, 4, 0, 9, 2, 7, 1, 1, 2, 1, 1, 6, 3, 3, 5, 8, 1, 8, 2, 0, 3, 8, 4, 1, 6, 8, 5, 8, 4, 3, 5, 8, 6, 7, 1, 6, 1, 9, 8, 4, 3, 9, 3, 1, 7, 8, 8, 3, 1, 7, 8, 6, 5, 4, 6, 0, 9, 2, 0, 0, 0, 2, 6, 7, 5, 1, 0, 0, 0, 9, 3, 8, 0, 4, 5, 9, 4, 2, 3, 2, 7, 2, 0, 2, 6, 2, 2, 8, 8, 8, 5, 7, 2, 2, 6, 2, 0, 2, 2, 1, 4, 3, 4, 1, 9, 7, 0, 5, 6, 5, 1, 8, 2, 5, 3, 9, 0, 6, 6, 9, 2, 1, 0, 4, 8, 4, 5, 7, 9, 2, 2, 2, 1, 1, 4, 4, 7, 8, 6, 8, 6, 5, 5, 8, 1, 8, 2, 9, 1, 9, 7, 2, 4, 4, 4, 4, 9, 3, 5, 5, 9, 5, 5, 2, 7, 0, 0, 1, 3, 5, 3, 0, 0, 0, 3, 1, 4, 0, 2, 6, 9, 7, 6, 9, 6, 6, 2, 5, 2, 2, 4, 1, 9, 2, 7, 2, 5, 9, 4, 4, 2, 7, 6, 8, 9, 1, 8, 8, 0, 2, 4, 9, 8, 1, 7, 1, 9, 9, 2, 1, 5, 5, 2, 7, 6, 3, 0, 3, 0, 6, 6, 3, 0, 0, 3, 6, 8, 8, 0, 8, 6, 4, 5, 8, 1, 5, 0, 6, 6, 9, 5, 1, 6, 4, 3, 0, 7, 2, 5, 5, 8, 7, 5, 6, 9, 0, 1, 9, 2, 9, 1, 2, 4, 8, 7, 6, 2, 8, 0, 4, 1, 8, 2, 1, 3, 4, 1, 7, 7, 2, 9, 3, 8, 6, 3, 2, 2, 6, 3, 5, 7, 1, 1, 1, 7, 7, 8, 2, 9, 7, 3, 1, 5, 6, 4, 4, 4, 1, 9, 0, 8, 4, 7, 4, 6, 2, 3, 8, 6, 7, 4, 2, 5, 9, 0, 0, 0, 8, 6, 5, 2, 3, 0, 4, 2, 5, 4, 8, 6, 7, 6, 1, 4, 0, 1, 6, 1, 4, 4, 6, 1, 1, 4, 4, 5, 7, 5, 4, 2, 5, 1, 0, 6, 7, 1, 1, 4, 4, 0, 5, 6, 0, 8, 2, 7, 4, 9, 9, 0, 2, 2, 5, 3, 0, 3, 1, 0, 1, 1, 2, 8, 8, 6, 8, 6, 2, 0, 2, 9, 7, 3, 3, 8, 5, 0, 6, 6, 5, 8, 3, 2, 7, 3, 5, 7, 7, 5, 8, 1, 1, 6, 0, 5, 7, 5, 9, 5, 0, 4, 3, 7, 2, 3, 5, 4, 5, 1, 1, 9, 4, 8, 3, 7, 5, 0, 4, 4, 7, 8, 4, 8, 1, 1, 0, 5, 6, 7, 9, 5, 6, 8, 0, 6, 0, 2, 1, 7, 9, 0, 3, 2, 8, 7, 2, 1, 3, 9, 9, 0, 7, 6, 1, 3, 7, 2, 3, 6, 4, 1, 1, 7, 4, 4, 5, 3, 2, 8, 9, 6, 6, 5, 4, 0, 6, 7, 3, 5, 2, 8, 1, 9, 0, 5, 3, 3, 9, 2, 9, 1, 7, 4, 5, 0, 5, 1, 9, 1, 1, 9, 9, 4, 6, 6, 1, 4, 5, 4, 8, 7, 6, 1, 1, 2, 4, 6, 2, 9, 9, 5, 3, 6, 4, 8, 3, 8, 2, 2, 1, 5, 8, 7, 5, 2, 8, 0, 7, 2, 5, 5, 6, 4, 8, 7, 3, 8, 2, 1, 3, 9, 1, 0, 4, 0, 6, 5, 5, 0, 0, 6, 7, 7, 1, 4, 7, 5, 6, 6, 8, 1, 2, 9, 8, 0, 5, 9, 1, 3, 7, 4, 6, 9, 3, 0, 0, 7, 0, 0, 8, 8, 0, 8, 8, 1, 1, 1, 0, 9, 0, 9, 5, 3, 0, 1, 7, 1, 1, 4, 4, 0, 4, 1, 7, 1, 5, 5, 4, 8, 6, 8, 3, 3, 1, 1, 8, 0, 9, 8, 2, 7, 2, 9, 8, 8, 5, 4, 8, 2, 8, 3, 2, 6, 3, 9, 1, 1, 2, 5, 9, 1, 7, 2, 7, 9, 1, 2, 9, 7, 5, 5, 5, 7, 4, 3, 5, 2, 7, 8, 0, 5, 1, 4, 8, 2, 3, 1, 8, 2, 4, 7, 7, 7, 3, 3, 2, 9, 2, 7, 6, 1, 9, 9, 2, 3, 2, 5, 8, 1, 6, 3, 0, 9, 1, 2, 6, 3, 5, 8, 4, 2, 6, 1, 6, 1, 0, 4, 9, 0, 1, 4, 1, 2, 1, 6, 0, 7, 6, 1, 0, 0, 1, 8, 3, 0, 6, 7, 0, 3, 2, 0, 1, 7, 8, 4, 4, 6, 1, 6, 2, 3, 0, 3, 9, 9, 8, 7, 5, 8, 0, 1, 0, 0, 0, 5, 6, 2, 7, 5, 3, 8, 8, 1, 9, 2, 3, 4, 0, 5, 3, 8, 3, 6, 8, 9, 3, 4, 8, 9, 4, 3, 2, 9, 2, 3, 7, 3, 7, 7, 7, 0, 4, 9, 5, 2, 3, 6, 6, 7, 5, 3, 3, 7, 1, 4, 9, 0, 9, 9, 8, 0, 0, 2, 9, 2, 3, 9, 2, 4, 9, 2, 1, 9, 7, 6, 9, 1, 9, 6, 4, 7, 7, 7, 2, 7, 6, 2, 9, 6, 6, 7, 3, 9, 8, 3, 0, 9, 2, 8, 0, 3, 1, 9, 5, 2, 8, 9, 4, 4, 1, 0, 9, 1, 9, 7, 4, 5, 4, 3, 8, 5, 7, 0, 1, 9, 1, 8, 1, 6, 6, 9, 4, 8, 8, 1, 2, 2, 7, 8, 0, 2, 0, 4, 4, 3, 8, 1, 7, 6, 5, 4, 5, 0, 2, 2, 1, 5, 7, 2, 4, 6, 4, 4, 9, 2, 2, 7, 6, 1, 7, 1, 4, 3, 9, 7, 5, 1, 7, 4, 2, 2, 5, 7, 3, 5, 4, 6, 2, 8, 7, 2, 8, 9, 9, 2, 9, 2, 4, 4, 1, 6, 0, 6, 8, 6, 5, 6, 9, 8, 1, 2, 2, 5, 0, 9, 4, 1, 9, 7, 3, 6, 5, 6, 5, 7, 0, 3, 0, 0, 2, 7, 0, 7, 8, 7, 2, 9, 5, 8, 0, 7, 2, 7, 6, 2, 0, 9, 7, 3, 5, 0, 3, 9, 0, 4, 6, 9, 1, 9, 1, 0, 0, 8, 8, 9, 8, 3, 9, 9, 7, 8, 2, 5, 8, 2, 5, 5, 3, 1, 1, 9, 2, 7, 9, 5, 7, 6, 1, 2, 2, 9, 1, 4, 6, 6, 4, 4, 8, 9, 7, 1, 2, 0, 7, 6, 7, 6, 7, 1, 5, 2, 9, 2, 9, 6, 6, 6, 2, 1, 4, 5, 7, 4, 8, 1, 0, 5, 1, 5, 7, 4, 6, 2, 3, 5, 2, 5, 9, 1, 9, 3, 8, 0, 1, 6, 5, 9, 7, 7, 0, 9, 6, 3, 0, 9, 3, 1, 2, 8, 1, 3, 5, 9, 9, 8, 7, 1, 4, 9, 3, 5, 7, 1, 4, 4, 7, 4, 3, 3, 1, 9, 1, 3, 9, 3, 1, 4, 2, 2, 5, 6, 5, 6, 1, 8, 9, 4, 7, 1, 1, 8, 9, 6, 4, 6, 6, 0, 6, 2, 3, 3, 4, 3, 5, 6, 8, 2, 4, 3, 2, 0, 1, 4, 9, 3, 4, 2, 3, 0, 8, 5, 8, 1, 7, 8, 0, 9, 7, 7, 7, 1, 0, 4, 0, 4, 1, 6, 2, 4, 4, 6, 0, 7, 2, 2, 3, 9, 1, 1, 2, 2, 9, 3, 8, 0, 5, 2, 6, 2, 1, 1, 8, 7, 8, 2, 3, 8, 7, 1, 6, 3, 7, 0, 5, 0, 6, 2, 4, 2, 2, 1, 7, 8, 4, 8, 9, 8, 8, 0, 2, 3, 4, 1, 3, 6, 3, 8, 7, 9, 2, 6, 3, 6, 9, 2, 2, 5, 7, 8, 7, 2, 3, 6, 9, 1, 9, 6, 4, 5, 6, 6, 0, 7, 3, 9, 4, 1, 6, 9, 1, 6, 9, 3, 5, 2, 2, 7, 9, 7, 2, 9, 0, 8, 8, 2, 1, 9, 1, 2, 5, 0, 9, 0, 5, 6, 8, 9, 5, 8, 5, 1, 9, 4, 1, 6, 4, 4, 6, 3, 7, 3, 8, 2, 4, 5, 1, 6, 4, 7, 1, 2, 3, 2, 3, 5, 2, 5, 3, 2, 1, 5, 3, 0, 4, 9, 3, 4, 6, 2, 1, 9, 9, 5, 8, 0, 3, 0, 0, 6, 6, 2, 6, 2, 0, 7, 1, 2, 8, 2, 9, 1, 6, 4, 3, 9, 0, 9, 5, 4, 3, 1, 0, 2, 5, 6, 2, 4, 4, 3, 4, 4, 7, 6, 6, 8, 4, 8, 3, 3, 8, 4, 1, 8, 2, 5, 5, 2, 4, 0, 0, 4, 1, 5, 7, 7, 8, 3, 6, 2, 6, 5, 1, 7, 3, 1, 7, 7, 4, 8, 7, 3, 3, 3, 1, 6, 1, 5, 5, 9, 3, 0, 5, 2, 0, 8, 0, 0, 2, 5, 5, 8, 5, 4, 7, 5, 4, 1, 5, 3, 7, 7, 7, 3, 1, 4, 3, 8, 4, 0, 7, 0, 0, 0, 9, 8, 1, 5, 8, 9, 6, 8, 7, 4, 1, 4, 4, 0, 2, 0, 4, 5, 5, 8, 6, 8, 9, 6, 6, 5, 1, 5, 7, 3, 5, 2, 3, 2, 3, 8, 6, 4, 8, 0, 1, 2, 7, 5, 5, 0, 4, 6, 6, 8, 4, 4, 6, 5, 5, 5, 9, 4, 6, 1, 8, 0, 2, 7, 5, 1, 3, 3, 2, 6, 1, 3, 6, 3, 4, 6, 4, 6, 3, 0, 0, 5, 5, 0, 7, 9, 1, 3, 1, 4, 8, 7, 5, 8, 0, 0, 0, 0, 6, 9, 7, 8, 4, 9, 6, 7, 4, 0, 7, 6, 8, 1, 4, 1, 3, 0, 8, 7, 8, 1, 3, 4, 1, 5, 2, 3, 0, 7, 1, 0, 3, 8, 5, 0, 3, 1, 5, 4, 5, 3, 8, 6, 6, 6, 1, 4, 7, 3, 7, 8, 6, 0, 5, 6, 6, 9, 5, 5, 2, 2, 6, 1, 5, 6, 0, 3, 2, 6, 6, 1, 5, 9, 5, 4, 6, 1, 1, 7, 2, 0, 5, 8, 1, 0, 4, 8, 6, 1, 9, 5, 1, 7, 6, 6, 7, 6, 7, 3, 8, 1, 1, 6, 4, 8, 1, 4, 4, 1, 4, 1, 1, 7, 9, 6, 3, 8, 6, 5, 6, 2, 5, 9, 4, 3, 1, 6, 6, 3, 0, 7, 4, 4, 6, 1, 1, 5, 5, 4, 1, 6, 9, 2, 7, 7, 5, 1, 9, 3, 9, 3, 9, 4, 9, 8, 1, 7, 1, 8, 6, 9, 5, 3, 6, 8, 8, 8, 9, 2, 8, 3, 4, 0, 8, 4, 6, 5, 0, 6, 7, 8, 9, 7, 4, 2, 7, 8, 8, 0, 0, 4, 2, 9, 0, 1, 7, 9, 7, 1, 7, 0, 7, 0, 3, 1, 2, 8, 1, 4, 4, 0, 7, 0, 9, 8, 1, 8, 8, 1, 2, 5, 5, 1, 0, 8, 8, 0, 3, 7, 0, 5, 3, 7, 7, 0, 5, 5, 2, 5, 2, 2, 7, 2, 7, 5, 6, 7, 6, 2, 4, 0, 1, 8, 0, 6, 9, 9, 6, 6, 2, 4, 4, 0, 1, 7, 9, 8, 2, 7, 3, 1, 4, 5, 2, 2, 7, 4, 1, 7, 9, 8, 9, 6, 8, 7, 8, 7, 0, 4, 4, 9, 5, 5, 0, 3, 6, 9, 4, 1, 0, 1, 2, 3, 1, 6, 0, 1, 2, 4, 3, 3, 2, 0, 6, 9, 2, 1, 3, 2, 2, 8, 0, 6, 1, 1, 2, 7, 2, 8, 3, 1, 9, 5, 5, 1, 8, 5, 0, 3, 7, 7, 5, 4, 5, 3, 3, 5, 7, 8, 0, 2, 1, 4, 0, 9, 1, 7, 9, 1, 6, 7, 1, 3, 5, 9, 2, 4, 0, 3, 5, 1, 4, 2, 1, 4, 0, 1, 1, 7, 3, 7, 1, 3, 3, 0, 4, 9, 4, 6, 8, 2, 9, 5, 1, 9, 5, 0, 7, 2, 3, 4, 8, 6, 7, 2, 5, 5, 8, 0, 1, 4, 7, 3, 6, 6, 5, 1, 9, 3, 0, 3, 8, 9, 7, 1, 3, 0, 5, 7, 4, 0, 4, 3, 9, 8, 2, 8, 3, 1, 5, 8, 3, 7, 5, 0, 3, 5, 4, 4, 2, 5, 9, 6, 6, 0, 2, 4, 1, 9, 8, 5, 0, 3, 8, 3, 0, 1, 1, 2, 4, 6, 1, 1, 0, 7, 2, 8, 2, 7, 7, 1, 4, 1, 8, 6, 7, 7, 6, 3, 2, 4, 1, 4, 5, 8, 3, 6, 4, 8, 4, 6, 6, 1, 7, 5, 5, 1, 3, 2, 2, 9, 0, 0, 2, 9, 1, 3, 3, 3, 3, 9, 3, 4, 1, 2, 6, 8, 1, 9, 5, 4, 7, 9, 0, 7, 2, 9, 9, 1, 4, 0, 6, 7, 8, 7, 9, 7, 2, 4, 4, 4, 6, 3, 1, 9, 3, 6, 6, 3, 2, 8, 2, 8, 2, 4, 0, 6, 0, 3, 5, 5, 0, 1, 6, 5, 2, 3, 0, 3, 0, 0, 4, 4, 5, 0, 5, 3, 0, 2, 3, 1, 2, 4, 3, 0, 2, 0, 7, 9, 3, 3, 9, 6, 5, 9, 8, 1, 8, 0, 6, 5, 1, 4, 5, 1, 7, 5, 7, 6, 2, 1, 1, 0, 5, 0, 4, 1, 9, 5, 3, 4, 5, 3, 8, 8, 3, 7, 8, 2, 6, 9, 8, 3, 0, 6, 7, 6, 2, 8, 6, 9, 1, 5, 7, 2, 1, 2, 3, 9, 4, 1, 9, 2, 8, 4, 6, 7, 8, 6, 9, 8, 4, 5, 1, 2, 0, 2, 9, 6, 1, 5, 0, 8, 5, 2, 7, 5, 8, 1, 5, 1, 1, 0, 5, 4, 2, 0, 0, 9, 0, 2, 7, 7, 5, 2, 5, 4, 6, 3, 9, 5, 4, 0, 5, 6, 3, 2, 3, 1, 6, 2, 4, 4, 4, 0, 5, 1, 8, 0, 3, 4, 5, 0, 2, 2, 0, 1, 1, 6, 1, 4, 3, 1, 5, 9, 9, 2, 5, 0, 0, 2, 4, 7, 8, 2, 8, 4, 4, 4, 4, 8, 0, 5, 8, 5, 4, 7, 4, 4, 9, 2, 9, 8, 3, 0, 9, 8, 7, 4, 2, 4, 2, 6, 3, 2, 7, 5, 1, 0, 2, 9, 9, 0, 4, 2, 7, 0, 5, 4, 4, 1, 5, 2, 6, 8, 1, 2, 8, 3, 3, 2, 9, 9, 1, 4, 4, 6, 9, 0, 2, 4, 4, 5, 7, 8, 9, 4, 3, 4, 1, 7, 8, 2, 8, 2, 1, 2, 9, 7, 7, 0, 1, 2, 0, 9, 4, 2, 1, 4, 5, 0, 8, 6, 1, 9, 5, 1, 6, 2, 1, 8, 0, 5, 1, 9, 9, 6, 6, 5, 1, 1, 7, 9, 4, 2, 7, 3, 4, 6, 0, 6, 3, 0, 6, 3, 0, 1, 3, 2, 6, 3, 1, 0, 5, 9, 1, 3, 9, 0, 2, 0, 5, 8, 9, 6, 6, 5, 2, 4, 7, 2, 0, 7, 9, 1, 3, 9, 9, 2, 6, 4, 9, 7, 6, 0, 0, 4, 8, 4, 9, 8, 3, 5, 1, 7, 7, 1, 4, 1, 6, 3, 9, 7, 6, 6, 1, 9, 4, 0, 0, 4, 4, 8, 3, 1, 7, 5, 7, 3, 7, 4, 1, 0, 3, 2, 4, 3, 2, 2, 6, 0, 9, 9, 2, 3, 1, 8, 6, 4, 2, 2, 1, 7, 3, 1, 4, 5, 5, 6, 8, 1, 7, 8, 3, 7, 6, 7, 7, 3, 7, 2, 4, 5, 7, 7, 9, 0, 9, 1, 8, 1, 8, 4, 4, 1, 9, 9, 6, 1, 7, 5, 3, 5, 3, 7, 8, 0, 0, 1, 0, 3, 6, 6, 1, 9, 4, 0, 1, 0, 2, 0, 6, 7, 7, 5, 3, 1, 8, 9, 9, 0, 4, 6, 2, 5, 0, 6, 5, 6, 8, 3, 4, 1, 8, 4, 6, 8, 7, 1, 8, 6, 8, 1, 2, 3, 3, 2, 3, 3, 6, 8, 2, 7, 6, 8, 8, 0, 9, 2, 7, 7, 5, 3, 9, 2, 3, 1, 4, 3, 6, 4, 8, 3, 1, 3, 6, 9, 6, 9, 0, 3, 9, 0, 7, 7, 3, 0, 0, 9, 3, 5, 7, 9, 8, 6, 0, 7, 7, 2, 8, 7, 9, 1, 2, 3, 6, 0, 7, 8, 1, 0, 3, 6, 9, 9, 5, 0, 5, 0, 1, 1, 8, 2, 5, 9, 5, 4, 0, 3, 5, 1, 2, 7, 6, 5, 3, 0, 5, 6, 9, 0, 7, 8, 1, 7, 1, 8, 5, 2, 2, 9, 7, 3, 2, 1, 2, 5, 4, 9, 2, 1, 3, 1, 8, 5, 6, 2, 7, 3, 9, 9, 4, 3, 6, 3, 1, 1, 7, 5, 3, 5, 2, 9, 9, 7, 9, 3, 9, 1, 1, 1, 8, 1, 6, 2, 6, 6, 5, 8, 2, 9, 7, 0, 3, 5, 7, 8, 7, 8, 8, 9, 3, 7, 1, 8, 5, 4, 7, 5, 8, 0, 5, 9, 3, 0, 7, 7, 4, 4, 5, 8, 9, 2, 4, 7, 5, 1, 4, 4, 9, 6, 4, 2, 0, 2, 6, 2, 2, 8, 4, 1, 6, 1, 2, 2, 1, 3, 1, 2, 4, 6, 4, 3, 5, 5, 5, 1, 0, 1, 1, 7, 1, 7, 2, 6, 9, 5, 5, 2, 5, 2, 8, 9, 3, 2, 8, 9, 7, 3, 5, 6, 8, 9, 8, 3, 7, 0, 7, 5, 1, 0, 1, 6, 4, 2, 1, 9, 7, 0, 9, 3, 1, 6, 3, 6, 0, 8, 2, 6, 5, 7, 9, 0, 2, 0, 8, 4, 0, 9, 4, 6, 0, 7, 5, 2, 1, 9, 6, 1, 1, 2, 7, 0, 3, 3, 8, 9, 4, 8, 4, 8, 4, 9, 9, 8, 6, 9, 8, 3, 0, 9, 6, 7, 8, 3, 5, 8, 1, 2, 7, 8, 7, 1, 6, 8, 3, 1, 6, 8, 7, 6, 9, 1, 5, 9, 0, 7, 4, 3, 2, 3, 4, 8, 9, 3, 0, 5, 2, 0, 6, 1, 6, 7, 9, 0, 4, 5, 4, 3, 1, 9, 4, 8, 7, 2, 8, 2, 6, 7, 9, 7, 0, 4, 6, 3, 7, 5, 4, 4, 2, 2, 9, 6, 7, 0, 5, 0, 0, 3, 3, 5, 9, 7, 6, 2, 2, 4, 9, 0, 5, 3, 1, 8, 5, 9, 9, 7, 1, 4, 3, 6, 7, 8, 1, 6, 4, 1, 4, 9, 7, 1, 3, 0, 8, 7, 8, 7, 1, 6, 9, 4, 8, 3, 7, 6, 7, 3, 0, 8, 4, 1, 6, 8, 1, 9, 4, 3, 8, 4, 0, 9, 4, 4, 9, 3, 2, 2, 8, 0, 4, 3, 7, 4, 4, 6, 5, 3, 0, 5, 3, 1, 4, 6, 3, 5, 9, 3, 5, 1, 3, 8, 0, 9, 2, 3, 7, 9, 2, 4, 3, 1, 0, 7, 7, 5, 6, 6, 4, 8, 8, 2, 0, 7, 7, 7, 0, 8, 5, 8, 5, 3, 0, 9, 5, 7, 2, 0, 1, 0, 3, 9, 2, 4, 4, 1, 4, 3, 2, 9, 1, 1, 9, 0, 2, 7, 9, 7, 8, 6, 7, 7, 7, 6, 7, 9, 4, 7, 1, 1, 8, 1, 1, 1, 1, 6, 3, 1, 1, 5, 6, 1, 3, 8, 1, 0, 9, 3, 9, 7, 5, 0, 5, 9, 6, 3, 0, 3, 2, 2, 4, 2, 0, 6, 7, 7, 0, 4, 7, 3, 5, 8, 7, 4, 0, 7, 4, 2, 4, 2, 9, 2, 6, 0, 4, 4, 1, 8, 0, 9, 9, 6, 1, 6, 6, 7, 7, 1, 3, 8, 0, 9, 4, 4, 9, 0, 0, 7, 1, 1, 0, 2, 5, 2, 0, 9, 2, 3, 6, 2, 0, 5, 7, 2, 9, 4, 1, 5, 1, 4, 1, 6, 4, 2, 1, 5, 9, 6, 0, 4, 4, 1, 3, 3, 3, 0, 4, 1, 5, 6, 1, 2, 0, 7, 8, 6, 4, 8, 2, 8, 4, 4, 8, 2, 1, 1, 9, 5, 1, 4, 0, 2, 7, 1, 4, 0, 9, 4, 4, 4, 5, 1, 7, 4, 6, 4, 5, 8, 7, 1, 4, 7, 9, 7, 8, 0, 8, 6, 9, 8, 3, 1, 2, 8, 1, 1, 9, 5, 8, 8, 6, 0, 7, 6, 4, 6, 3, 2, 6, 0, 9, 1, 6, 5, 2, 7, 3, 4, 3, 1, 0, 6, 8, 7, 6, 4, 0, 5, 0, 9, 7, 5, 3, 6, 4, 4, 9, 7, 7, 4, 2, 2, 1, 1, 5, 3, 5, 4, 7, 7, 3, 4, 8, 7, 7, 1, 1, 9, 4, 4, 4, 3, 0, 3, 7, 8, 1, 6, 4, 0, 6, 2, 9, 0, 6, 3, 6, 6, 6, 5, 1, 9, 9, 3, 6, 3, 2, 0, 7, 2, 0, 3, 2, 5, 7, 9, 6, 4, 8, 4, 4, 1, 9, 8, 8, 9, 1, 5, 7, 1, 6, 7, 0, 2, 8, 2, 4, 5, 5, 2, 6, 1, 1, 4, 0, 9, 4, 3, 7, 9, 3, 0, 2, 9, 6, 3, 3, 3, 2, 3, 4, 6, 7, 9, 3, 6, 7, 8, 3, 9, 1, 2, 4, 5, 9, 9, 4, 1, 4, 7, 6, 8, 2, 8, 0, 6, 2, 9, 6, 7, 1, 2, 7, 8, 6, 0, 8, 8, 1, 7, 7, 3, 5, 3, 7, 4, 7, 0, 4, 1, 9, 1, 5, 2, 1, 6, 6, 0, 9, 6, 6, 0, 2, 1, 7, 9, 5, 8, 2, 7, 2, 3, 0, 2, 1, 9, 9, 9, 1, 3, 3, 6, 9, 3, 3, 7, 4, 1, 8, 1, 7, 5, 4, 2, 8, 0, 6, 4, 6, 4, 7, 4, 6, 7, 8, 0, 2, 3, 3, 8, 7, 2, 3, 4, 4, 9, 6, 8, 6, 6, 1, 2, 8, 1, 7, 6, 7, 1, 8, 7, 6, 2, 9, 7, 5, 8, 4, 6, 8, 0, 1, 7, 3, 2, 0, 8, 8, 3, 5, 4, 1, 8, 6, 4, 1, 0, 1, 1, 0, 2, 4, 5, 6, 4, 3, 8, 6, 2, 6, 9, 8, 4, 6, 5, 6, 2, 5, 7, 4, 9, 1, 3, 8, 2, 8, 4, 9, 5, 8, 8, 4, 2, 6, 1, 5, 5, 3, 6, 7, 0, 3, 4, 6, 6, 5, 6, 1, 3, 7, 7, 2, 7, 3, 3, 3, 9, 1, 2, 1, 5, 1, 1, 6, 0, 2, 9, 6, 9, 6, 6, 5, 1, 0, 0, 7, 6, 9, 5, 1, 7, 6, 9, 7, 4, 8, 2, 3, 6, 8, 6, 3, 2, 1, 0, 8, 9, 2, 4, 4, 0, 0, 9, 6, 8, 8, 3, 9, 3, 9, 7, 9, 7, 3, 7, 8, 8, 2, 3, 8, 4, 1, 2, 7, 2, 1, 2, 7, 1, 4, 0, 5, 3, 5, 5, 3, 3, 8, 6, 9, 9, 0, 2, 5, 7, 4, 6, 8, 6, 2, 3, 3, 7, 8, 8, 4, 9, 7, 0, 3, 8, 7, 4, 8, 2, 8, 7, 7, 5, 7, 8, 0, 7, 5, 1, 5, 9, 9, 0, 4, 9, 7, 4, 7, 9, 0, 6, 4, 3, 5, 9, 0, 9, 4, 4, 8, 6, 1, 2, 1, 1, 9, 2, 7, 7, 0, 1, 5, 1, 6, 9, 8, 3, 4, 0, 3, 1, 0, 5, 3, 9, 8, 1, 7, 8, 5, 6, 8, 1, 1, 7, 1, 4, 8, 0, 8, 5, 6, 0, 7, 7, 1, 6, 8, 0, 6, 2, 1, 0, 5, 4, 5, 1, 2, 1, 1, 2, 7, 3, 3, 6, 5, 2, 8, 5, 9, 8, 4, 3, 5, 3, 4, 0, 6, 6, 3, 5, 4, 6, 8, 1, 2, 7, 9, 0, 3, 4, 9, 6, 8, 6, 9, 3, 8, 2, 8, 4, 1, 1, 9, 3, 8, 1, 2, 3, 3, 9, 4, 7, 2, 4, 0, 1, 4, 3, 6, 2, 4, 1, 5, 9, 7, 1, 7, 4, 6, 1, 6, 7, 4, 8, 2, 1, 7, 9, 2, 2, 5, 5, 3, 9, 0, 6, 2, 5, 6, 0, 3, 4, 3, 6, 7, 6, 0, 3, 5, 5, 8, 4, 0, 6, 9, 5, 6, 0, 1, 7, 5, 7, 5, 6, 4, 3, 4, 4, 6, 2, 2, 4, 7, 7, 3, 2, 0, 7, 4, 9, 2, 4, 2, 1, 3, 9, 4, 0, 1, 2, 9, 7, 7, 9, 3, 4, 5, 5, 1, 5, 5, 6, 1, 2, 8, 8, 4, 6, 7, 9, 6, 1, 0, 5, 4, 0, 3, 1, 1, 5, 5, 3, 1, 2, 4, 6, 9, 2, 4, 1, 7, 9, 8, 5, 1, 1, 4, 3, 6, 2, 2, 1, 6, 7, 7, 1, 7, 3, 0, 1, 1, 5, 3, 1, 1, 3, 2, 7, 1, 2, 1, 8, 8, 0, 7, 5, 5, 4, 0, 8, 7, 7, 3, 4, 5, 8, 2, 0, 7, 4, 1, 1, 8, 1, 5, 4, 2, 1, 0, 2, 4, 7, 0, 2, 8, 0, 2, 1, 9, 7, 3, 3, 4, 4, 1, 1, 4, 2, 3, 1, 0, 9, 8, 5, 9, 8, 6, 7, 3, 1, 6, 3, 7, 6, 1, 7, 3, 3, 5, 7, 7, 6, 0, 8, 1, 7, 3, 3, 3, 2, 1, 3, 9, 4, 3, 1, 9, 7, 7, 2, 3, 4, 8, 0, 9, 4, 1, 1, 7, 2, 5, 6, 4, 1, 0, 4, 2, 1, 3, 7, 4, 0, 2, 8, 5, 8, 9, 4, 2, 5, 6, 8, 2, 9, 7, 0, 1, 7, 3, 3, 6, 9, 7, 5, 3, 1, 7, 0, 8, 1, 4, 1, 1, 1, 8, 7, 4, 7, 9, 6, 9, 6, 2, 4, 4, 2, 1, 8, 7, 5, 4, 6, 2, 1, 6, 7, 1, 3, 0, 0, 5, 8, 9, 7, 2, 0, 5, 9, 2, 2, 4, 2, 4, 3, 0, 1, 8, 5, 1, 3, 2, 1, 3, 2, 4, 0, 4, 1, 8, 3, 7, 9, 5, 8, 8, 6, 4, 3, 7, 4, 9, 6, 8, 8, 6, 6, 5, 7, 8, 4, 4, 2, 3, 6, 6, 0, 0, 6, 6, 9, 1, 4, 4, 7, 3, 7, 8, 2, 3, 8, 4, 5, 6, 4, 0, 3, 9, 2, 0, 0, 7, 8, 8, 3, 5, 8, 6, 3, 7, 5, 0, 2, 7, 8, 6, 1, 5, 5, 4, 4, 3, 4, 5, 3, 2, 8, 2, 1, 5, 7, 1, 9, 4, 9, 3, 1, 7, 3, 3, 6, 8, 9, 5, 2, 2, 8, 8, 8, 7, 2, 9, 7, 4, 1, 7, 8, 2, 0, 3, 1, 3, 6, 9, 6, 4, 9, 6, 7, 8, 3, 1, 6, 7, 9, 4, 9, 6, 8, 9, 8, 1, 4, 8, 9, 3, 1, 8, 0, 5, 2, 7, 1, 0, 5, 2, 4, 0, 3, 8, 9, 6, 6, 2, 8, 6, 7, 0, 0, 3, 3, 6, 5, 1, 1, 7, 9, 3, 1, 5, 8, 3, 2, 6, 8, 3, 8, 7, 4, 2, 9, 7, 3, 9, 8, 2, 3, 5, 1, 0, 9, 9, 2, 3, 7, 7, 9, 7, 8, 6, 0, 5, 4, 3, 7, 4, 1, 3, 4, 8, 7, 0, 0, 5, 6, 4, 5, 1, 4, 9, 2, 2, 7, 9, 2, 9, 8, 2, 1, 8, 2, 3, 5, 5, 3, 2, 0, 9, 8, 6, 1, 2, 0, 1, 1, 5, 6, 8, 8, 3, 3, 9, 0, 0, 3, 2, 4, 8, 9, 8, 4, 1, 9, 0, 9, 9, 2, 9, 4, 4, 7, 9, 9, 1, 2, 0, 5, 3, 9, 6, 7, 2, 5, 4, 4, 0, 1, 0, 9, 4, 0, 1, 9, 6, 0, 2, 1, 4, 5, 7, 8, 7, 7, 9, 2, 8, 7, 5, 6, 4, 9, 8, 7, 0, 3, 1, 6, 8, 6, 3, 2, 6, 8, 5, 5, 5, 2, 8, 3, 6, 3, 6, 9, 0, 5, 2, 0, 5, 8, 7, 4, 4, 7, 0, 2, 5, 4, 0, 1, 1, 0, 6, 2, 5, 0, 9, 0, 8, 5, 4, 6, 5, 3, 8, 7, 0, 9, 1, 4, 1, 5, 2, 2, 4, 2, 9, 8, 7, 9, 8, 3, 4, 7, 1, 9, 0, 9, 8, 7, 9, 4, 1, 9, 7, 2, 0, 8, 2, 4, 3, 5, 5, 4, 2, 8, 5, 5, 7, 1, 6, 3, 3, 8, 0, 9, 4, 0, 1, 6, 8, 5, 6, 2, 3, 4, 4, 2, 3, 6, 2, 1, 6, 8, 5, 9, 1, 7, 9, 0, 7, 9, 4, 2, 6, 0, 6, 4, 1, 7, 2, 8, 0, 6, 0, 1, 9, 9, 3, 7, 0, 7, 4, 6, 2, 1, 2, 1, 7, 6, 9, 0, 9, 1, 4, 8, 7, 3, 8, 6, 9, 3, 8, 3, 7, 9, 6, 0, 1, 7, 1, 1, 4, 1, 6, 6, 3, 1, 8, 1, 9, 6, 2, 1, 0, 1, 2, 7, 9, 0, 5, 1, 3, 2, 6, 1, 4, 9, 4, 9, 5, 2, 6, 6, 3, 4, 3, 4, 7, 0, 7, 0, 8, 2, 0, 0, 7, 7, 1, 0, 5, 6, 2, 3, 7, 1, 7, 6, 8, 3, 2, 0, 1, 0, 8, 2, 6, 0, 0, 5, 4, 0, 9, 6, 6, 4, 2, 7, 1, 2, 9, 5, 8, 7, 4, 4, 6, 8, 9, 8, 3, 3, 7, 3, 2, 0, 4, 9, 0, 3, 7, 6, 2, 0, 0, 7, 2, 1, 7, 1, 8, 8, 5, 9, 5, 7, 8, 8, 7, 5, 1, 9, 6, 3, 2, 0, 6, 8, 7, 0, 3, 9, 9, 0, 9, 5, 7, 6, 2, 2, 5, 3, 8, 5, 7, 1, 1, 5, 4, 6, 0, 2, 7, 2, 0, 7, 5, 1, 1, 7, 9, 0, 8, 9, 0, 8, 1, 7, 3, 2, 7, 1, 9, 3, 3, 7, 9, 4, 2, 7, 3, 7, 2, 5, 9, 0, 2, 6, 0, 1, 8, 8, 7, 0, 2, 9, 7, 0, 1, 9, 6, 7, 2, 3, 7, 6, 9, 9, 0, 3, 6, 4, 4, 2, 3, 5, 4, 6, 3, 0, 7, 0, 2, 7, 7, 7, 0, 0, 1, 9, 0, 6, 9, 7, 8, 1, 3, 1, 1, 2, 3, 9, 0, 0, 5, 2, 2, 3, 8, 3, 4, 9, 1, 2, 5, 1, 1, 5, 2, 8, 8, 5, 1, 8, 5, 3, 6, 7, 9, 1, 8, 8, 2, 1, 8, 8, 0, 9, 0, 2, 3, 5, 6, 0, 0, 0, 8, 0, 6, 3, 3, 7, 2, 5, 6, 2, 8, 5, 8, 0, 2, 7, 4, 0, 1, 3, 1, 8, 0, 8, 9, 5, 3, 0, 3, 7, 0, 6, 8, 3, 2, 6, 7, 7, 3, 1, 8, 7, 6, 3, 2, 6, 4, 9, 5, 8, 2, 7, 3, 2, 4, 8, 4, 4, 4, 1, 1, 6, 8, 8, 5, 1, 7, 3, 5, 0, 1, 8, 4, 5, 6, 2, 7, 9, 9, 9, 6, 7, 0, 1, 6, 8, 4, 3, 5, 4, 1, 6, 4, 5, 1, 2, 6, 9, 2, 4, 7, 0, 2, 1, 8, 1, 7, 7, 5, 3, 2, 8, 7, 5, 1, 4, 5, 9, 1, 7, 9, 7, 0, 6, 0, 2, 8, 2, 9, 4, 3, 0, 3, 8, 8, 4, 3, 5, 4, 2, 9, 1, 8, 1, 6, 0, 4, 8, 0, 9, 1, 0, 5, 9, 7, 7, 5, 8, 4, 7, 9, 7, 9, 6, 9, 5, 8, 4, 0, 0, 5, 9, 6, 5, 1, 6, 0, 2, 1, 8, 5, 7, 4, 4, 1, 4, 6, 2, 8, 7, 5, 5, 6, 1, 1, 3, 1, 7, 0, 3, 3, 5, 8, 7, 2, 3, 3, 7, 3, 9, 9, 8, 6, 6, 0, 5, 5, 4, 3, 0, 6, 1, 1, 3, 2, 6, 1, 9, 3, 7, 3, 8, 0, 0, 0, 1, 5, 2, 8, 7, 1, 0, 4, 3, 2, 3, 9, 5, 4, 4, 9, 2, 9, 9, 3, 9, 2, 1, 0, 6, 4, 1, 9, 4, 0, 9, 5, 0, 8, 8, 9, 4, 3, 1, 5, 5, 0, 6, 6, 6, 5, 6, 4, 4, 0, 4, 8, 5, 9, 4, 6, 4, 5, 8, 5, 7, 4, 1, 1, 2, 8, 3, 1, 6, 3, 5, 3, 7, 7, 1, 7, 9, 7, 3, 5, 9, 4, 2, 3, 2, 2, 2, 6, 5, 0, 7, 7, 3, 9, 8, 5, 0, 5, 9, 0, 6, 3, 3, 5, 7, 2, 6, 1, 7, 1, 8, 8, 1, 2, 0, 3, 5, 0, 1, 8, 3, 3, 3, 9, 8, 7, 1, 1, 3, 5, 1, 7, 4, 1, 5, 9, 9, 0, 7, 7, 6, 4, 1, 6, 7, 7, 8, 2, 1, 9, 4, 4, 9, 5, 3, 4, 9, 4, 7, 3, 9, 7, 1, 6, 5, 7, 8, 0, 1, 9, 0, 2, 6, 1, 0, 2, 4, 4, 6, 1, 1, 2, 8, 1, 6, 4, 7, 7, 1, 6, 8, 2, 9, 2, 7, 8, 6, 6, 4, 2, 5, 5, 2, 5, 7, 6, 7, 9, 9, 2, 0, 8, 9, 4, 5, 3, 8, 2, 3, 0, 4, 5, 1, 7, 8, 6, 3, 5, 9, 1, 5, 9, 7, 8, 0, 4, 5, 0, 6, 0, 6, 5, 1, 2, 6, 0, 2, 1, 9, 8, 1, 6, 2, 1, 9, 4, 8, 4, 7, 9, 9, 7, 1, 6, 7, 9, 9, 2, 4, 4, 3, 5, 3, 8, 6, 8, 6, 7, 2, 4, 6, 5, 4, 1, 9, 1, 6, 5, 2, 8, 5, 8, 9, 6, 0, 6, 9, 2, 5, 7, 6, 4, 2, 7, 7, 3, 5, 6, 6, 5, 9, 4, 5, 4, 0, 5, 5, 1, 8, 1, 2, 1, 1, 2, 3, 6, 8, 2, 1, 2, 5, 4, 2, 1, 2, 8, 6, 8, 8, 6, 0, 9, 7, 6, 2, 4, 3, 2, 9, 7, 3, 4, 6, 8, 1, 8, 8, 7, 1, 4, 3, 2, 9, 8, 8, 0, 5, 7, 3, 1, 8, 3, 3, 7, 0, 3, 7, 1, 1, 8, 3, 0, 4, 9, 6, 1, 8, 9, 0, 6, 7, 8, 9, 0, 2, 3, 3, 1, 9, 7, 6, 6, 3, 0, 2, 3, 2, 6, 5, 9, 7, 1, 7, 1, 5, 5, 1, 6, 1, 4, 2, 9, 7, 8, 4, 7, 5, 1, 4, 5, 2, 5, 1, 9, 0, 7, 1, 7, 3, 0, 6, 0, 6, 8, 5, 4, 1, 1, 1, 0, 7, 3, 3, 7, 4, 6, 7, 3, 1, 6, 5, 8, 7, 7, 4, 9, 1, 3, 4, 9, 1, 4, 1, 8, 2, 3, 6, 7, 1, 3, 4, 1, 0, 0, 8, 9, 6, 5, 0, 5, 5, 4, 0, 6, 4, 4, 0, 2, 8, 9, 1, 9, 7, 3, 2, 3, 3, 7, 4, 8, 8, 2, 5, 2, 8, 6, 0, 1, 6, 3, 9, 5, 0, 6, 7, 3, 8, 5, 5, 9, 8, 8, 5, 5, 1, 3, 7, 5, 2, 9, 5, 4, 6, 7, 3, 2, 0, 9, 5, 0, 2, 4, 0, 1, 1, 0, 8, 5, 3, 6, 9, 6, 1, 1, 7, 3, 0, 6, 7, 5, 0, 1, 1, 1, 5, 4, 5, 2, 4, 2, 8, 9, 1, 3, 5, 1, 7, 4, 5, 1, 1, 9, 4, 0, 7, 2, 5, 9, 2, 9, 2, 1, 5, 2, 0, 4, 3, 9, 8, 7, 0, 4, 9, 8, 2, 3, 7, 0, 1, 3, 4, 5, 7, 0, 3, 4, 0, 6, 4, 3, 7, 3, 7, 4, 9, 9, 7, 7, 1, 3, 6, 5, 8, 1, 0, 8, 9, 0, 1, 0, 8, 7, 5, 4, 4, 1, 3, 2, 7, 1, 2, 0, 3, 0, 6, 8, 7, 1, 3, 3, 1, 3, 8, 0, 5, 8, 1, 1, 8, 9, 1, 1, 7, 2, 2, 3, 4, 0, 1, 5, 6, 3, 3, 3, 9, 7, 1, 0, 5, 8, 7, 3, 9, 1, 9, 2, 3, 8, 9, 6, 5, 2, 2, 6, 2, 9, 2, 2, 0, 2, 9, 5, 1, 9, 8, 8, 5, 7, 1, 8, 4, 1, 4, 3, 1, 8, 8, 6, 4, 2, 0, 1, 8, 7, 2, 7, 8, 8, 1, 7, 1, 2, 4, 3, 1, 6, 5, 0, 2, 9, 1, 5, 9, 7, 5, 3, 9, 7, 2, 2, 2, 6, 1, 1, 3, 9, 0, 0, 7, 6, 5, 6, 4, 2, 8, 5, 3, 6, 6, 1, 1, 2, 6, 1, 6, 7, 2, 0, 1, 8, 9, 1, 7, 8, 7, 3, 7, 0, 0, 1, 5, 5, 8, 4, 4, 4, 4, 9, 9, 2, 0, 3, 1, 7, 1, 3, 2, 7, 2, 4, 3, 3, 3, 3, 8, 0, 8, 9, 7, 1, 9, 0, 8, 6, 6, 5, 9, 0, 2, 1, 4, 9, 8, 5, 7, 1, 8, 5, 1, 0, 4, 2, 4, 7, 3, 1, 9, 6, 0, 9, 9, 1, 2, 4, 1, 6, 9, 6, 1, 6, 4, 3, 9, 9, 0, 2, 7, 6, 6, 6, 0, 7, 4, 8, 4, 3, 4, 0, 0, 4, 7, 1, 5, 3, 0, 1, 6, 6, 7, 1, 2, 0, 9, 2, 4, 1, 5, 4, 7, 1, 4, 1, 7, 2, 1, 5, 2, 7, 1, 3, 2, 1, 1, 8, 4, 9, 5, 4, 0, 4, 6, 2, 0, 9, 6, 4, 4, 5, 3, 2, 5, 9, 1, 7, 5, 0, 0, 8, 3, 0, 0, 0, 3, 1, 3, 9, 5, 3, 3, 7, 2, 9, 0, 8, 2, 8, 0, 7, 1, 7, 6, 3, 0, 6, 4, 3, 7, 6, 7, 4, 2, 0, 9, 2, 2, 6, 2, 8, 6, 4, 5, 2, 3, 6, 9, 8, 5, 5, 2, 4, 2, 1, 5, 3, 8, 6, 9, 2, 6, 1, 4, 6, 5, 1, 1, 7, 3, 8, 3, 8, 8, 1, 9, 8, 1, 6, 8, 4, 2, 2, 8, 3, 3, 4, 5, 2, 7, 0, 3, 9, 5, 4, 7, 4, 8, 0, 2, 9, 3, 1, 8, 4, 8, 0, 3, 7, 0, 4, 5, 3, 8, 0, 5, 1, 3, 6, 9, 6, 5, 4, 7, 1, 5, 6, 5, 2, 1, 0, 6, 2, 2, 9, 9, 1, 6, 3, 3, 3, 7, 2, 9, 8, 5, 0, 1, 6, 6, 0, 1, 1, 8, 7, 4, 4, 9, 9, 0, 8, 8, 6, 7, 1, 4, 3, 6, 8, 8, 1, 1, 6, 9, 8, 1, 1, 1, 6, 1, 6, 9, 3, 3, 0, 5, 7, 7, 5, 7, 5, 5, 8, 0, 0, 1, 3, 4, 8, 8, 8, 7, 7, 2, 8, 6, 4, 0, 4, 8, 0, 6, 6, 9, 5, 1, 0, 6, 1, 6, 7, 1, 3, 2, 4, 0, 7, 9, 3, 4, 4, 3, 2, 5, 0, 4, 5, 5, 6, 8, 5, 6, 4, 4, 8, 6, 0, 9, 4, 1, 7, 3, 1, 7, 9, 9, 9, 2, 8, 0, 5, 1, 4, 3, 2, 4, 8, 1, 5, 8, 1, 4, 4, 1, 7, 7, 5, 6, 3, 2, 0, 3, 9, 1, 9, 4, 5, 1, 3, 9, 9, 4, 3, 2, 8, 1, 8, 6, 7, 1, 9, 0, 2, 0, 9, 0, 6, 1, 5, 0, 8, 0, 9, 3, 8, 1, 8, 7, 1, 8, 6, 6, 4, 0, 8, 6, 3, 7, 9, 2, 2, 5, 1, 4, 3, 3, 6, 9, 1, 0, 7, 2, 5, 9, 7, 5, 1, 9, 9, 3, 4, 3, 3, 8, 8, 7, 0, 8, 3, 7, 2, 1, 8, 6, 1, 2, 7, 9, 1, 0, 6, 5, 0, 2, 3, 9, 1, 7, 0, 8, 6, 2, 4, 9, 5, 7, 2, 9, 2, 3, 8, 2, 1, 7, 5, 1, 4, 5, 1, 8, 1, 7, 4, 4, 1, 3, 7, 0, 5, 2, 7, 2, 6, 5, 1, 1, 5, 1, 8, 4, 2, 5, 5, 8, 7, 6, 4, 0, 7, 9, 8, 6, 0, 8, 2, 4, 9, 8, 6, 4, 7, 2, 8, 8, 3, 9, 9, 1, 4, 0, 2, 1, 0, 0, 0, 9, 2, 3, 8, 3, 1, 9, 3, 0, 2, 8, 6, 0, 5, 7, 4, 5, 6, 2, 8, 4, 3, 0, 0, 0, 7, 7, 8, 4, 8, 6, 4, 2, 1, 2, 0, 6, 7, 4, 3, 5, 2, 0, 0, 4, 4, 9, 8, 5, 1, 4, 1, 2, 1, 5, 4, 9, 9, 5, 1, 8, 1, 5, 7, 4, 5, 6, 7, 6, 3, 8, 3, 4, 2, 3, 6, 3, 6, 8, 3, 4, 2, 4, 0, 1, 9, 1, 7, 7, 2, 7, 2, 4, 1, 0, 4, 6, 2, 5, 6, 0, 3, 1, 4, 1, 2, 1, 5, 7, 7, 4, 3, 0, 3, 7, 0, 2, 8, 6, 1, 8, 4, 0, 9, 0, 4, 1, 5, 3, 9, 4, 6, 5, 0, 5, 0, 1, 4, 8, 1, 0, 5, 8, 9, 6, 5, 4, 5, 5, 8, 3, 1, 9, 9, 2, 0, 3, 9, 3, 4, 3, 0, 6, 6, 5, 9, 3, 9, 2, 5, 9, 6, 3, 6, 9, 8, 2, 6, 8, 4, 1, 1, 3, 5, 8, 0, 4, 5, 4, 0, 2, 0, 6, 2, 1, 2, 3, 1, 1, 0, 5, 4, 4, 0, 6, 7, 1, 7, 2, 3, 6, 4, 8, 1, 8, 3, 7, 0, 2, 9, 5, 1, 3, 8, 6, 9, 7, 8, 0, 2, 9, 9, 9, 1, 0, 1, 5, 5, 4, 2, 4, 5, 3, 8, 6, 7, 9, 8, 2, 5, 1, 1, 2, 5, 0, 6, 9, 8, 8, 7, 1, 8, 9, 9, 2, 1, 3, 9, 2, 3, 4, 6, 1, 0, 9, 4, 1, 2, 3, 7, 9, 7, 6, 7, 6, 3, 4, 9, 6, 6, 9, 0, 4, 7, 7, 8, 9, 3, 0, 3, 2, 2, 4, 3, 0, 7, 9, 6, 1, 0, 8, 3, 3, 5, 2, 1, 2, 2, 2, 7, 1, 8, 3, 5, 5, 7, 6, 2, 2, 0, 1, 7, 5, 3, 7, 0, 1, 3, 9, 4, 8, 1, 1, 4, 3, 7, 2, 7, 3, 4, 7, 1, 0, 5, 6, 9, 7, 9, 0, 3, 9, 3, 4, 4, 5, 9, 9, 9, 4, 5, 2, 7, 3, 0, 3, 3, 8, 1, 4, 8, 1, 6, 0, 1, 6, 8, 0, 7, 7, 3, 6, 1, 0, 6, 3, 9, 3, 4, 7, 5, 6, 4, 2, 2, 2, 5, 3, 7, 8, 0, 0, 6, 1, 6, 4, 4, 0, 4, 0, 5, 5, 1, 7, 1, 4, 1, 8, 4, 9, 8, 0, 3, 5, 7, 4, 4, 6, 5, 8, 6, 9, 3, 8, 5, 6, 1, 9, 9, 2, 7, 7, 2, 7, 2, 2, 0, 6, 7, 0, 1, 5, 6, 2, 6, 7, 5, 5, 7, 6, 9, 7, 9, 4, 1, 3, 2, 6, 1, 5, 9, 9, 7, 8, 7, 0, 5, 4, 5, 7, 6, 5, 6, 0, 4, 7, 5, 1, 0, 1, 1, 9, 4, 8, 3, 5, 1, 7, 4, 4, 2, 9, 9, 5, 1, 7, 5, 9, 6, 2, 1, 4, 1, 5, 3, 9, 7, 7, 4, 3, 2, 6, 9, 1, 3, 5, 7, 0, 3, 4, 3, 5, 9, 1, 6, 5, 7, 2, 0, 0, 5, 2, 2, 8, 4, 4, 4, 4, 2, 4, 5, 9, 3, 9, 6, 7, 4, 0, 3, 4, 8, 7, 6, 1, 8, 7, 6, 0, 3, 0, 3, 5, 3, 4, 2, 8, 8, 0, 2, 8, 3, 9, 2, 9, 7, 8, 2, 6, 1, 2, 4, 1, 3, 4, 3, 2, 0, 8, 8, 4, 6, 8, 0, 7, 0, 5, 1, 2, 2, 0, 7, 6, 4, 1, 8, 7, 8, 2, 4, 2, 0, 2, 3, 5, 0, 5, 7, 4, 1, 7, 3, 9, 9, 1, 5, 0, 2, 0, 3, 3, 6, 6, 9, 4, 8, 6, 5, 2, 9, 0, 8, 1, 9, 8, 2, 5, 6, 7, 4, 8, 3, 4, 5, 2, 6, 4, 1, 3, 0, 2, 9, 2, 7, 2, 2, 6, 6, 0, 1, 4, 6, 1, 0, 2, 8, 0, 6, 1, 1, 9, 5, 6, 7, 6, 2, 5, 0, 3, 8, 9, 2, 6, 2, 9, 7, 9, 3, 2, 7, 4, 1, 4, 8, 7, 8, 4, 5, 8, 5, 6, 0, 8, 9, 3, 2, 5, 4, 6, 6, 5, 1, 8, 6, 8, 3, 7, 1, 1, 3, 6, 0, 4, 5, 0, 3, 9, 9, 6, 3, 7, 4, 3, 4, 1, 7, 2, 5, 6, 4, 6, 6, 5, 9, 4, 1, 8, 2, 3, 6, 0, 7, 7, 7, 3, 5, 0, 1, 4, 6, 0, 6, 8, 5, 5, 1, 9, 2, 5, 3, 3, 3, 7, 1, 0, 2, 2, 3, 2, 9, 3, 1, 8, 0, 5, 3, 8, 5, 0, 1, 7, 8, 1, 0, 1, 2, 6, 8, 2, 7, 4, 7, 7, 0, 5, 9, 9, 6, 1, 6, 7, 7, 3, 5, 3, 9, 0, 8, 2, 5, 4, 9, 2, 6, 1, 7, 4, 9, 0, 9, 7, 1, 9, 2, 7, 4, 6, 3, 3, 9, 7, 8, 1, 1, 0, 2, 9, 2, 5, 5, 5, 6, 5, 0, 9, 5, 5, 0, 0, 1, 7, 0, 1, 6, 7, 6, 2, 2, 9, 0, 0, 5, 3, 4, 6, 4, 2, 0, 7, 1, 2, 6, 2, 2, 6, 7, 5, 0, 2, 8, 4, 0, 8, 2, 6, 5, 9, 7, 8, 9, 5, 3, 9, 1, 1, 3, 5, 9, 4, 2, 5, 0, 1, 4, 0, 3, 6, 6, 0, 7, 8, 9, 7, 5, 3, 8, 9, 9, 1, 1, 6, 3, 3, 4, 0, 1, 1, 7, 8, 5, 7, 6, 5, 5, 9, 8, 0, 5, 1, 5, 6, 0, 4, 8, 2, 6, 7, 9, 5, 9, 6, 9, 7, 1, 8, 8, 4, 7, 2, 3, 7, 9, 0, 0, 1, 9, 5, 3, 8, 9, 6, 4, 5, 7, 8, 5, 5, 6, 0, 6, 8, 4, 2, 2, 9, 8, 8, 7, 7, 3, 7, 2, 7, 1, 4, 6, 8, 4, 9, 5, 3, 1, 8, 6, 4, 5, 1, 6, 6, 4, 3, 3, 0, 8, 0, 3, 1, 6, 2, 6, 1, 6, 7, 6, 0, 6, 4, 8, 4, 6, 7, 4, 8, 8, 7, 4, 3, 1, 0, 8, 4, 0, 1, 8, 9, 6, 0, 6, 9, 9, 1, 9, 4, 2, 0, 9, 9, 1, 2, 4, 6, 3, 8, 1, 7, 5, 7, 2, 5, 8, 0, 0, 6, 3, 9, 3, 5, 4, 0, 3, 4, 3, 6, 7, 0, 0, 5, 8, 4, 6, 2, 2, 2, 3, 9, 6, 1, 6, 4, 4, 6, 6, 4, 0, 0, 4, 6, 4, 9, 9, 3, 5, 3, 1, 2, 1, 5, 1, 8, 4, 5, 3, 1, 9, 8, 2, 0, 2, 9, 2, 8, 3, 7, 6, 9, 6, 1, 3, 0, 1, 3, 7, 7, 9, 6, 0, 4, 5, 5, 6, 8, 3, 8, 3, 5, 7, 6, 3, 7, 7, 3, 4, 8, 1, 2, 8, 8, 8, 1, 5, 6, 5, 2, 5, 5, 1, 6, 6, 1, 4, 3, 0, 0, 3, 7, 2, 9, 0, 3, 2, 9, 3, 0, 6, 3, 2, 9, 6, 1, 8, 5, 7, 0, 1, 4, 1, 0, 8, 2, 9, 8, 0, 1, 4, 8, 7, 6, 3, 8, 4, 5, 0, 6, 6, 0, 5, 9, 0, 7, 4, 8, 8, 5, 9, 7, 9, 9, 1, 1, 1, 2, 0, 7, 5, 0, 2, 0, 8, 7, 1, 9, 8, 5, 2, 6, 1, 6, 9, 2, 3, 9, 8, 8, 9, 0, 2, 9, 4, 8, 5, 1, 0, 9, 0, 1, 7, 9, 4, 0, 1, 3, 9, 8, 7, 4, 5, 0, 1, 5, 8, 8, 1, 6, 9, 7, 0, 1, 7, 5, 5, 4, 6, 1, 8, 4, 9, 3, 9, 6, 9, 0, 0, 1, 9, 9, 3, 3, 2, 1, 1, 2, 9, 3, 1, 8, 5, 2, 3, 2, 5, 4, 8, 0, 5, 3, 6, 9, 3, 5, 8, 5, 6, 6, 0, 8, 9, 8, 0, 4, 1, 0, 1, 3, 1, 8, 6, 3, 1, 8, 0, 3, 8, 6, 9, 3, 1, 6, 1, 1, 6, 4, 3, 8, 6, 9, 4, 2, 8, 6, 7, 2, 7, 7, 6, 8, 3, 2, 0, 2, 0, 7, 5, 0, 9, 9, 6, 4, 5, 6, 1, 2, 0, 3, 9, 7, 6, 0, 3, 4, 1, 7, 7, 7, 1, 0, 0, 6, 0, 4, 5, 9, 7, 8, 2, 5, 1, 8, 8, 3, 8, 8, 9, 1, 2, 6, 6, 6, 9, 5, 3, 8, 6, 1, 3, 8, 6, 4, 3, 4, 9, 6, 0, 1, 0, 9, 7, 2, 1, 7, 5, 4, 1, 6, 0, 3, 8, 9, 9, 7, 8, 2, 5, 8, 5, 5, 2, 1, 8, 4, 1, 6, 9, 3, 9, 9, 1, 8, 7, 4, 1, 2, 2, 5, 6, 5, 8, 7, 3, 6, 1, 2, 6, 8, 1, 8, 6, 7, 4, 1, 9, 3, 4, 0, 9, 1, 1, 0, 1, 8, 1, 3, 9, 0, 2, 8, 5, 5, 0, 8, 8, 7, 7, 1, 9, 9, 0, 3, 4, 9, 6, 3, 0, 2, 4, 4, 7, 1, 4, 1, 9, 3, 8, 2, 0, 4, 7, 3, 2, 6, 7, 1, 5, 1, 1, 2, 4, 0, 0, 4, 8, 8, 5, 2, 5, 8, 5, 9, 0, 3, 2, 4, 8, 2, 0, 2, 4, 5, 1, 6, 8, 9, 1, 0, 3, 2, 6, 1, 1, 6, 8, 2, 9, 0, 0, 0, 8, 2, 4, 3, 2, 8, 2, 6, 7, 4, 6, 4, 3, 2, 0, 9, 8, 6, 4, 3, 0, 3, 0, 3, 0, 2, 9, 2, 1, 8, 4, 7, 7, 2, 7, 3, 1, 3, 7, 0, 3, 7, 2, 0, 2, 0, 7, 9, 1, 2, 0, 5, 6, 2, 3, 6, 2, 4, 9, 4, 5, 8, 9, 3, 7, 4, 2, 9, 4, 8, 6, 7, 0, 3, 8, 7, 1, 3, 1, 6, 5, 0, 6, 0, 1, 9, 6, 4, 0, 8, 8, 7, 4, 0, 9, 9, 6, 8, 0, 2, 4, 8, 4, 4, 1, 7, 1, 1, 9, 2, 2, 7, 6, 8, 0, 2, 9, 6, 0, 6, 9, 0, 3, 7, 7, 7, 9, 5, 0, 3, 8, 9, 8, 0, 1, 4, 6, 7, 9, 7, 7, 9, 7, 6, 2, 8, 2, 1, 4, 9, 7, 5, 8, 1, 2, 1, 1, 7, 1, 9, 3, 0, 1, 9, 9, 6, 0, 1, 8, 5, 0, 7, 4, 6, 6, 2, 9, 2, 1, 3, 5, 1, 9, 3, 8, 9, 3, 4, 1, 1, 8, 9, 9, 7, 5, 4, 1, 6, 0, 8, 2, 6, 0, 9, 0, 6, 8, 7, 2, 0, 3, 4, 7, 8, 4, 6, 0, 0, 5, 8, 2, 3, 3, 5, 1, 2, 1, 3, 8, 7, 2, 8, 2, 1, 0, 4, 4, 4, 2, 3, 6, 1, 4, 4, 1, 1, 6, 5, 7, 1, 5, 4, 1, 5, 9, 4, 3, 3, 3, 4, 0, 7, 4, 1, 3, 8, 1, 1, 6, 5, 7, 3, 9, 5, 4, 5, 6, 4, 3, 5, 7, 5, 9, 3, 8, 0, 8, 9, 6, 8, 5, 7, 9, 0, 9, 7, 2, 9, 1, 3, 8, 1, 4, 7, 3, 8, 1, 5, 7, 5, 0, 2, 7, 3, 1, 0, 1, 3, 2, 2, 2, 4, 0, 0, 4, 9, 5, 9, 1, 7, 0, 1, 4, 5, 8, 3, 0, 4, 0, 9, 6, 9, 0, 2, 0, 7, 3, 5, 6, 8, 2, 9, 1, 6, 1, 5, 1, 9, 1, 9, 5, 8, 9, 9, 6, 3, 8, 7, 9, 5, 3, 9, 3, 7, 1, 8, 7, 9, 3, 3, 9, 9, 0, 2, 3, 9, 4, 7, 6, 4, 3, 5, 1, 9, 7, 4, 4, 1, 5, 1, 0, 5, 9, 9, 1, 6, 5, 6, 4, 8, 3, 3, 3, 7, 9, 7, 5, 1, 2, 2, 0, 9, 9, 1, 5, 5, 7, 9, 4, 2, 1, 2, 8, 4, 0, 2, 8, 3, 2, 8, 8, 3, 4, 4, 1, 8, 1, 2, 0, 4, 4, 6, 9, 6, 1, 9, 0, 3, 5, 5, 5, 2, 8, 5, 8, 1, 9, 8, 9, 4, 4, 0, 8, 8, 2, 3, 4, 2, 7, 2, 0, 7, 6, 8, 9, 9, 0, 5, 9, 2, 3, 1, 9, 2, 9, 2, 0, 6, 9, 3, 7, 9, 7, 5, 2, 5, 8, 2, 5, 1, 2, 1, 4, 7, 4, 8, 7, 4, 9, 4, 0, 3, 9, 0, 2, 6, 1, 0, 8, 5, 5, 2, 2, 2, 1, 3, 5, 9, 3, 3, 6, 7, 3, 6, 4, 3, 8, 6, 2, 7, 3, 8, 2, 7, 3, 9, 7, 8, 1, 9, 8, 3, 8, 4, 2, 2, 6, 2, 8, 4, 2, 7, 8, 4, 6, 6, 9, 3, 4, 1, 0, 4, 3, 8, 2, 5, 0, 6, 1, 1, 9, 2, 7, 1, 5, 7, 3, 9, 9, 1, 3, 9, 7, 7, 2, 1, 8, 3, 8, 3, 9, 4, 2, 1, 4, 6, 7, 4, 6, 2, 6, 4, 1, 9, 7, 1, 6, 6, 3, 8, 4, 5, 8, 7, 3, 9, 8, 4, 6, 9, 0, 2, 9, 8, 1, 7, 2, 5, 3, 3, 7, 9, 3, 4, 5, 9, 9, 2, 8, 8, 6, 1, 1, 8, 2, 2, 9, 6, 8, 8, 5, 1, 8, 1, 8, 0, 6, 0, 3, 4, 3, 3, 6, 9, 3, 2, 0, 8, 3, 0, 1, 9, 6, 0, 8, 5, 1, 5, 7, 1, 3, 5, 5, 8, 0, 6, 5, 9, 6, 8, 2, 0, 7, 1, 2, 3, 1, 2, 4, 3, 8, 7, 3, 5, 0, 9, 4, 7, 2, 2, 9, 5, 9, 6, 8, 2, 2, 2, 1, 1, 2, 2, 8, 8, 5, 3, 9, 9, 0, 3, 1, 5, 3, 3, 0, 3, 8, 4, 5, 6, 0, 7, 7, 7, 6, 1, 5, 1, 2, 1, 4, 0, 4, 7, 0, 3, 7, 9, 8, 9, 6, 3, 1, 8, 8, 1, 5, 1, 0, 6, 6, 2, 5, 6, 1, 7, 1, 7, 0, 3, 3, 7, 9, 2, 0, 5, 8, 0, 1, 1, 1, 7, 7, 3, 3, 2, 4, 6, 8, 6, 5, 5, 1, 3, 5, 6, 7, 2, 1, 7, 5, 7, 4, 8, 7, 8, 1, 6, 3, 1, 5, 5, 9, 9, 9, 4, 6, 6, 1, 7, 8, 4, 4, 1, 3, 2, 9, 6, 8, 5, 9, 0, 2, 2, 7, 1, 3, 0, 6, 2, 6, 7, 9, 9, 3, 3, 4, 2, 1, 6, 5, 4, 0, 2, 4, 6, 2, 5, 6, 7, 3, 1, 4, 9, 5, 9, 4, 1, 5, 8, 1, 3, 5, 2, 7, 5, 2, 7, 1, 3, 4, 6, 8, 4, 4, 0, 4, 6, 4, 0, 8, 5, 9, 0, 3, 3, 3, 6, 8, 9, 0, 5, 9, 7, 6, 7, 2, 7, 7, 7, 5, 4, 5, 9, 6, 0, 2, 1, 5, 7, 9, 9, 0, 2, 0, 0, 4, 3, 6, 0, 2, 3, 2, 9, 1, 9, 2, 5, 4, 0, 9, 2, 4, 3, 1, 0, 2, 7, 6, 2, 3, 3, 7, 5, 3, 4, 0, 8, 4, 8, 7, 1, 1, 3, 5, 7, 3, 3, 3, 5, 7, 1, 7, 7, 5, 1, 5, 2, 5, 9, 8, 1, 8, 6, 7, 7, 2, 8, 3, 1, 7, 5, 4, 2, 6, 7, 3, 5, 4, 0, 7, 2, 4, 8, 2, 5, 1, 9, 8, 5, 1, 6, 3, 4, 9, 2, 6, 8, 4, 7, 1, 4, 4, 7, 6, 9, 4, 4, 2, 6, 3, 2, 7, 7, 2, 7, 1, 1, 7, 4, 0, 6, 2, 3, 9, 9, 9, 2, 7, 1, 6, 4, 1, 6, 7, 4, 6, 8, 7, 5, 4, 9, 2, 1, 2, 6, 6, 2, 3, 9, 3, 3, 7, 4, 8, 5, 7, 4, 5, 6, 8, 1, 3, 5, 6, 6, 2, 8, 2, 6, 8, 5, 3, 0, 0, 9, 9, 0, 1, 2, 9, 5, 3, 0, 9, 2, 7, 6, 1, 9, 7, 5, 8, 8, 0, 6, 3, 5, 3, 7, 0, 0, 4, 1, 6, 3, 1, 1, 5, 8, 4, 0, 3, 3, 1, 2, 8, 2, 7, 8, 9, 9, 7, 9, 1, 8, 8, 4, 4, 8, 7, 8, 5, 5, 2, 4, 8, 0, 3, 6, 8, 3, 4, 6, 2, 1, 1, 0, 7, 1, 5, 9, 3, 0, 5, 6, 7, 6, 1, 5, 2, 1, 3, 3, 7, 0, 8, 2, 4, 2, 5, 0, 8, 5, 9, 1, 3, 9, 5, 0, 0, 3, 6, 9, 0, 4, 9, 9, 1, 6, 2, 8, 1, 1, 4, 3, 8, 0, 2, 4, 6, 8, 5, 8, 5, 5, 6, 8, 4, 1, 2, 0, 3, 9, 6, 7, 8, 8, 9, 7, 8, 9, 6, 1, 3, 3, 4, 8, 3, 0, 1, 9, 1, 3, 0, 8, 6, 5, 4, 2, 7, 8, 3, 1, 9, 7, 8, 2, 1, 5, 0, 4, 0, 3, 5, 2, 9, 8, 1, 9, 2, 5, 2, 0, 4, 8, 3, 9, 0, 0, 6, 6, 7, 2, 7, 3, 3, 7, 9, 8, 3, 8, 8, 4, 6, 1, 8, 7, 2, 9, 6, 6, 4, 3, 8, 1, 4, 2, 4, 7, 5, 4, 9, 9, 2, 4, 5, 9, 4, 7, 1, 6, 6, 6, 2, 8, 4, 1, 5, 3, 3, 8, 3, 1, 2, 5, 3, 3, 6, 1, 7, 9, 7, 5, 0, 2, 5, 7, 8, 4, 7, 3, 7, 6, 6, 8, 3, 1, 4, 2, 2, 4, 9, 5, 1, 6, 6, 6, 7, 3, 8, 9, 0, 3, 4, 5, 0, 1, 6, 2, 1, 0, 9, 3, 8, 5, 5, 8, 8, 7, 0, 5, 7, 9, 5, 5, 6, 2, 2, 5, 2, 8, 5, 2, 9, 4, 3, 3, 8, 4, 4, 6, 6, 0, 4, 1, 5, 5, 1, 3, 9, 6, 2, 4, 5, 8, 1, 2, 7, 3, 6, 4, 2, 2, 4, 0, 1, 6, 6, 1, 7, 7, 2, 6, 5, 7, 4, 2, 8, 4, 9, 9, 3, 6, 1, 8, 1, 3, 9, 9, 3, 4, 2, 9, 9, 8, 3, 3, 4, 6, 9, 2, 6, 3, 3, 4, 4, 1, 1, 9, 5, 5, 1, 4, 1, 0, 0, 2, 7, 1, 1, 3, 8, 5, 2, 2, 6, 7, 8, 2, 9, 9, 6, 8, 2, 3, 6, 6, 2, 9, 0, 3, 6, 9, 5, 7, 1, 3, 7, 8, 2, 9, 7, 7, 9, 9, 5, 6, 8, 9, 1, 5, 3, 1, 8, 0, 7, 8, 0, 5, 9, 2, 8, 6, 2, 0, 6, 7, 7, 0, 5, 8, 1, 7, 1, 1, 3, 1, 7, 5, 5, 8, 3, 2, 3, 2, 9, 4, 6, 3, 3, 1, 5, 7, 8, 4, 8, 3, 0, 3, 4, 8, 0, 2, 8, 7, 4, 6, 3, 4, 9, 8, 6, 1, 7, 5, 9, 4, 6, 9, 2, 1, 7, 5, 7, 6, 4, 8, 6, 6, 9, 6, 5, 1, 5, 2, 6, 5, 0, 4, 1, 4, 2, 7, 8, 9, 8, 8, 0, 5, 2, 4, 9, 9, 9, 3, 3, 5, 9, 1, 0, 2, 7, 4, 1, 1, 8, 2, 7, 7, 2, 5, 0, 6, 8, 1, 5, 8, 4, 4, 8, 5, 3, 2, 1, 5, 7, 4, 4, 9, 2, 5, 8, 5, 3, 7, 7, 3, 3, 5, 7, 0, 7, 9, 4, 7, 6, 1, 9, 1, 9, 9, 7, 2, 2, 4, 7, 8, 0, 9, 4, 6, 7, 3, 5, 7, 7, 5, 9, 9, 0, 7, 8, 0, 6, 5, 5, 6, 8, 5, 4, 8, 5, 2, 8, 6, 8, 6, 7, 7, 9, 4, 4, 4, 1, 0, 6, 4, 6, 9, 5, 1, 6, 1, 7, 3, 7, 2, 6, 2, 4, 9, 8, 3, 3, 7, 6, 0, 9, 9, 1, 9, 2, 2, 6, 0, 3, 3, 6, 6, 1, 6, 1, 2, 8, 0, 0, 4, 3, 3, 7, 9, 3, 3, 5, 9, 8, 1, 8, 5, 8, 6, 2, 0, 6, 8, 0, 0, 2, 6, 5, 1, 1, 1, 8, 2, 4, 2, 8, 7, 9, 2, 9, 5, 2, 8, 2, 6, 5, 5, 8, 5, 8, 0, 0, 3, 2, 7, 7, 7, 8, 2, 1, 8, 1, 4, 4, 2, 7, 6, 8, 4, 7, 2, 7, 7, 5, 5, 8, 5, 5, 9, 3, 9, 7, 6, 0, 4, 5, 3, 6, 2, 4, 8, 3, 4, 5, 0, 9, 9, 0, 3, 5, 1, 1, 1, 9, 4, 8, 0, 8, 9, 2, 5, 2, 5, 9, 7, 0, 0, 2, 8, 1, 0, 4, 3, 4, 2, 5, 0, 7, 3, 6, 7, 7, 5, 3, 3, 2, 7, 6, 2, 4, 5, 6, 0, 6, 2, 1, 4, 7, 4, 0, 3, 7, 3, 5, 3, 7, 4, 0, 2, 4, 0, 2, 4, 2, 4, 3, 5, 3, 7, 6, 2, 6, 0, 1, 7, 4, 6, 4, 3, 2, 8, 2, 7, 5, 2, 5, 6, 0, 3, 0, 3, 5, 1, 5, 2, 8, 4, 3, 8, 8, 1, 5, 8, 4, 1, 5, 0, 4, 4, 1, 8, 7, 7, 4, 8, 3, 8, 3, 4, 2, 2, 8, 3, 1, 7, 3, 1, 4, 5, 4, 0, 8, 2, 8, 8, 3, 2, 8, 8, 9, 6, 3, 3, 3, 7, 1, 9, 6, 6, 7, 5, 9, 0, 2, 1, 4, 2, 4, 5, 1, 8, 6, 8, 7, 6, 2, 6, 9, 8, 9, 7, 4, 1, 4, 6, 7, 4, 5, 8, 8, 9, 7, 6, 3, 9, 8, 6, 3, 0, 0, 9, 6, 4, 2, 5, 4, 3, 5, 2, 0, 5, 9, 3, 9, 5, 5, 0, 0, 4, 5, 1, 9, 1, 1, 1, 4, 8, 6, 4, 4, 3, 0, 8, 5, 1, 4, 2, 4, 0, 1, 0, 3, 9, 0, 8, 8, 7, 0, 8, 8, 8, 6, 8, 5, 6, 6, 5, 9, 4, 6, 4, 2, 1, 5, 5, 2, 7, 0, 1, 0, 0, 9, 3, 2, 1, 6, 5, 7, 7, 5, 5, 2, 8, 3, 3, 2, 5, 8, 3, 3, 9, 9, 6, 4, 6, 2, 0, 4, 3, 6, 7, 5, 3, 2, 7, 7, 5, 6, 2, 3, 3, 6, 4, 6, 1, 3, 1, 7, 8, 2, 6, 6, 4, 4, 8, 6, 7, 5, 8, 5, 2, 8, 9, 8, 0, 9, 2, 9, 3, 2, 4, 0, 6, 6, 2, 4, 7, 8, 1, 3, 8, 1, 2, 7, 1, 8, 7, 9, 9, 4, 9, 4, 3, 7, 1, 2, 6, 8, 5, 1, 2, 1, 1, 0, 1, 6, 5, 2, 6, 2, 2, 3, 6, 9, 7, 4, 9, 0, 1, 1, 1, 1, 3, 5, 1, 1, 2, 3, 1, 2, 6, 1, 4, 0, 8, 0, 2, 1, 4, 4, 5, 7, 0, 8, 7, 8, 1, 3, 7, 2, 2, 2, 4, 2, 9, 2, 9, 2, 8, 2, 2, 5, 9, 4, 3, 7, 1, 0, 4, 4, 2, 9, 2, 0, 0, 5, 0, 1, 6, 0, 3, 7, 5, 0, 7, 4, 9, 9, 3, 6, 2, 4, 1, 3, 2, 3, 0, 0, 6, 5, 8, 7, 0, 6, 2, 0, 9, 9, 1, 5, 3, 5, 8, 9, 0, 7, 1, 5, 0, 1, 0, 0, 6, 4, 7, 7, 4, 9, 3, 8, 8, 9, 6, 7, 0, 0, 3, 3, 8, 7, 7, 4, 2, 1, 5, 7, 1, 7, 8, 2, 8, 0, 8, 3, 1, 0, 1, 5, 5, 6, 6, 6, 6, 1, 0, 8, 3, 7, 0, 5, 9, 6, 0, 2, 2, 5, 6, 1, 7, 5, 1, 7, 8, 1, 0, 4, 4, 3, 0, 2, 1, 3, 8, 3, 5, 7, 2, 8, 2, 9, 0, 9, 4, 5, 6, 7, 3, 8, 5, 2, 3, 3, 8, 8, 4, 4, 8, 8, 3, 9, 6, 1, 1, 6, 6, 4, 4, 5, 3, 2, 4, 2, 5, 9, 6, 8, 8, 5, 9, 5, 3, 0, 9, 2, 6, 3, 9, 3, 9, 6, 8, 9, 8, 3, 7, 2, 7, 7, 7, 4, 6, 7, 4, 6, 1, 8, 7, 9, 5, 8, 1, 2, 9, 3, 1, 8, 5, 1, 5, 1, 1, 8, 5, 8, 2, 2, 9, 2, 7, 5, 3, 6, 8, 8, 4, 6, 6, 1, 9, 9, 0, 0, 2, 3, 4, 7, 5, 5, 6, 9, 9, 2, 3, 9, 7, 3, 5, 6, 0, 0, 0, 7, 8, 2, 3, 6, 6, 6, 0, 7, 7, 3, 8, 1, 9, 6, 7, 9, 9, 7, 0, 1, 6, 4, 2, 4, 8, 5, 3, 8, 5, 8, 2, 8, 3, 2, 4, 7, 4, 2, 6, 3, 7, 5, 2, 0, 3, 4, 5, 2, 8, 9, 1, 4, 8, 8, 8, 1, 5, 2, 6, 7, 7, 4, 6, 5, 4, 6, 0, 0, 7, 9, 5, 8, 3, 6, 3, 8, 8, 3, 6, 1, 7, 9, 9, 1, 8, 8, 1, 4, 1, 9, 5, 9, 1, 9, 8, 2, 6, 4, 8, 5, 1, 7, 9, 8, 1, 6, 8, 9, 6, 1, 1, 2, 1, 8, 7, 0, 7, 9, 4, 4, 2, 6, 3, 1, 9, 3, 6, 5, 5, 5, 7, 6, 5, 0, 7, 8, 3, 5, 4, 3, 4, 3, 7, 5, 6, 2, 6, 0, 3, 4, 1, 1, 1, 2, 2, 3, 9, 8, 8, 9, 4, 9, 5, 5, 5, 2, 0, 7, 7, 4, 7, 5, 3, 3, 3, 5, 1, 9, 5, 6, 9, 6, 5, 1, 4, 8, 2, 8, 4, 6, 6, 8, 3, 3, 4, 2, 2, 8, 0, 1, 8, 0, 7, 1, 9, 3, 7, 1, 0, 4, 3, 6, 7, 8, 3, 2, 7, 7, 6, 5, 4, 7, 6, 9, 1, 6, 1, 1, 2, 4, 6, 1, 3, 1, 8, 1, 9, 4, 3, 4, 3, 5, 4, 3, 7, 9, 9, 8, 0, 8, 2, 5, 8, 9, 0, 7, 1, 7, 4, 3, 6, 8, 5, 3, 4, 2, 7, 4, 0, 8, 9, 3, 7, 7, 5, 0, 2, 5, 2, 2, 8, 2, 0, 5, 4, 9, 3, 3, 4, 3, 0, 1, 2, 1, 1, 8, 1, 2, 4, 7, 3, 6, 2, 4, 9, 3, 7, 3, 6, 1, 5, 2, 5, 9, 5, 6, 8, 2, 2, 2, 1, 5, 6, 3, 9, 1, 7, 8, 0, 6, 7, 4, 6, 0, 3, 8, 6, 1, 6, 4, 7, 6, 7, 3, 4, 3, 7, 4, 4, 6, 6, 9, 3, 7, 9, 9, 8, 3, 5, 4, 5, 4, 0, 0, 9, 7, 7, 5, 7, 4, 5, 4, 7, 9, 7, 1, 8, 9, 9, 5, 7, 1, 2, 0, 6, 9, 6, 5, 9, 0, 4, 8, 0, 5, 9, 3, 3, 8, 7, 0, 7, 2, 5, 4, 3, 5, 7, 0, 3, 4, 8, 1, 0, 0, 9, 9, 6, 4, 4, 5, 1, 0, 0, 9, 9, 7, 4, 7, 2, 1, 8, 4, 4, 4, 5, 6, 6, 2, 1, 1, 4, 2, 1, 8, 7, 1, 7, 8, 3, 3, 3, 0, 0, 5, 1, 2, 9, 4, 0, 0, 8, 7, 6, 6, 1, 9, 7, 2, 8, 7, 8, 2, 4, 1, 5, 2, 8, 8, 9, 8, 3, 8, 8, 3, 3, 6, 8, 3, 2, 5, 1, 4, 9, 6, 7, 8, 4, 3, 1, 8, 9, 3, 4, 5, 6, 3, 1, 9, 2, 6, 5, 1, 4, 7, 5, 0, 0, 6, 1, 0, 7, 7, 3, 8, 7, 4, 7, 7, 0, 0, 8, 1, 3, 7, 2, 1, 4, 7, 7, 1, 6, 8, 2, 9, 0, 0, 3, 1, 7, 6, 6, 3, 6, 1, 4, 8, 9, 7, 9, 3, 6, 2, 8, 8, 8, 2, 8, 9, 3, 8, 3, 7, 0, 0, 4, 0, 7, 7, 4, 8, 8, 2, 8, 3, 3, 1, 8, 5, 6, 1, 5, 1, 9, 3, 3, 1, 4, 7, 1, 4, 7, 3, 5, 1, 6, 4, 5, 3, 8, 2, 8, 8, 0, 5, 6, 0, 6, 0, 0, 3, 6, 2, 2, 6, 8, 1, 7, 9, 5, 3, 4, 6, 2, 7, 6, 8, 1, 2, 4, 2, 2, 3, 5, 6, 7, 5, 9, 4, 4, 6, 2, 7, 8, 5, 1, 7, 1, 6, 2, 1, 1, 2, 2, 8, 4, 0, 7, 9, 2, 7, 6, 7, 5, 2, 2, 3, 5, 2, 4, 6, 9, 4, 9, 8, 0, 9, 3, 4, 3, 4, 1, 4, 7, 5, 9, 6, 9, 9, 9, 9, 4, 1, 4, 8, 8, 5, 2, 6, 0, 2, 9, 2, 0, 8, 9, 8, 9, 9, 6, 3, 8, 2, 1, 9, 6, 0, 0, 2, 8, 4, 4, 6, 7, 5, 2, 4, 8, 0, 5, 1, 8, 9, 9, 3, 0, 6, 8, 3, 4, 5, 3, 2, 4, 6, 7, 4, 2, 2, 8, 9, 4, 0, 6, 0, 2, 1, 8, 4, 1, 7, 2, 3, 2, 1, 9, 6, 0, 2, 8, 3, 3, 9, 2, 0, 7, 7, 2, 0, 8, 6, 1, 1, 1, 6, 1, 2, 4, 8, 2, 0, 1, 8, 3, 5, 0, 2, 1, 8, 8, 1, 3, 7, 8, 9, 7, 9, 9, 4, 3, 5, 3, 7, 0, 0, 7, 9, 7, 0, 4, 0, 5, 0, 0, 5, 7, 6, 3, 2, 4, 8, 2, 3, 7, 2, 8, 1, 4, 1, 4, 9, 0, 7, 6, 8, 2, 1, 9, 1, 7, 0, 5, 5, 3, 6, 2, 6, 5, 0, 6, 4, 0, 1, 6, 1, 2, 6, 4, 6, 4, 9, 2, 9, 5, 9, 8, 5, 6, 0, 0, 1, 4, 9, 1, 3, 2, 8, 6, 4, 5, 1, 9, 8, 9, 6, 4, 1, 8, 2, 3, 7, 2, 3, 3, 9, 1, 6, 3, 1, 4, 2, 1, 1, 6, 7, 9, 2, 0, 0, 7, 4, 5, 4, 4, 5, 8, 6, 1, 8, 1, 8, 4, 6, 4, 1, 2, 9, 9, 6, 6, 9, 7, 6, 4, 6, 3, 9, 5, 0, 0, 6, 2, 1, 7, 6, 4, 8, 3, 4, 1, 4, 6, 1, 9, 1, 8, 0, 6, 3, 1, 2, 0, 2, 8, 6, 2, 4, 9, 7, 7, 8, 8, 3, 7, 6, 3, 5, 8, 5, 2, 7, 4, 6, 7, 3, 3, 0, 1, 3, 8, 0, 8, 0, 0, 6, 8, 3, 8, 9, 2, 1, 6, 3, 6, 9, 3, 1, 9, 7, 4, 8, 7, 9, 4, 8, 0, 3, 8, 7, 1, 3, 0, 8, 4, 4, 2, 1, 9, 5, 4, 9, 9, 3, 9, 7, 6, 6, 7, 5, 2, 8, 7, 2, 4, 4, 5, 7, 8, 5, 7, 6, 7, 4, 3, 0, 4, 7, 5, 8, 5, 1, 0, 0, 4, 7, 7, 0, 7, 2, 8, 8, 0, 1, 9, 5, 9, 8, 5, 4, 7, 4, 9, 8, 7, 1, 3, 6, 4, 0, 3, 7, 7, 2, 0, 2, 4, 7, 2, 2, 1, 4, 4, 6, 8, 6, 3, 0, 3, 8, 4, 6, 7, 6, 2, 1, 8, 4, 5, 2, 1, 2, 5, 7, 4, 0, 9, 9, 1, 7, 2, 1, 5, 5, 1, 8, 9, 5, 5, 3, 6, 8, 9, 5, 6, 6, 1, 7, 5, 4, 3, 8, 6, 9, 2, 1, 1, 4, 9, 5, 8, 5, 0, 6, 0, 0, 4, 2, 3, 6, 7, 4, 1, 1, 4, 1, 6, 0, 8, 6, 1, 5, 2, 2, 5, 7, 4, 6, 9, 6, 1, 9, 0, 8, 9, 4, 4, 7, 1, 3, 3, 4, 8, 9, 5, 4, 5, 6, 4, 9, 4, 7, 0, 1, 2, 0, 1, 8, 0, 6, 6, 1, 7, 3, 7, 9, 0, 9, 6, 9, 7, 3, 0, 2, 1, 7, 7, 0, 2, 1, 1, 6, 6, 7, 0, 2, 1, 8, 5, 5, 4, 8, 6, 1, 4, 0, 2, 4, 0, 1, 8, 4, 1, 0, 8, 2, 7, 4, 3, 3, 3, 1, 4, 2, 0, 6, 0, 4, 7, 9, 3, 7, 9, 9, 5, 7, 1, 3, 2, 3, 1, 5, 2, 7, 3, 9, 3, 7, 1, 4, 9, 3, 1, 5, 3, 8, 4, 1, 0, 9, 7, 3, 2, 3, 7, 9, 1, 7, 9, 5, 4, 7, 2, 4, 5, 6, 4, 0, 4, 8, 1, 5, 9, 9, 0, 1, 2, 2, 5, 8, 3, 4, 0, 2, 4, 2, 3, 1, 0, 8, 4, 9, 4, 0, 9, 2, 8, 5, 0, 4, 9, 1, 0, 2, 1, 7, 3, 1, 6, 4, 7, 8, 7, 8, 5, 2, 4, 7, 7, 2, 2, 8, 4, 1, 7, 5, 3, 8, 1, 6, 5, 1, 4, 8, 1, 2, 6, 1, 8, 2, 5, 9, 2, 2, 4, 0, 2, 0, 2, 9, 4, 4, 4, 7, 7, 5, 8, 9, 1, 5, 0, 6, 5, 1, 0, 0, 4, 4, 9, 2, 5, 6, 2, 9, 1, 9, 1, 8, 3, 0, 6, 4, 9, 3, 1, 4, 5, 1, 2, 2, 1, 2, 0, 5, 0, 7, 8, 8, 8, 7, 2, 2, 6, 6, 8, 7, 0, 0, 4, 9, 5, 1, 5, 3, 2, 4, 2, 2, 9, 5, 8, 2, 0, 0, 7, 5, 3, 7, 5, 0, 8, 3, 2, 2, 8, 4, 6, 3, 2, 6, 5, 0, 7, 5, 2, 0, 2, 9, 4, 5, 0, 0, 9, 4, 9, 4, 7, 9, 5, 9, 2, 1, 6, 1, 5, 7, 4, 1, 1, 5, 9, 3, 4, 4, 0, 9, 0, 4, 9, 3, 2, 3, 0, 4, 7, 5, 1, 5, 6, 1, 7, 0, 3, 6, 1, 4, 0, 3, 5, 3, 1, 2, 9, 5, 8, 1, 9, 7, 0, 6, 3, 1, 8, 8, 7, 2, 1, 5, 5, 0, 2, 6, 0, 1, 3, 4, 4, 9, 7, 0, 4, 4, 1, 2, 0, 3, 1, 6, 8, 1, 4, 0, 7, 2, 8, 8, 8, 8, 1, 9, 4, 0, 6, 0, 5, 5, 7, 3, 8, 3, 7, 1, 6, 8, 9, 5, 5, 0, 4, 7, 7, 8, 4, 0, 6, 3, 5, 2, 6, 0, 0, 9, 7, 9, 2, 4, 5, 0, 6, 4, 1, 2, 9, 8, 9, 7, 8, 8, 9, 1, 7, 7, 6, 7, 3, 3, 7, 0, 3, 8, 8, 6, 2, 5, 7, 4, 7, 3, 4, 1, 2, 8, 1, 4, 8, 2, 2, 5, 7, 8, 2, 6, 7, 4, 0, 3, 2, 1, 4, 3, 5, 4, 0, 7, 6, 1, 3, 9, 8, 9, 1, 7, 9, 3, 3, 0, 6, 6, 6, 2, 2, 9, 5, 2, 4, 6, 5, 3, 9, 8, 5, 1, 7, 5, 6, 8, 5, 9, 6, 8, 3, 0, 5, 8, 2, 8, 9, 2, 9, 6, 0, 5, 3, 6, 3, 8, 2, 0, 9, 9, 0, 3, 2, 4, 7, 8, 2, 7, 5, 5, 2, 6, 0, 9, 7, 6, 2, 1, 8, 4, 4, 7, 7, 8, 9, 6, 5, 8, 9, 7, 9, 4, 0, 3, 2, 6, 3, 7, 4, 9, 5, 4, 4, 1, 9, 2, 0, 6, 8, 3, 9, 7, 4, 7, 9, 5, 3, 8, 0, 2, 3, 4, 4, 2, 4, 8, 0, 5, 8, 1, 2, 5, 3, 1, 6, 1, 6, 1, 6, 4, 3, 9, 4, 6, 3, 1, 1, 6, 9, 3, 7, 2, 3, 5, 3, 5, 6, 0, 6, 1, 7, 2, 8, 0, 8, 3, 1, 3, 9, 2, 7, 0, 8, 0, 0, 3, 0, 6, 5, 1, 3, 6, 2, 9, 7, 5, 6, 4, 3, 6, 2, 1, 7, 3, 5, 9, 4, 3, 6, 8, 1, 1, 3, 8, 3, 4, 2, 2, 1, 1, 4, 2, 8, 1, 8, 9, 0, 8, 1, 8, 1, 9, 9, 0, 0, 4, 7, 1, 0, 8, 1, 3, 9, 9, 7, 1, 2, 9, 3, 6, 1, 8, 8, 6, 7, 9, 3, 8, 2, 5, 3, 1, 9, 0, 0, 7, 3, 5, 9, 5, 6, 3, 2, 2, 4, 4, 9, 5, 8, 8, 5, 1, 9, 6, 7, 0, 4, 4, 5, 2, 9, 2, 1, 0, 9, 7, 7, 7, 6, 0, 1, 9, 4, 0, 8, 4, 1, 3, 9, 3, 1, 0, 3, 6, 3, 7, 6, 6, 8, 1, 8, 1, 7, 3, 3, 6, 1, 2, 5, 0, 1, 2, 9, 1, 4, 1, 9, 2, 1, 7, 5, 7, 6, 3, 4, 4, 8, 7, 8, 0, 2, 1, 6, 5, 4, 0, 0, 9, 1, 7, 1, 1, 4, 8, 7, 9, 2, 9, 1, 6, 4, 1, 2, 2, 1, 1, 7, 3, 9, 4, 7, 9, 9, 0, 0, 4, 1, 1, 3, 8, 5, 0, 1, 4, 6, 6, 7, 8, 9, 7, 5, 2, 6, 1, 1, 3, 6, 8, 0, 2, 5, 7, 8, 5, 0, 4, 4, 4, 3, 1, 2, 9, 1, 3, 7, 6, 9, 1, 9, 3, 7, 1, 7, 1, 8, 3, 6, 0, 1, 5, 6, 6, 2, 3, 9, 7, 6, 6, 9, 7, 6, 6, 2, 4, 5, 8, 1, 2, 3, 7, 9, 5, 9, 4, 1, 0, 3, 1, 2, 7, 9, 0, 2, 4, 1, 8, 5, 4, 2, 0, 0, 2, 7, 0, 8, 0, 4, 6, 3, 4, 0, 6, 7, 1, 7, 3, 3, 1, 6, 3, 5, 9, 9, 1, 6, 1, 1, 4, 0, 9, 2, 7, 7, 3, 2, 8, 3, 0, 6, 6, 1, 6, 1, 9, 8, 7, 5, 5, 7, 5, 0, 9, 4, 1, 8, 8, 1, 1, 4, 7, 8, 6, 8, 2, 9, 8, 1, 5, 3, 2, 7, 5, 1, 0, 1, 0, 3, 3, 1, 5, 8, 8, 9, 3, 1, 3, 8, 6, 5, 1, 6, 9, 3, 8, 7, 9, 0, 8, 8, 4, 9, 5, 7, 8, 9, 8, 4, 4, 9, 1, 0, 9, 6, 7, 0, 6, 1, 3, 0, 6, 8, 2, 0, 1, 5, 6, 4, 8, 2, 5, 3, 3, 8, 1, 3, 3, 2, 0, 5, 2, 5, 1, 1, 8, 3, 9, 3, 4, 7, 3, 4, 7, 6, 7, 9, 7, 7, 1, 5, 9, 2, 8, 6, 7, 7, 1, 5, 4, 4, 0, 9, 7, 1, 6, 3, 0, 2, 7, 2, 7, 1, 3, 9, 4, 2, 8, 6, 8, 5, 8, 0, 5, 2, 1, 7, 3, 9, 8, 0, 9, 2, 9, 9, 6, 6, 3, 2, 6, 9, 5, 5, 4, 1, 1, 4, 6, 0, 7, 5, 8, 0, 0, 3, 9, 8, 1, 0, 9, 2, 6, 2, 0, 2, 9, 2, 0, 7, 9, 7, 5, 1, 1, 5, 7, 7, 7, 3, 4, 1, 0, 6, 9, 9, 6, 9, 1, 5, 4, 5, 8, 9, 9, 1, 1, 7, 9, 1, 7, 7, 6, 5, 8, 2, 7, 1, 3, 6, 8, 5, 2, 7, 1, 4, 0, 8, 5, 8, 5, 1, 3, 4, 5, 5, 2, 1, 3, 5, 2, 2, 9, 4, 4, 9, 5, 9, 1, 3, 2, 9, 6, 2, 2, 0, 7, 5, 7, 3, 2, 9, 4, 6, 2, 9, 2, 2, 8, 1, 0, 0, 9, 0, 6, 2, 4, 1, 0, 4, 3, 1, 1, 4, 9, 0, 8, 2, 9, 5, 0, 2, 3, 0, 7, 2, 2, 2, 0, 1, 1, 1, 7, 6, 1, 7, 7, 8, 0, 5, 0, 9, 1, 0, 2, 3, 4, 9, 9, 2, 6, 5, 0, 5, 3, 7, 3, 3, 4, 4, 7, 8, 1, 9, 3, 4, 5, 2, 7, 4, 3, 5, 7, 4, 1, 8, 4, 3, 7, 6, 2, 3, 0, 7, 1, 4, 3, 9, 9, 1, 7, 5, 6, 8, 4, 1, 1, 5, 2, 2, 2, 8, 4, 0, 7, 6, 4, 3, 2, 3, 1, 7, 6, 7, 6, 8, 9, 0, 7, 3, 6, 9, 6, 9, 4, 6, 9, 5, 9, 7, 1, 5, 9, 3, 2, 7, 6, 7, 8, 1, 6, 1, 8, 9, 7, 7, 1, 6, 0, 5, 8, 5, 7, 1, 4, 7, 2, 1, 7, 6, 6, 2, 4, 2, 3, 5, 5, 2, 9, 0, 2, 8, 3, 7, 8, 2, 0, 7, 2, 7, 2, 9, 1, 2, 0, 2, 9, 3, 0, 6, 2, 8, 0, 3, 7, 4, 1, 4, 0, 3, 1, 4, 5, 7, 9, 3, 1, 9, 5, 0, 4, 7, 2, 2, 1, 9, 5, 7, 2, 6, 2, 6, 7, 7, 8, 0, 5, 2, 7, 0, 2, 0, 2, 0, 2, 4, 2, 5, 9, 2, 3, 2, 7, 5, 1, 4, 2, 5, 6, 1, 9, 8, 8, 9, 4, 5, 3, 8, 8, 6, 8, 6, 5, 0, 0, 6, 9, 5, 4, 4, 4, 2, 2, 2, 1, 7, 7, 8, 0, 0, 1, 6, 5, 4, 2, 0, 2, 5, 7, 8, 5, 2, 4, 4, 9, 4, 4, 6, 6, 4, 0, 3, 9, 1, 3, 2, 4, 0, 0, 1, 1, 7, 6, 2, 5, 1, 2, 7, 5, 1, 8, 0, 1, 5, 7, 8, 5, 9, 1, 2, 7, 7, 0, 0, 1, 7, 3, 0, 3, 1, 4, 1, 3, 8, 3, 7, 3, 9, 1, 7, 7, 1, 2, 6, 5, 8, 0, 3, 2, 0, 6, 5, 4, 6, 7, 0, 3, 4, 6, 3, 5, 2, 7, 7, 5, 5, 4, 9, 0, 3, 1, 5, 3, 1, 2, 0, 2, 4, 8, 9, 4, 2, 9, 2, 5, 9, 5, 3, 4, 2, 6, 6, 5, 2, 9, 9, 7, 7, 7, 7, 4, 4, 8, 8, 7, 6, 9, 4, 4, 9, 0, 9, 6, 7, 2, 9, 4, 1, 9, 6, 7, 5, 7, 6, 0, 6, 9, 9, 9, 4, 2, 5, 5, 3, 0, 3, 6, 1, 8, 4, 6, 2, 7, 2, 7, 9, 9, 3, 4, 7, 1, 7, 6, 6, 1, 3, 0, 1, 3, 0, 1, 3, 2, 6, 5, 3, 9, 3, 9, 9, 3, 3, 0, 7, 5, 9, 6, 6, 4, 6, 9, 7, 3, 6, 1, 6, 8, 6, 7, 7, 1, 6, 0, 4, 2, 2, 5, 8, 9, 1, 9, 2, 3, 3, 7, 9, 1, 9, 7, 1, 8, 8, 5, 6, 7, 6, 0, 7, 6, 3, 1, 0, 7, 9, 5, 7, 8, 1, 0, 9, 9, 4, 0, 0, 7, 7, 4, 4, 7, 1, 5, 7, 1, 3, 3, 0, 0, 9, 1, 7, 0, 2, 0, 1, 5, 0, 3, 7, 9, 2, 4, 4, 9, 8, 2, 0, 4, 3, 6, 1, 9, 4, 8, 9, 6, 8, 9, 4, 9, 8, 5, 9, 2, 3, 8, 6, 5, 4, 5, 0, 1, 9, 0, 5, 8, 1, 1, 5, 4, 8, 2, 5, 9, 5, 1, 1, 8, 8, 0, 8, 4, 1, 9, 3, 2, 0, 2, 4, 4, 0, 6, 0, 1, 9, 9, 9, 4, 1, 4, 9, 1, 6, 5, 1, 1, 3, 1, 7, 4, 6, 3, 9, 5, 7, 7, 5, 4, 8, 5, 5, 2, 4, 8, 8, 3, 1, 1, 3, 2, 9, 0, 4, 9, 7, 9, 0, 5, 3, 1, 4, 2, 0, 4, 1, 0, 7, 1, 9, 4, 8, 1, 4, 7, 8, 8, 1, 5, 4, 3, 0, 5, 9, 5, 9, 5, 0, 9, 5, 1, 7, 8, 8, 7, 2, 1, 9, 9, 6, 3, 8, 8, 7, 9, 7, 6, 3, 3, 5, 3, 2, 0, 1, 8, 1, 1, 9, 1, 3, 0, 6, 2, 0, 0, 6, 9, 0, 1, 7, 3, 2, 6, 7, 7, 7, 7, 2, 2, 8, 1, 0, 9, 0, 2, 0, 7, 3, 7, 4, 5, 7, 5, 1, 1, 6, 7, 4, 7, 2, 6, 1, 0, 8, 2, 9, 8, 4, 5, 2, 6, 2, 1, 9, 3, 1, 1, 6, 3, 8, 3, 6, 7, 6, 0, 9, 6, 2, 9, 6, 0, 5, 8, 0, 1, 0, 8, 7, 2, 9, 6, 4, 0, 2, 4, 1, 2, 0, 1, 4, 7, 6, 6, 9, 1, 7, 0, 7, 1, 1, 8, 8, 5, 2, 9, 1, 2, 0, 0, 7, 5, 9, 0, 3, 2, 6, 7, 5, 3, 2, 1, 9, 4, 6, 5, 9, 1, 8, 8, 8, 1, 8, 8, 3, 4, 3, 5, 6, 2, 1, 8, 6, 4, 6, 3, 6, 8, 1, 5, 0, 5, 0, 0, 9, 8, 1, 9, 0, 8, 8, 4, 2, 5, 4, 3, 1, 4, 2, 3, 4, 5, 0, 0, 3, 0, 6, 6, 1, 9, 1, 4, 9, 8, 2, 0, 4, 1, 5, 6, 4, 9, 4, 1, 0, 4, 1, 7, 0, 7, 3, 6, 7, 9, 6, 2, 6, 8, 5, 0, 8, 3, 1, 0, 2, 2, 5, 5, 1, 8, 1, 9, 1, 6, 9, 9, 9, 3, 2, 0, 7, 3, 1, 6, 2, 3, 8, 5, 1, 6, 7, 9, 3, 9, 5, 5, 5, 4, 3, 9, 4, 0, 3, 7, 8, 5, 3, 1, 5, 0, 7, 9, 0, 4, 0, 0, 4, 8, 5, 1, 8, 9, 0, 0, 7, 4, 5, 8, 6, 9, 4, 7, 7, 1, 6, 8, 3, 4, 7, 6, 3, 0, 7, 9, 6, 5, 3, 9, 2, 3, 0, 1, 2, 8, 9, 8, 3, 9, 3, 3, 8, 9, 2, 7, 9, 2, 9, 7, 5, 2, 4, 8, 5, 7, 4, 5, 9, 4, 7, 5, 6, 0, 3, 6, 5, 0, 4, 8, 3, 9, 2, 7, 0, 7, 7, 3, 9, 3, 2, 0, 6, 2, 4, 0, 1, 4, 0, 6, 7, 0, 0, 5, 5, 2, 1, 3, 7, 1, 2, 6, 3, 8, 7, 0, 2, 9, 5, 4, 2, 3, 2, 8, 0, 0, 7, 7, 3, 3, 5, 8, 2, 7, 8, 9, 5, 1, 1, 3, 6, 1, 2, 7, 5, 2, 2, 1, 3, 7, 3, 7, 5, 6, 9, 7, 4, 9, 0, 8, 8, 6, 7, 1, 5, 7, 4, 9, 0, 9, 9, 6, 1, 7, 2, 4, 3, 3, 9, 7, 3, 6, 0, 0, 1, 3, 0, 5, 2, 8, 9, 7, 5, 2, 5, 8, 0, 9, 7, 6, 7, 6, 2, 3, 3, 7, 7, 3, 2, 0, 3, 4, 6, 8, 2, 3, 1, 1, 6, 9, 3, 1, 8, 1, 8, 3, 0, 6, 3, 2, 4, 3, 9, 2, 0, 9, 5, 9, 5, 2, 7, 5, 8, 0, 3, 1, 9, 1, 0, 1, 9, 5, 9, 2, 2, 2, 1, 5, 9, 2, 2, 6, 8, 3, 9, 1, 9, 1, 0, 3, 2, 9, 7, 4, 4, 2, 2, 6, 1, 1, 9, 1, 5, 2, 8, 3, 0, 5, 6, 8, 3, 6, 2, 7, 9, 0, 8, 5, 7, 4, 6, 9, 8, 3, 7, 5, 2, 7, 6, 6, 7, 7, 8, 6, 2, 3, 8, 9, 8, 8, 7, 3, 5, 2, 8, 8, 8, 0, 6, 6, 0, 0, 0, 1, 0, 6, 3, 4, 2, 0, 6, 2, 0, 9, 8, 1, 6, 7, 5, 1, 9, 1, 8, 9, 0, 8, 1, 2, 4, 8, 5, 1, 5, 3, 6, 1, 4, 2, 6, 7, 5, 5, 4, 2, 7, 5, 5, 2, 4, 3, 1, 9, 5, 6, 1, 7, 1, 3, 4, 6, 7, 9, 7, 1, 3, 0, 1, 8, 5, 2, 1, 1, 9, 4, 9, 3, 4, 1, 5, 3, 0, 1, 0, 6, 7, 3, 7, 5, 0, 7, 7, 7, 7, 1, 4, 4, 6, 9, 9, 5, 7, 1, 8, 8, 9, 4, 1, 6, 7, 3, 4, 4, 8, 3, 2, 7, 4, 9, 1, 9, 0, 4, 8, 6, 3, 5, 3, 7, 1, 5, 7, 9, 7, 0, 3, 1, 7, 2, 7, 0, 1, 5, 2, 6, 7, 5, 7, 4, 6, 7, 2, 8, 2, 9, 6, 6, 5, 9, 7, 8, 2, 4, 9, 5, 4, 4, 9, 6, 7, 1, 8, 6, 0, 3, 2, 7, 5, 9, 5, 2, 3, 5, 5, 7, 9, 7, 9, 2, 2, 8, 5, 2, 7, 5, 0, 1, 1, 8, 0, 8, 5, 6, 3, 0, 8, 4, 9, 6, 4, 1, 0, 9, 3, 3, 4, 2, 8, 1, 1, 6, 5, 1, 2, 7, 8, 6, 2, 8, 7, 8, 9, 7, 7, 0, 2, 3, 0, 8, 9, 8, 4, 4, 3, 9, 7, 7, 9, 3, 3, 3, 3, 8, 0, 6, 2, 7, 7, 2, 5, 2, 7, 8, 0, 5, 3, 4, 4, 3, 2, 5, 2, 0, 9, 7, 2, 6, 1, 0, 4, 5, 3, 2, 7, 4, 4, 4, 6, 4, 7, 9, 2, 1, 8, 8, 3, 5, 2, 9, 1, 2, 7, 1, 4, 4, 6, 5, 7, 2, 6, 4, 9, 1, 6, 9, 0, 9, 8, 1, 1, 0, 0, 9, 6, 1, 1, 4, 0, 7, 3, 2, 1, 0, 3, 2, 3, 9, 7, 4, 0, 7, 5, 5, 4, 1, 4, 8, 7, 2, 0, 3, 1, 0, 6, 1, 1, 7, 7, 6, 8, 0, 5, 5, 9, 2, 2, 5, 9, 8, 5, 2, 9, 8, 6, 7, 1, 0, 7, 8, 5, 1, 9, 1, 3, 1, 8, 2, 5, 3, 4, 7, 3, 4, 5, 7, 0, 5, 6, 8, 3, 3, 4, 6, 3, 1, 3, 7, 1, 8, 1, 1, 9, 4, 1, 3, 6, 1, 2, 1, 5, 2, 7, 2, 6, 1, 8, 9, 4, 7, 1, 6, 6, 7, 4, 0, 2, 3, 3, 1, 7, 6, 0, 7, 8, 7, 8, 2, 3, 2, 6, 7, 2, 9, 8, 7, 6, 1, 6, 0, 3, 5, 4, 4, 9, 4, 7, 1, 5, 9, 9, 2, 6, 9, 1, 1, 9, 9, 4, 2, 7, 9, 2, 7, 2, 7, 8, 8, 6, 3, 6, 7, 6, 2, 1, 9, 8, 1, 2, 0, 8, 5, 9, 5, 9, 5, 1, 5, 1, 7, 3, 8, 4, 8, 5, 2, 9, 7, 7, 3, 1, 1, 8, 9, 1, 0, 3, 8, 4, 0, 0, 7, 4, 5, 3, 7, 9, 2, 1, 2, 2, 3, 4, 4, 7, 1, 7, 3, 3, 7, 7, 2, 9, 2, 4, 2, 0, 9, 5, 8, 2, 1, 3, 9, 5, 2, 0, 2, 4, 0, 9, 6, 5, 9, 1, 1, 9, 5, 0, 4, 5, 9, 5, 2, 0, 8, 6, 8, 9, 8, 2, 9, 5, 8, 0, 6, 0, 9, 9, 9, 7, 3, 4, 7, 8, 1, 4, 6, 7, 7, 0, 3, 1, 8, 4, 3, 2, 9, 6, 1, 7, 6, 4, 9, 4, 9, 8, 1, 3, 7, 7, 1, 8, 6, 9, 0, 7, 0, 3, 4, 0, 2, 0, 2, 7, 2, 8, 0, 9, 1, 4, 2, 0, 5, 1, 0, 6, 3, 5, 7, 9, 6, 6, 5, 1, 0, 3, 6, 4, 4, 4, 7, 9, 5, 3, 7, 7, 8, 4, 0, 4, 9, 6, 3, 9, 6, 6, 0, 9, 9, 4, 1, 9, 2, 8, 4, 5, 1, 3, 8, 1, 5, 6, 2, 2, 3, 6, 9, 4, 1, 2, 1, 6, 6, 5, 3, 0, 1, 7, 1, 4, 1, 9, 0, 7, 7, 8, 1, 4, 7, 7, 7, 3, 2, 5, 7, 6, 0, 3, 4, 7, 7, 9, 4, 2, 5, 0, 6, 7, 6, 0, 7, 4, 9, 0, 2, 9, 3, 2, 4, 8, 2, 1, 0, 7, 3, 3, 2, 1, 4, 0, 2, 7, 8, 6, 8, 1, 3, 1, 9, 1, 3, 9, 2, 6, 1, 1, 1, 7, 9, 6, 4, 6, 4, 0, 4, 6, 0, 5, 2, 7, 1, 3, 3, 3, 2, 4, 2, 6, 8, 8, 3, 4, 5, 3, 1, 6, 4, 5, 0, 6, 5, 1, 7, 3, 5, 1, 1, 8, 4, 8, 1, 9, 6, 9, 1, 5, 2, 4, 3, 8, 0, 8, 1, 9, 6, 9, 7, 4, 8, 2, 3, 2, 5, 5, 9, 1, 4, 8, 9, 4, 7, 9, 6, 3, 9, 7, 8, 2, 8, 1, 7, 1, 0, 4, 8, 8, 1, 4, 7, 0, 8, 4, 0, 5, 8, 6, 0, 7, 7, 5, 5, 5, 1, 4, 8, 0, 0, 3, 6, 1, 6, 0, 7, 2, 9, 1, 6, 9, 7, 5, 4, 3, 8, 4, 2, 2, 8, 6, 2, 8, 8, 1, 5, 4, 9, 1, 0, 2, 2, 0, 6, 1, 3, 5, 9, 0, 8, 0, 8, 7, 4, 4, 7, 9, 1, 7, 9, 8, 8, 7, 9, 8, 1, 2, 7, 4, 5, 3, 0, 5, 7, 4, 3, 1, 3, 0, 9, 8, 9, 6, 4, 1, 0, 6, 0, 1, 1, 0, 3, 4, 2, 2, 1, 9, 1, 1, 6, 4, 2, 1, 0, 7, 8, 1, 1, 4, 8, 4, 3, 7, 8, 7, 9, 9, 0, 1, 9, 1, 6, 2, 1, 4, 7, 8, 0, 2, 9, 3, 8, 1, 1, 2, 6, 7, 7, 0, 4, 5, 2, 1, 3, 1, 2, 1, 3, 9, 0, 8, 1, 4, 0, 8, 6, 0, 8, 2, 0, 0, 5, 7, 4, 6, 1, 1, 4, 3, 5, 9, 8, 7, 6, 8, 5, 2, 0, 3, 8, 8, 2, 0, 2, 4, 7, 2, 4, 2, 7, 8, 3, 7, 2, 8, 0, 5, 8, 7, 9, 7, 0, 9, 4, 2, 0, 7, 6, 3, 5, 1, 7, 7, 8, 2, 4, 6, 2, 3, 9, 3, 2, 9, 1, 5, 9, 8, 5, 9, 7, 6, 1, 7, 6, 3, 0, 4, 3, 8, 4, 7, 3, 6, 1, 3, 0, 5, 1, 6, 3, 9, 0, 1, 2, 0, 6, 7, 2, 0, 1, 2, 2, 2, 7, 6, 4, 0, 3, 7, 4, 2, 1, 1, 2, 9, 0, 0, 7, 3, 3, 2, 1, 7, 9, 0, 5, 1, 2, 6, 7, 4, 2, 2, 6, 1, 1, 4, 4, 1, 4, 3, 4, 8, 1, 7, 5, 7, 0, 8, 6, 1, 3, 0, 7, 3, 7, 1, 1, 7, 6, 9, 4, 3, 6, 0, 6, 2, 9, 2, 6, 1, 9, 1, 7, 0, 7, 3, 5, 3, 0, 7, 9, 8, 2, 6, 3, 9, 6, 4, 1, 2, 6, 6, 4, 1, 7, 1, 4, 8, 0, 9, 8, 9, 7, 4, 1, 5, 0, 2, 1, 8, 7, 3, 2, 6, 4, 8, 3, 1, 6, 9, 8, 2, 7, 0, 1, 9, 3, 7, 7, 7, 7, 9, 5, 2, 3, 6, 6, 0, 2, 9, 3, 7, 2, 1, 3, 8, 6, 7, 2, 0, 1, 8, 2, 9, 1, 9, 3, 6, 8, 8, 1, 1, 3, 1, 7, 9, 4, 1, 8, 1, 6, 6, 4, 1, 2, 6, 9, 3, 3, 1, 0, 5, 2, 8, 3, 5, 2, 4, 8, 6, 1, 1, 5, 5, 8, 7, 4, 7, 2, 0, 9, 7, 8, 1, 7, 9, 2, 1, 2, 1, 6, 4, 3, 1, 6, 9, 2, 2, 0, 1, 1, 0, 4, 6, 4, 8, 0, 9, 1, 4, 0, 2, 8, 5, 7, 2, 7, 3, 1, 8, 5, 2, 4, 8, 0, 4, 1, 6, 4, 8, 2, 6, 2, 4, 7, 9, 4, 7, 6, 8, 0, 2, 4, 8, 3, 1, 0, 8, 7, 5, 4, 0, 3, 8, 3, 4, 4, 6, 8, 6, 4, 0, 2, 6, 9, 8, 0, 3, 4, 3, 0, 8, 9, 1, 7, 1, 3, 0, 8, 4, 7, 0, 2, 6, 1, 3, 6, 0, 4, 6, 6, 7, 6, 8, 0, 9, 9, 0, 2, 8, 9, 3, 6, 1, 6, 2, 3, 7, 5, 8, 8, 3, 3, 0, 9, 6, 2, 7, 0, 9, 9, 1, 2, 6, 6, 1, 4, 8, 8, 9, 8, 9, 7, 1, 6, 2, 7, 9, 8, 8, 0, 1, 0, 0, 2, 4, 4, 9, 1, 0, 1, 6, 2, 5, 6, 8, 7, 6, 8, 0, 4, 7, 6, 7, 1, 5, 4, 7, 2, 7, 7, 8, 2, 3, 4, 4, 8, 0, 6, 6, 9, 4, 5, 2, 4, 6, 8, 1, 6, 9, 6, 5, 6, 2, 7, 6, 9, 6, 7, 1, 6, 8, 3, 7, 7, 8, 4, 4, 6, 1, 6, 0, 1, 8, 3, 1, 1, 7, 9, 3, 6, 8, 5, 2, 9, 1, 4, 8, 4, 5, 9, 6, 6, 5, 1, 3, 0, 1, 4, 2, 1, 5, 5, 0, 7, 3, 9, 2, 8, 8, 4, 8, 6, 7, 4, 6, 0, 7, 2, 8, 4, 3, 8, 1, 3, 9, 1, 0, 9, 5, 8, 0, 7, 1, 4, 7, 8, 7, 8, 3, 5, 0, 4, 4, 5, 3, 4, 9, 7, 1, 3, 5, 2, 5, 7, 0, 1, 2, 7, 9, 5, 8, 1, 1, 8, 0, 1, 6, 5, 1, 7, 5, 1, 5, 7, 5, 0, 9, 5, 7, 4, 2, 7, 3, 1, 8, 6, 3, 6, 5, 1, 6, 9, 7, 6, 2, 3, 1, 7, 9, 9, 5, 2, 2, 4, 0, 7, 6, 6, 1, 1, 1, 8, 7, 1, 7, 2, 7, 9, 2, 2, 4, 0, 0, 1, 2, 4, 9, 2, 7, 4, 2, 9, 8, 2, 4, 3, 4, 8, 8, 3, 4, 3, 3, 7, 6, 8, 5, 2, 9, 9, 1, 1, 3, 3, 0, 6, 9, 3, 8, 5, 0, 3, 9, 1, 1, 6, 4, 2, 9, 2, 3, 6, 4, 1, 9, 0, 3, 8, 5, 1, 5, 4, 3, 8, 1, 5, 0, 8, 3, 2, 9, 0, 9, 0, 9, 0, 0, 8, 4, 3, 1, 7, 7, 4, 0, 2, 6, 2, 4, 0, 1, 3, 0, 7, 8, 9, 9, 7, 1, 5, 2, 4, 8, 7, 1, 1, 6, 2, 3, 2, 8, 8, 9, 5, 9, 4, 4, 6, 2, 9, 7, 9, 5, 0, 6, 3, 0, 1, 5, 4, 8, 9, 9, 9, 9, 5, 3, 7, 3, 9, 7, 5, 0, 4, 4, 2, 9, 0, 8, 5, 3, 2, 2, 1, 7, 6, 3, 6, 9, 7, 2, 3, 4, 6, 6, 4, 5, 8, 1, 4, 4, 1, 3, 0, 6, 7, 6, 1, 1, 2, 6, 9, 8, 6, 9, 1, 0, 7, 5, 1, 9, 3, 1, 3, 8, 0, 8, 7, 2, 6, 2, 7, 8, 0, 1, 2, 4, 8, 2, 7, 0, 0, 3, 4, 7, 2, 9, 3, 8, 5, 1, 7, 9, 3, 3, 2, 5, 0, 1, 3, 5, 2, 8, 9, 4, 9, 2, 4, 1, 4, 1, 4, 6, 0, 8, 4, 9, 1, 6, 4, 9, 0, 1, 4, 7, 9, 3, 9, 9, 4, 4, 5, 6, 0, 0, 7, 7, 0, 6, 8, 1, 8, 8, 1, 4, 7, 4, 2, 9, 1, 5, 4, 7, 6, 7, 4, 2, 3, 9, 7, 1, 6, 5, 5, 1, 3, 7, 4, 1, 5, 8, 5, 6, 5, 0, 0, 8, 3, 9, 0, 5, 4, 6, 7, 4, 6, 9, 6, 4, 7, 8, 8, 0, 5, 2, 4, 6, 0, 6, 6, 5, 0, 5, 1, 5, 7, 7, 3, 7, 0, 3, 0, 3, 5, 3, 8, 7, 6, 0, 9, 3, 5, 0, 2, 7, 6, 6, 4, 7, 8, 7, 1, 1, 2, 9, 6, 1, 0, 2, 2, 8, 1, 3, 5, 2, 5, 9, 8, 8, 6, 6, 5, 0, 1, 6, 9, 5, 2, 7, 2, 3, 4, 1, 8, 9, 4, 0, 7, 2, 1, 0, 9, 5, 6, 8, 0, 3, 5, 7, 5, 5, 8, 7, 2, 3, 6, 1, 1, 9, 5, 3, 1, 3, 3, 6, 8, 3, 5, 0, 7, 1, 5, 8, 5, 6, 6, 1, 3, 2, 8, 1, 1, 9, 8, 5, 9, 5, 5, 1, 7, 1, 1, 6, 5, 7, 2, 3, 3, 5, 7, 3, 9, 2, 3, 5, 1, 6, 7, 7, 7, 0, 3, 6, 7, 1, 9, 6, 3, 7, 0, 6, 9, 4, 2, 1, 1, 2, 9, 8, 3, 2, 0, 2, 3, 7, 6, 9, 6, 6, 6, 4, 6, 1, 0, 2, 3, 0, 4, 7, 6, 8, 8, 7, 2, 6, 3, 2, 2, 4, 7, 0, 0, 1, 0, 0, 0, 3, 8, 1, 8, 0, 1, 9, 3, 0, 9, 5, 5, 5, 5, 1, 3, 8, 7, 3, 2, 0, 6, 6, 6, 7, 4, 1, 7, 5, 2, 1, 4, 7, 2, 4, 0, 6, 4, 4, 5, 1, 5, 8, 8, 7, 7, 7, 1, 5, 4, 6, 7, 2, 7, 1, 5, 9, 9, 7, 8, 2, 1, 8, 6, 6, 1, 4, 1, 0, 0, 2, 1, 2, 8, 9, 7, 2, 9, 5, 7, 0, 8, 0, 0, 0, 7, 3, 5, 4, 1, 4, 0, 2, 0, 0, 2, 2, 8, 3, 5, 6, 8, 7, 2, 4, 3, 9, 6, 4, 9, 5, 6, 1, 2, 3, 1, 1, 2, 2, 3, 2, 7, 0, 6, 9, 0, 1, 0, 8, 8, 6, 4, 2, 0, 9, 9, 6, 1, 6, 7, 9, 0, 1, 3, 1, 2, 7, 8, 9, 1, 9, 1, 0, 7, 6, 5, 0, 5, 3, 5, 5, 8, 7, 3, 3, 2, 3, 3, 6, 6, 3, 1, 1, 4, 6, 8, 5, 3, 9, 5, 4, 1, 6, 7, 0, 2, 0, 8, 1, 7, 5, 2, 8, 3, 3, 1, 1, 3, 2, 0, 8, 1, 6, 8, 3, 0, 3, 0, 4, 2, 7, 8, 1, 3, 2, 3, 6, 5, 8, 3, 7, 0, 1, 9, 8, 0, 8, 0, 5, 6, 1, 4, 8, 7, 1, 3, 4, 0, 3, 6, 3, 0, 3, 8, 4, 5, 8, 1, 2, 0, 4, 9, 3, 3, 3, 7, 3, 5, 3, 1, 6, 0, 5, 9, 5, 1, 5, 5, 6, 9, 7, 0, 1, 1, 6, 8, 5, 9, 0, 6, 5, 0, 8, 2, 1, 3, 0, 5, 6, 5, 6, 1, 8, 0, 0, 5, 9, 7, 9, 5, 2, 2, 9, 4, 8, 8, 3, 4, 7, 4, 8, 5, 3, 7, 7, 1, 6, 7, 2, 0, 1, 2, 2, 3, 5, 6, 1, 7, 7, 9, 3, 4, 2, 8, 0, 6, 8, 9, 8, 7, 8, 7, 2, 7, 1, 0, 9, 6, 3, 7, 5, 7, 2, 5, 5, 6, 6, 4, 8, 5, 7, 6, 6, 2, 6, 4, 1, 4, 5, 6, 2, 1, 6, 6, 1, 5, 8, 0, 7, 4, 6, 4, 6, 3, 1, 1, 6, 6, 9, 3, 9, 2, 6, 5, 9, 5, 7, 5, 3, 9, 6, 6, 8, 6, 5, 9, 6, 0, 6, 2, 4, 6, 2, 2, 3, 4, 6, 0, 7, 5, 3, 0, 5, 1, 3, 1, 8, 8, 9, 8, 4, 1, 4, 2, 3, 8, 8, 7, 1, 4, 1, 0, 0, 5, 0, 7, 9, 9, 2, 1, 6, 4, 4, 9, 1, 3, 8, 4, 0, 4, 5, 0, 4, 1, 6, 3, 4, 1, 5, 9, 1, 7, 5, 8, 2, 3, 5, 9, 8, 9, 2, 4, 6, 1, 9, 9, 0, 1, 4, 1, 7, 1, 5, 1, 1, 4, 5, 6, 7, 3, 5, 2, 0, 1, 7, 1, 6, 8, 6, 7, 7, 3, 8, 8, 7, 7, 1, 3, 2, 0, 5, 0, 4, 2, 8, 6, 4, 7, 8, 9, 4, 1, 7, 1, 4, 0, 5, 3, 6, 6, 0, 6, 8, 1, 1, 9, 8, 2, 0, 2, 7, 0, 3, 6, 1, 6, 6, 1, 2, 1, 0, 1, 3, 0, 5, 8, 2, 7, 6, 2, 1, 4, 0, 8, 1, 3, 1, 6, 1, 9, 6, 2, 8, 8, 2, 0, 0, 6, 3, 4, 8, 4, 0, 0, 5, 4, 0, 2, 8, 4, 0, 5, 6, 6, 8, 1, 2, 4, 4, 7, 2, 1, 5, 2, 6, 6, 3, 8, 8, 1, 8, 1, 5, 5, 0, 1, 9, 9, 9, 5, 3, 7, 9, 8, 8, 2, 3, 4, 8, 5, 4, 0, 7, 2, 1, 4, 4, 7, 3, 9, 7, 4, 5, 5, 4, 0, 2, 2, 6, 7, 5, 3, 7, 6, 1, 2, 8, 2, 0, 8, 9, 9, 6, 5, 4, 9, 6, 5, 1, 6, 2, 7, 8, 7, 6, 4, 1, 6, 3, 9, 2, 6, 1, 8, 8, 4, 0, 6, 4, 5, 9, 5, 6, 3, 3, 2, 0, 4, 2, 9, 4, 1, 3, 4, 7, 4, 5, 9, 4, 7, 7, 8, 6, 4, 4, 0, 0, 0, 7, 7, 0, 7, 0, 6, 0, 0, 0, 1, 5, 4, 6, 8, 5, 5, 4, 9, 1, 3, 1, 0, 2, 6, 5, 4, 2, 1, 9, 6, 7, 7, 8, 3, 8, 4, 4, 9, 3, 0, 7, 1, 1, 0, 5, 6, 8, 1, 0, 3, 3, 1, 2, 9, 9, 5, 1, 7, 3, 7, 7, 2, 7, 6, 6, 5, 3, 8, 1, 1, 1, 3, 9, 6, 6, 1, 5, 7, 4, 6, 8, 1, 7, 1, 5, 9, 0, 6, 3, 1, 2, 8, 3, 9, 8, 3, 9, 7, 2, 8, 4, 3, 9, 1, 1, 3, 1, 7, 5, 0, 2, 4, 5, 8, 4, 2, 8, 2, 5, 2, 3, 5, 7, 6, 8, 8, 5, 8, 1, 9, 9, 8, 7, 1, 9, 7, 8, 6, 6, 2, 1, 7, 3, 1, 5, 1, 6, 2, 0, 2, 0, 0, 2, 3, 4, 9, 0, 8, 6, 5, 8, 5, 0, 2, 7, 4, 4, 2, 1, 3, 4, 4, 5, 3, 8, 0, 1, 2, 0, 1, 8, 7, 0, 4, 3, 2, 3, 2, 3, 0, 3, 9, 3, 0, 3, 4, 9, 8, 7, 8, 4, 7, 9, 7, 6, 9, 6, 4, 7, 6, 1, 1, 6, 2, 7, 9, 5, 3, 1, 9, 0, 2, 9, 9, 7, 6, 7, 3, 7, 1, 4, 7, 7, 6, 1, 0, 5, 0, 7, 5, 4, 0, 8, 9, 2, 0, 0, 9, 0, 8, 2, 6, 2, 4, 7, 5, 3, 8, 0, 1, 4, 7, 4, 4, 5, 5, 9, 4, 9, 6, 3, 4, 9, 1, 1, 9, 1, 5, 4, 1, 8, 5, 2, 6, 3, 4, 6, 0, 6, 4, 4, 3, 3, 4, 4, 2, 8, 4, 0, 6, 1, 2, 7, 9, 6, 5, 4, 9, 3, 2, 5, 1, 3, 0, 9, 3, 0, 6, 2, 1, 6, 6, 2, 6, 5, 8, 7, 2, 4, 1, 9, 9, 7, 0, 6, 8, 3, 9, 0, 4, 4, 3, 8, 0, 0, 6, 7, 1, 1, 4, 9, 9, 8, 4, 8, 1, 0, 2, 5, 7, 4, 7, 6, 3, 7, 8, 2, 1, 3, 6, 8, 9, 6, 4, 5, 1, 2, 3, 1, 7, 6, 7, 9, 5, 3, 2, 4, 4, 3, 2, 8, 8, 0, 2, 7, 4, 6, 3, 3, 2, 3, 3, 0, 9, 4, 8, 5, 6, 6, 3, 8, 7, 1, 4, 0, 8, 5, 1, 0, 7, 1, 4, 2, 5, 4, 3, 6, 2, 3, 6, 5, 3, 2, 1, 3, 1, 9, 9, 4, 6, 9, 8, 0, 9, 2, 0, 3, 5, 9, 5, 9, 0, 2, 9, 4, 9, 3, 4, 8, 9, 3, 6, 0, 5, 1, 9, 1, 5, 2, 1, 2, 3, 9, 6, 2, 4, 6, 6, 0, 9, 1, 3, 7, 7, 4, 6, 8, 2, 1, 8, 3, 1, 2, 6, 2, 1, 0, 0, 6, 2, 5, 4, 6, 2, 8, 9, 8, 8, 7, 0, 5, 2, 9, 1, 1, 1, 6, 7, 2, 7, 8, 0, 5, 2, 0, 6, 2, 3, 8, 4, 0, 7, 1, 9, 6, 4, 0, 2, 3, 8, 7, 8, 6, 7, 1, 0, 3, 0, 9, 2, 9, 2, 8, 0, 5, 0, 3, 6, 1, 4, 9, 1, 5, 2, 3, 0, 7, 2, 9, 2, 6, 7, 9, 4, 3, 7, 3, 0, 4, 9, 6, 9, 9, 4, 5, 3, 3, 4, 1, 8, 8, 1, 4, 8, 7, 4, 3, 8, 4, 8, 6, 4, 3, 4, 8, 5, 6, 8, 7, 5, 3, 8, 7, 9, 3, 0, 0, 5, 3, 9, 8, 4, 3, 2, 7, 1, 0, 7, 1, 1, 7, 7, 0, 0, 5, 1, 8, 7, 7, 4, 2, 4, 7, 5, 0, 8, 9, 7, 9, 5, 0, 7, 0, 7, 7, 8, 3, 3, 4, 5, 1, 6, 9, 7, 1, 2, 2, 9, 6, 6, 1, 4, 2, 0, 5, 8, 1, 6, 5, 6, 3, 7, 7, 2, 7, 6, 9, 5, 3, 1, 1, 6, 4, 3, 6, 1, 4, 8, 4, 1, 6, 1, 9, 7, 7, 7, 1, 7, 9, 3, 7, 4, 6, 7, 7, 3, 7, 6, 2, 8, 8, 9, 3, 3, 4, 3, 2, 1, 9, 0, 7, 3, 5, 1, 5, 9, 0, 4, 2, 8, 6, 6, 3, 9, 0, 8, 4, 9, 9, 7, 8, 1, 8, 0, 9, 7, 1, 9, 2, 5, 1, 3, 0, 2, 7, 6, 2, 3, 9, 7, 2, 7, 0, 7, 7, 6, 0, 6, 8, 4, 7, 5, 3, 2, 3, 2, 2, 3, 4, 4, 4, 7, 4, 0, 7, 9, 6, 2, 3, 2, 5, 3, 9, 8, 6, 7, 5, 0, 6, 7, 8, 0, 2, 7, 9, 2, 8, 5, 3, 4, 5, 7, 1, 3, 3, 3, 8, 0, 0, 2, 4, 1, 7, 4, 8, 3, 1, 5, 2, 6, 8, 3, 5, 8, 0, 5, 0, 1, 5, 4, 3, 6, 6, 8, 0, 5, 4, 0, 6, 0, 5, 9, 3, 3, 0, 1, 7, 2, 2, 2, 8, 9, 0, 8, 5, 9, 8, 2, 9, 4, 3, 2, 9, 2, 9, 4, 1, 7, 2, 1, 3, 3, 7, 1, 1, 7, 7, 9, 9, 3, 5, 8, 3, 5, 1, 4, 6, 9, 4, 0, 3, 6, 3, 6, 6, 2, 9, 9, 9, 7, 8, 6, 6, 0, 5, 1, 3, 1, 4, 6, 2, 0, 2, 2, 2, 8, 3, 2, 0, 1, 0, 1, 7, 6, 9, 4, 9, 9, 4, 7, 8, 9, 7, 9, 6, 3, 9, 5, 0, 8, 7, 0, 6, 8, 8, 5, 7, 5, 4, 7, 8, 8, 3, 3, 2, 3, 6, 3, 8, 5, 5, 2, 5, 2, 4, 2, 9, 3, 9, 9, 2, 6, 9, 6, 0, 0, 9, 0, 8, 2, 1, 7, 6, 2, 0, 1, 6, 2, 3, 8, 9, 1, 2, 5, 8, 2, 0, 7, 7, 1, 1, 0, 8, 6, 7, 4, 4, 7, 3, 2, 0, 9, 4, 2, 7, 7, 1, 3, 4, 1, 3, 6, 3, 6, 6, 9, 5, 2, 4, 5, 1, 3, 6, 4, 4, 2, 0, 2, 7, 1, 9, 8, 2, 4, 6, 6, 3, 6, 8, 2, 8, 6, 1, 8, 7, 3, 6, 6, 5, 7, 0, 2, 1, 3, 4, 9, 4, 3, 9, 2, 7, 1, 3, 2, 0, 3, 3, 9, 0, 4, 0, 6, 9, 5, 3, 7, 4, 5, 0, 1, 5, 0, 4, 2, 3, 4, 0, 1, 0, 5, 8, 4, 0, 3, 5, 8, 6, 9, 4, 4, 7, 4, 3, 5, 0, 9, 2, 3, 6, 9, 8, 2, 5, 8, 7, 0, 2, 2, 5, 6, 7, 2, 2, 5, 1, 8, 5, 7, 2, 2, 8, 3, 7, 7, 6, 6, 4, 4, 1, 5, 8, 9, 0, 8, 8, 2, 3, 6, 2, 9, 8, 0, 2, 0, 5, 4, 8, 7, 4, 6, 6, 2, 9, 2, 2, 6, 2, 4, 0, 7, 6, 2, 1, 2, 6, 4, 4, 5, 2, 6, 7, 9, 6, 2, 4, 9, 8, 2, 4, 9, 6, 7, 8, 1, 0, 9, 8, 6, 4, 3, 8, 4, 7, 5, 1, 9, 1, 4, 3, 0, 4, 8, 0, 9, 0, 0, 3, 2, 7, 1, 4, 2, 8, 4, 7, 8, 4, 3, 1, 0, 3, 2, 4, 2, 2, 7, 9, 4, 1, 4, 2, 3, 9, 8, 2, 9, 1, 6, 6, 9, 6, 1, 4, 0, 9, 9, 3, 9, 6, 8, 4, 0, 7, 0, 0, 2, 8, 3, 1, 1, 3, 7, 0, 6, 7, 7, 0, 0, 6, 0, 3, 9, 5, 4, 6, 1, 7, 6, 3, 9, 8, 7, 8, 0, 4, 3, 8, 0, 1, 7, 7, 3, 0, 6, 2, 8, 2, 8, 4, 9, 6, 3, 4, 3, 9, 7, 1, 3, 2, 6, 2, 5, 5, 2, 9, 6, 8, 6, 7, 0, 8, 9, 4, 0, 2, 1, 5, 1, 6, 8, 1, 0, 2, 5, 2, 9, 8, 5, 3, 6, 8, 7, 2, 1, 8, 3, 2, 0, 4, 8, 0, 9, 5, 0, 2, 6, 0, 2, 6, 3, 3, 6, 2, 8, 1, 7, 6, 8, 1, 2, 5, 5, 4, 0, 0, 1, 8, 2, 0, 7, 9, 9, 2, 0, 4, 7, 0, 6, 0, 3, 1, 8, 2, 2, 6, 2, 7, 6, 0, 0, 5, 1, 6, 3, 7, 8, 1, 5, 5, 2, 0, 6, 4, 5, 8, 3, 7, 7, 1, 5, 8, 1, 8, 3, 3, 6, 8, 5, 0, 9, 8, 6, 2, 5, 1, 5, 0, 9, 8, 0, 5, 5, 8, 2, 0, 0, 5, 2, 2, 8, 3, 1, 3, 5, 8, 1, 0, 6, 8, 3, 1, 6, 0, 0, 2, 1, 8, 2, 6, 9, 6, 3, 7, 5, 3, 7, 2, 1, 9, 9, 0, 0, 3, 6, 2, 6, 9, 2, 1, 4, 3, 0, 3, 1, 8, 7, 8, 7, 1, 3, 5, 1, 1, 4, 2, 3, 4, 9, 2, 0, 1, 5, 3, 1, 4, 0, 6, 0, 7, 1, 7, 1, 2, 7, 4, 0, 9, 6, 2, 6, 3, 2, 4, 7, 5, 1, 0, 4, 3, 5, 9, 1, 4, 3, 6, 3, 5, 5, 7, 6, 9, 6, 7, 5, 6, 9, 8, 5, 1, 3, 0, 6, 7, 8, 7, 6, 7, 4, 7, 6, 3, 7, 3, 6, 1, 8, 2, 7, 8, 7, 9, 4, 1, 8, 8, 7, 3, 8, 8, 5, 0, 2, 7, 8, 9, 9, 7, 7, 2, 3, 1, 4, 8, 5, 9, 0, 4, 6, 1, 5, 3, 8, 3, 0, 1, 8, 1, 4, 6, 8, 7, 2, 8, 0, 5, 3, 4, 6, 3, 0, 2, 4, 4, 9, 1, 5, 1, 0, 2, 4, 4, 1, 2, 4, 5, 5, 9, 9, 2, 2, 2, 4, 4, 9, 6, 2, 5, 2, 2, 0, 2, 7, 9, 5, 0, 7, 0, 8, 0, 1, 7, 8, 2, 7, 4, 0, 8, 9, 4, 9, 3, 5, 0, 3, 3, 8, 0, 7, 0, 6, 7, 2, 0, 3, 6, 2, 1, 8, 6, 0, 1, 3, 8, 0, 3, 6, 3, 8, 1, 1, 2, 6, 8, 8, 9, 4, 9, 5, 7, 9, 6, 6, 4, 9, 0, 4, 0, 1, 3, 0, 0, 5, 9, 7, 2, 1, 6, 7, 2, 2, 1, 8, 8, 8, 9, 6, 2, 9, 9, 7, 4, 0, 9, 6, 8, 3, 4, 9, 7, 9, 5, 4, 7, 0, 4, 6, 4, 4, 4, 9, 7, 7, 8, 0, 0, 5, 6, 7, 2, 1, 3, 9, 8, 0, 1, 3, 8, 4, 3, 1, 2, 8, 4, 4, 5, 1, 4, 0, 3, 8, 8, 7, 1, 1, 6, 8, 2, 8, 6, 3, 4, 5, 9, 4, 2, 3, 1, 2, 0, 8, 3, 5, 8, 5, 2, 2, 3, 0, 1, 1, 4, 8, 2, 7, 6, 0, 6, 5, 8, 4, 3, 3, 3, 2, 9, 5, 7, 4, 7, 2, 5, 9, 5, 4, 7, 8, 4, 3, 2, 3, 6, 9, 2, 6, 3, 4, 4, 6, 1, 9, 5, 5, 2, 2, 9, 0, 8, 7, 8, 0, 8, 6, 2, 5, 5, 0, 5, 4, 2, 6, 0, 9, 8, 5, 9, 6, 1, 9, 3, 7, 1, 3, 7, 4, 1, 1, 7, 6, 9, 5, 8, 0, 8, 5, 3, 8, 0, 1, 4, 8, 6, 6, 9, 5, 8, 0, 7, 3, 4, 9, 2, 9, 4, 3, 1, 0, 8, 5, 3, 2, 4, 5, 2, 1, 3, 8, 8, 4, 9, 7, 9, 5, 7, 0, 7, 7, 5, 8, 8, 7, 1, 2, 0, 0, 0, 7, 6, 6, 8, 0, 1, 3, 0, 2, 6, 3, 6, 8, 0, 5, 6, 3, 0, 2, 7, 7, 0, 1, 4, 8, 5, 5, 1, 9, 5, 4, 4, 2, 0, 1, 7, 6, 6, 7, 0, 6, 4, 9, 8, 8, 9, 3, 3, 1, 0, 4, 4, 7, 0, 5, 7, 6, 7, 8, 1, 3, 4, 6, 7, 0, 4, 3, 2, 5, 3, 7, 3, 7, 1, 9, 1, 3, 4, 0, 1, 7, 4, 2, 4, 3, 5, 4, 0, 6, 2, 2, 6, 9, 3, 3, 9, 9, 8, 1, 5, 1, 7, 0, 3, 1, 9, 2, 8, 4, 8, 2, 1, 7, 0, 0, 1, 8, 7, 4, 9, 9, 7, 0, 5, 1, 5, 8, 6, 8, 5, 6, 3, 6, 1, 1, 9, 6, 4, 3, 6, 8, 8, 5, 3, 9, 7, 2, 7, 1, 5, 9, 1, 3, 9, 5, 0, 4, 6, 3, 5, 3, 3, 6, 1, 3, 2, 3, 2, 2, 6, 2, 0, 1, 2, 7, 2, 5, 6, 2, 8, 4, 6, 8, 8, 8, 2, 4, 8, 7, 6, 6, 7, 3, 7, 7, 4, 0, 1, 3, 9, 2, 0, 0, 5, 4, 7, 8, 6, 8, 7, 8, 4, 3, 3, 1, 3, 2, 5, 6, 0, 3, 5, 0, 3, 7, 7, 8, 6, 3, 6, 9, 5, 9, 2, 1, 2, 3, 5, 2, 2, 2, 1, 3, 3, 5, 8, 7, 9, 3, 4, 2, 7, 1, 7, 8, 2, 2, 3, 9, 5, 5, 7, 2, 3, 9, 0, 5, 5, 6, 6, 9, 3, 6, 5, 9, 2, 0, 7, 9, 7, 7, 1, 2, 0, 3, 2, 8, 0, 3, 3, 6, 3, 0, 5, 2, 6, 6, 7, 8, 0, 1, 8, 7, 1, 2, 9, 2, 5, 7, 6, 3, 6, 7, 0, 4, 5, 1, 9, 4, 6, 0, 5, 8, 4, 0, 4, 3, 3, 1, 5, 1, 5, 1, 2, 1, 0, 9, 6, 7, 5, 9, 9, 3, 4, 7, 7, 5, 6, 3, 9, 0, 4, 4, 0, 8, 5, 8, 1, 5, 5, 5, 7, 8, 5, 0, 7, 0, 4, 4, 4, 5, 6, 4, 2, 8, 2, 6, 8, 1, 2, 3, 8, 9, 8, 3, 9, 9, 6, 7, 1, 2, 7, 7, 3, 3, 1, 1, 9, 7, 2, 1, 8, 1, 2, 7, 8, 5, 0, 4, 3, 8, 8, 4, 3, 3, 2, 9, 0, 7, 7, 1, 9, 0, 4, 2, 2, 8, 7, 4, 3, 7, 4, 2, 3, 4, 0, 5, 3, 3, 0, 1, 2, 5, 0, 3, 5, 7, 3, 7, 8, 7, 4, 9, 1, 5, 0, 8, 2, 9, 2, 1, 0, 1, 2, 6, 9, 2, 8, 3, 5, 3, 5, 9, 1, 4, 7, 1, 8, 1, 8, 8, 9, 4, 6, 1, 9, 9, 3, 4, 1, 2, 2, 3, 5, 9, 0, 7, 2, 8, 2, 9, 9, 9, 9, 0, 7, 8, 2, 3, 3, 1, 9, 9, 8, 8, 3, 5, 1, 2, 1, 7, 2, 0, 7, 3, 8, 1, 7, 0, 6, 4, 0, 8, 1, 8, 7, 7, 4, 7, 3, 2, 9, 6, 7, 5, 9, 7, 4, 6, 2, 7, 6, 7, 1, 3, 7, 0, 3, 1, 4, 7, 5, 2, 0, 4, 4, 9, 7, 4, 9, 0, 9, 0, 2, 1, 6, 6, 3, 6, 4, 9, 2, 2, 3, 1, 1, 0, 7, 1, 2, 7, 9, 0, 4, 0, 6, 7, 1, 0, 9, 1, 5, 0, 8, 4, 8, 7, 0, 5, 0, 3, 6, 2, 0, 8, 2, 7, 6, 0, 8, 5, 5, 2, 8, 9, 4, 2, 0, 9, 3, 8, 1, 0, 6, 7, 2, 7, 0, 3, 1, 9, 2, 1, 9, 7, 3, 0, 6, 4, 2, 2, 5, 3, 7, 8, 8, 5, 7, 4, 2, 7, 4, 4, 0, 3, 8, 9, 9, 2, 8, 8, 8, 0, 3, 1, 1, 1, 0, 9, 0, 4, 1, 7, 4, 7, 6, 1, 1, 4, 3, 7, 1, 5, 6, 9, 5, 8, 9, 3, 2, 9, 1, 2, 3, 9, 6, 3, 6, 7, 9, 1, 7, 3, 2, 5, 2, 9, 7, 2, 6, 2, 8, 6, 5, 7, 7, 3, 5, 8, 0, 0, 4, 2, 2, 5, 1, 9, 5, 9, 6, 5, 0, 8, 3, 3, 7, 6, 1, 8, 3, 5, 8, 0, 8, 4, 0, 7, 8, 6, 1, 4, 6, 5, 0, 4, 9, 7, 1, 9, 6, 6, 6, 5, 4, 8, 8, 7, 2, 4, 5, 7, 5, 0, 0, 0, 8, 0, 7, 7, 0, 2, 6, 9, 3, 9, 8, 7, 2, 9, 7, 3, 9, 5, 9, 9, 0, 7, 5, 8, 4, 5, 8, 7, 8, 9, 1, 2, 2, 7, 7, 4, 7, 0, 6, 3, 9, 7, 2, 5, 0, 1, 2, 9, 1, 8, 4, 0, 6, 4, 9, 5, 3, 0, 2, 0, 1, 4, 9, 8, 0, 5, 7, 4, 4, 2, 0, 2, 4, 2, 1, 8, 3, 9, 0, 1, 0, 4, 7, 6, 5, 0, 5, 6, 1, 0, 0, 0, 7, 0, 3, 7, 7, 3, 7, 7, 8, 4, 4, 8, 3, 3, 0, 6, 4, 1, 0, 0, 2, 3, 2, 1, 1, 7, 3, 7, 6, 8, 6, 3, 4, 6, 4, 4, 3, 3, 4, 2, 3, 1, 3, 8, 5, 1, 2, 4, 0, 3, 6, 2, 2, 1, 2, 9, 0, 6, 1, 2, 4, 1, 3, 9, 7, 6, 0, 4, 5, 8, 3, 7, 2, 3, 4, 4, 8, 4, 6, 2, 1, 7, 7, 5, 8, 1, 2, 8, 3, 5, 1, 6, 9, 0, 9, 4, 7, 1, 0, 7, 0, 5, 3, 7, 5, 6, 9, 9, 4, 6, 0, 8, 9, 7, 9, 7, 1, 7, 1, 2, 6, 7, 8, 0, 8, 2, 5, 9, 7, 1, 2, 6, 0, 5, 6, 6, 1, 0, 0, 2, 4, 9, 8, 4, 6, 8, 0, 2, 8, 9, 9, 7, 4, 1, 1, 7, 4, 1, 5, 7, 6, 2, 2, 3, 0, 7, 4, 0, 7, 2, 6, 0, 3, 6, 1, 2, 3, 3, 5, 7, 0, 5, 6, 2, 3, 6, 1, 4, 4, 0, 9, 8, 9, 8, 7, 4, 8, 4, 3, 9, 7, 8, 3, 8, 3, 6, 7, 3, 0, 1, 2, 3, 8, 2, 0, 8, 0, 3, 4, 2, 2, 3, 4, 0, 7, 3, 2, 2, 9, 4, 5, 1, 0, 5, 9, 6, 1, 5, 0, 7, 6, 4, 2, 5, 3, 7, 9, 3, 9, 1, 8, 1, 6, 2, 3, 4, 8, 0, 9, 1, 9, 4, 4, 6, 2, 6, 0, 5, 7, 0, 8, 7, 8, 9, 9, 0, 7, 7, 3, 2, 6, 0, 2, 6, 3, 5, 2, 1, 1, 1, 0, 1, 0, 8, 0, 6, 6, 4, 2, 8, 1, 9, 3, 9, 7, 8, 8, 4, 6, 2, 1, 7, 6, 8, 0, 7, 7, 5, 7, 2, 4, 3, 3, 6, 7, 6, 5, 9, 2, 9, 4, 4, 1, 0, 1, 4, 5, 4, 4, 6, 8, 5, 2, 3, 5, 2, 8, 5, 5, 3, 0, 8, 3, 3, 3, 9, 0, 3, 0, 3, 0, 3, 2, 9, 7, 5, 4, 9, 2, 4, 0, 1, 0, 6, 3, 0, 2, 8, 1, 3, 5, 5, 8, 9, 2, 7, 1, 6, 4, 6, 7, 2, 0, 4, 9, 6, 1, 8, 0, 4, 9, 5, 1, 6, 1, 1, 0, 9, 5, 9, 7, 9, 1, 0, 0, 0, 1, 7, 5, 8, 9, 7, 9, 9, 4, 6, 7, 7, 3, 6, 8, 0, 2, 0, 3, 1, 6, 2, 9, 6, 1, 8, 8, 1, 2, 8, 6, 1, 4, 3, 5, 2, 6, 0, 1, 9, 7, 5, 7, 3, 1, 6, 1, 0, 7, 5, 4, 2, 7, 3, 7, 3, 6, 4, 9, 5, 5, 1, 4, 6, 3, 9, 7, 8, 1, 8, 5, 7, 0, 6, 8, 5, 2, 5, 4, 1, 5, 4, 7, 5, 8, 3, 2, 1, 9, 2, 2, 5, 6, 1, 4, 1, 1, 1, 8, 1, 4, 7, 9, 3, 6, 8, 1, 5, 3, 9, 2, 4, 2, 5, 0, 4, 2, 1, 8, 4, 5, 4, 1, 6, 5, 5, 8, 2, 2, 9, 0, 3, 3, 8, 2, 8, 8, 4, 7, 4, 6, 7, 4, 4, 1, 5, 7, 9, 2, 6, 1, 0, 7, 1, 0, 9, 3, 7, 6, 7, 7, 2, 6, 7, 4, 3, 1, 7, 0, 5, 6, 7, 6, 6, 5, 7, 3, 4, 6, 0, 0, 6, 4, 2, 1, 4, 6, 3, 0, 9, 9, 5, 4, 2, 6, 0, 2, 4, 0, 1, 1, 0, 5, 9, 1, 1, 9, 9, 2, 4, 1, 0, 8, 3, 1, 8, 7, 2, 9, 8, 8, 0, 7, 9, 7, 2, 4, 1, 6, 9, 4, 8, 3, 6, 1, 3, 2, 3, 7, 5, 4, 3, 4, 2, 0, 7, 1, 6, 8, 1, 8, 1, 3, 0, 1, 0, 4, 8, 4, 5, 5, 2, 1, 8, 3, 8, 7, 8, 4, 2, 3, 6, 4, 5, 3, 1, 8, 0, 2, 7, 3, 7, 8, 5, 7, 6, 6, 3, 8, 5, 7, 1, 9, 6, 0, 5, 0, 2, 7, 9, 7, 8, 5, 5, 2, 1, 8, 7, 1, 7, 3, 5, 0, 0, 9, 6, 7, 6, 6, 2, 4, 9, 8, 6, 8, 2, 5, 8, 9, 5, 6, 2, 7, 1, 7, 8, 5, 3, 1, 3, 8, 9, 6, 4, 9, 1, 8, 0, 8, 6, 2, 9, 4, 2, 1, 7, 6, 3, 1, 7, 7, 0, 8, 3, 4, 7, 2, 9, 5, 1, 0, 7, 6, 7, 8, 4, 5, 3, 0, 8, 2, 8, 0, 5, 0, 5, 0, 1, 9, 2, 3, 7, 3, 9, 9, 5, 8, 7, 0, 2, 9, 3, 3, 2, 6, 6, 8, 7, 7, 0, 9, 1, 7, 3, 3, 7, 5, 6, 0, 4, 9, 8, 2, 3, 4, 3, 3, 4, 3, 4, 5, 9, 1, 4, 0, 2, 7, 5, 3, 1, 6, 1, 8, 4, 8, 7, 5, 2, 5, 1, 7, 4, 8, 0, 5, 7, 4, 8, 2, 5, 9, 3, 4, 5, 6, 7, 5, 9, 8, 3, 7, 7, 3, 2, 8, 1, 2, 0, 1, 2, 0, 4, 1, 9, 0, 1, 4, 3, 1, 9, 4, 4, 5, 4, 5, 8, 0, 5, 0, 0, 9, 3, 2, 5, 9, 7, 4, 8, 7, 8, 0, 9, 4, 3, 3, 0, 7, 6, 6, 8, 8, 2, 1, 4, 9, 6, 9, 7, 5, 0, 4, 2, 9, 2, 8, 6, 6, 8, 3, 2, 0, 9, 1, 5, 3, 1, 0, 4, 9, 5, 9, 6, 3, 0, 9, 6, 7, 2, 7, 3, 0, 3, 3, 1, 8, 7, 2, 8, 7, 7, 0, 0, 6, 2, 8, 1, 0, 5, 9, 2, 5, 9, 2, 4, 0, 4, 0, 8, 4, 3, 1, 6, 4, 4, 1, 0, 9, 8, 8, 1, 1, 9, 8, 6, 4, 1, 8, 8, 1, 5, 1, 6, 3, 3, 5, 5, 4, 1, 2, 3, 6, 3, 8, 6, 1, 3, 4, 7, 7, 1, 5, 7, 3, 0, 6, 3, 4, 8, 2, 8, 6, 7, 5, 8, 8, 3, 2, 1, 6, 9, 8, 9, 0, 9, 1, 5, 9, 4, 6, 2, 2, 2, 5, 1, 9, 4, 0, 1, 1, 3, 4, 0, 6, 9, 8, 6, 7, 2, 4, 0, 6, 8, 0, 2, 5, 1, 5, 4, 4, 7, 1, 1, 0, 7, 7, 0, 9, 9, 2, 6, 5, 9, 1, 9, 6, 7, 9, 9, 2, 8, 2, 5, 0, 1, 1, 3, 1, 7, 2, 3, 9, 9, 1, 9, 3, 4, 0, 3, 3, 5, 0, 4, 8, 0, 3, 6, 0, 1, 9, 3, 1, 1, 0, 4, 5, 2, 2, 9, 6, 7, 6, 1, 9, 7, 9, 7, 3, 9, 2]\n",
      "28000\n"
     ]
    }
   ],
   "source": [
    "\n",
    "# Prepare test predictions\n",
    "predictions = []\n",
    "with torch.no_grad():\n",
    "    for X_batch in test_loader:\n",
    "        X_batch = X_batch.to(device)\n",
    "        outputs = model(X_batch)\n",
    "        _, predicted = torch.max(outputs, 1)\n",
    "        predictions.extend(predicted.cpu().numpy())\n",
    "\n",
    "# print\n",
    "print(predictions)\n",
    "print(len(predictions))"
   ]
  },
  {
   "cell_type": "code",
   "execution_count": 197,
   "metadata": {},
   "outputs": [
    {
     "name": "stdout",
     "output_type": "stream",
     "text": [
      "Submission file saved as 'submission.csv'\n"
     ]
    }
   ],
   "source": [
    "import pandas as pd\n",
    "# Save submission\n",
    "submission = pd.DataFrame({'ImageId': range(1, len(predictions) + 1), 'Label': predictions})\n",
    "submission.to_csv('./submission.csv', index=False)\n",
    "\n",
    "print(\"Submission file saved as 'submission.csv'\")"
   ]
  },
  {
   "cell_type": "code",
   "execution_count": null,
   "metadata": {},
   "outputs": [],
   "source": []
  }
 ],
 "metadata": {
  "kernelspec": {
   "display_name": "data",
   "language": "python",
   "name": "python3"
  },
  "language_info": {
   "codemirror_mode": {
    "name": "ipython",
    "version": 3
   },
   "file_extension": ".py",
   "mimetype": "text/x-python",
   "name": "python",
   "nbconvert_exporter": "python",
   "pygments_lexer": "ipython3",
   "version": "3.11.5"
  }
 },
 "nbformat": 4,
 "nbformat_minor": 2
}
